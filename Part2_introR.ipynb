{
  "nbformat": 4,
  "nbformat_minor": 0,
  "metadata": {
    "colab": {
      "provenance": [],
      "collapsed_sections": [],
      "authorship_tag": "ABX9TyMv9ErhvsR3f7ua1tuBfGcY",
      "include_colab_link": true
    },
    "kernelspec": {
      "name": "ir",
      "display_name": "R"
    },
    "language_info": {
      "name": "R"
    }
  },
  "cells": [
    {
      "cell_type": "markdown",
      "metadata": {
        "id": "view-in-github",
        "colab_type": "text"
      },
      "source": [
        "<a href=\"https://colab.research.google.com/github/alicewu1/intro-to-R/blob/main/Part2_introR.ipynb\" target=\"_parent\"><img src=\"https://colab.research.google.com/assets/colab-badge.svg\" alt=\"Open In Colab\"/></a>"
      ]
    },
    {
      "cell_type": "markdown",
      "source": [
        "# ***Introduction to R ***\n",
        "---\n",
        "- Name: Alice Wu\n",
        "- For: HHA507 / Data Science / Assignment 8 / Intro to R\n",
        "- Complete Chapter 1, 2, 3 from this [resource](https://bookdown.org/vaabe/bookdown-demo/the-r-environment.html)"
      ],
      "metadata": {
        "id": "37mZj2dcUT_t"
      }
    },
    {
      "cell_type": "markdown",
      "metadata": {
        "collapsed": false,
        "id": "_FCJFBrqUnCG"
      },
      "source": [
        "R is a powerful software environment for data analysis, graphics, and especially statistical analysis. It is available free to the public at www.r-project.org with easily installed binaries for Linux, MacOS and Windows.  This notebook provides an introduction to R designed for students and researchers in astronomy.  No previous experience is needed, although some familiarity with scripting languages like Matlab or IDL is helpful.  "
      ]
    },
    {
      "cell_type": "markdown",
      "source": [
        "# Setting Up the Colab Notebook\n",
        "Create a new R-notebook using: [colab.to/r ](https://colab.to/r )"
      ],
      "metadata": {
        "id": "q6JLf_ojVg69"
      }
    },
    {
      "cell_type": "code",
      "execution_count": 6,
      "metadata": {
        "colab": {
          "base_uri": "https://localhost:8080/",
          "height": 468
        },
        "id": "OWPGcLgdUHGi",
        "outputId": "49c44b5e-0df1-46e8-eef3-54e2f276b162"
      },
      "outputs": [
        {
          "output_type": "display_data",
          "data": {
            "text/plain": [
              "R version 4.2.1 (2022-06-23)\n",
              "Platform: x86_64-pc-linux-gnu (64-bit)\n",
              "Running under: Ubuntu 18.04.6 LTS\n",
              "\n",
              "Matrix products: default\n",
              "BLAS:   /usr/lib/x86_64-linux-gnu/openblas/libblas.so.3\n",
              "LAPACK: /usr/lib/x86_64-linux-gnu/libopenblasp-r0.2.20.so\n",
              "\n",
              "locale:\n",
              " [1] LC_CTYPE=en_US.UTF-8       LC_NUMERIC=C              \n",
              " [3] LC_TIME=en_US.UTF-8        LC_COLLATE=en_US.UTF-8    \n",
              " [5] LC_MONETARY=en_US.UTF-8    LC_MESSAGES=en_US.UTF-8   \n",
              " [7] LC_PAPER=en_US.UTF-8       LC_NAME=C                 \n",
              " [9] LC_ADDRESS=C               LC_TELEPHONE=C            \n",
              "[11] LC_MEASUREMENT=en_US.UTF-8 LC_IDENTIFICATION=C       \n",
              "\n",
              "attached base packages:\n",
              "[1] stats     graphics  grDevices utils     datasets  methods   base     \n",
              "\n",
              "loaded via a namespace (and not attached):\n",
              " [1] fansi_1.0.3     crayon_1.5.2    digest_0.6.29   utf8_1.2.2     \n",
              " [5] IRdisplay_1.1   repr_1.1.4      lifecycle_1.0.3 jsonlite_1.8.2 \n",
              " [9] evaluate_0.17   pillar_1.8.1    rlang_1.0.6     cli_3.4.1      \n",
              "[13] uuid_1.1-0      vctrs_0.4.2     IRkernel_1.3    tools_4.2.1    \n",
              "[17] glue_1.6.2      fastmap_1.1.0   compiler_4.2.1  base64enc_0.1-3\n",
              "[21] pbdZMQ_0.3-7    htmltools_0.5.3"
            ]
          },
          "metadata": {}
        }
      ],
      "source": [
        "# I.  Set up your session\n",
        "\n",
        "sessionInfo()  "
      ]
    },
    {
      "cell_type": "code",
      "source": [
        "getwd()                     # find working directory.  \n",
        "#setwd('/Users/ericfeigelson/Desktop/Rdir')  # set working directory if you run \n",
        "                                             # locally on your computer\n",
        "#getwd()                     # see the working directory has changed"
      ],
      "metadata": {
        "colab": {
          "base_uri": "https://localhost:8080/",
          "height": 34
        },
        "id": "CXoqQvOlWDK2",
        "outputId": "d9a44951-a493-47ff-8706-07d862b7f766"
      },
      "execution_count": 8,
      "outputs": [
        {
          "output_type": "display_data",
          "data": {
            "text/html": [
              "'/content'"
            ],
            "text/markdown": "'/content'",
            "text/latex": "'/content'",
            "text/plain": [
              "[1] \"/content\""
            ]
          },
          "metadata": {}
        }
      ]
    },
    {
      "cell_type": "code",
      "source": [
        "library()                   # see packages installed on your computer\n",
        "                            # ~30 are installed automatically with R\n",
        "citation()                  # quote this citation in any publication using R\n"
      ],
      "metadata": {
        "colab": {
          "base_uri": "https://localhost:8080/",
          "height": 382
        },
        "id": "SB8cfr2xWH4d",
        "outputId": "ffd88a12-71bf-467b-dc71-e8df750e6f4c"
      },
      "execution_count": 9,
      "outputs": [
        {
          "output_type": "display_data",
          "data": {
            "text/plain": [
              "\n",
              "To cite R in publications use:\n",
              "\n",
              "  R Core Team (2022). R: A language and environment for statistical\n",
              "  computing. R Foundation for Statistical Computing, Vienna, Austria.\n",
              "  URL https://www.R-project.org/.\n",
              "\n",
              "A BibTeX entry for LaTeX users is\n",
              "\n",
              "  @Manual{,\n",
              "    title = {R: A Language and Environment for Statistical Computing},\n",
              "    author = {{R Core Team}},\n",
              "    organization = {R Foundation for Statistical Computing},\n",
              "    address = {Vienna, Austria},\n",
              "    year = {2022},\n",
              "    url = {https://www.R-project.org/},\n",
              "  }\n",
              "\n",
              "We have invested a lot of time and effort in creating R, please cite it\n",
              "when using it for data analysis. See also ‘citation(\"pkgname\")’ for\n",
              "citing R packages.\n"
            ]
          },
          "metadata": {}
        }
      ]
    },
    {
      "cell_type": "markdown",
      "source": [
        "# 1.3.1: Variable Assignments\n",
        "\n",
        "Create objects using the assignment operator, `<-`. \n",
        "This evaluates the expression on its right hand side and assigns the result to the object name on its left.\n",
        "\n",
        "Create a **vector**–a one-dimensional array of elements–by writing c(), and using commas to separate the elements:"
      ],
      "metadata": {
        "id": "v1FGoOoWY8Ta"
      }
    },
    {
      "cell_type": "code",
      "source": [
        "\n",
        "x <- 23\n",
        "\n",
        "# create vector of integers from 0 to 9\n",
        "some_numbers <- c(0,1,2,3,4,5,6,7,8,9)\n",
        "some_numbers # R doesn't auto-show output, type variable name to verify vector was created\n",
        "\n",
        "# alternatively \n",
        "some_numbers <- c(0:9)"
      ],
      "metadata": {
        "colab": {
          "base_uri": "https://localhost:8080/",
          "height": 34
        },
        "id": "cxBZFnugY7-R",
        "outputId": "70ac05df-f654-4371-e8dc-016623c8f9f0"
      },
      "execution_count": 13,
      "outputs": [
        {
          "output_type": "display_data",
          "data": {
            "text/html": [
              "<style>\n",
              ".list-inline {list-style: none; margin:0; padding: 0}\n",
              ".list-inline>li {display: inline-block}\n",
              ".list-inline>li:not(:last-child)::after {content: \"\\00b7\"; padding: 0 .5ex}\n",
              "</style>\n",
              "<ol class=list-inline><li>0</li><li>1</li><li>2</li><li>3</li><li>4</li><li>5</li><li>6</li><li>7</li><li>8</li><li>9</li></ol>\n"
            ],
            "text/markdown": "1. 0\n2. 1\n3. 2\n4. 3\n5. 4\n6. 5\n7. 6\n8. 7\n9. 8\n10. 9\n\n\n",
            "text/latex": "\\begin{enumerate*}\n\\item 0\n\\item 1\n\\item 2\n\\item 3\n\\item 4\n\\item 5\n\\item 6\n\\item 7\n\\item 8\n\\item 9\n\\end{enumerate*}\n",
            "text/plain": [
              " [1] 0 1 2 3 4 5 6 7 8 9"
            ]
          },
          "metadata": {}
        }
      ]
    },
    {
      "cell_type": "markdown",
      "source": [
        "# 1.3.2:  R functions\n",
        "\n",
        "R can perform elementary math functions on objects:\n",
        "Arithmetic, algebra, trigonometry, and formatting numerics\n"
      ],
      "metadata": {
        "id": "G_Si5aPlgJKK"
      }
    },
    {
      "cell_type": "code",
      "source": [
        "# Arithmetic, algebra, trigonometry, and formatting numerics\n",
        "\n",
        "6 + 2434\n",
        "7-3 ; 13*7 ; 4/9 ; 2^3\n",
        "x <- 3 ; y <- 9\n",
        "x+y "
      ],
      "metadata": {
        "colab": {
          "base_uri": "https://localhost:8080/",
          "height": 121
        },
        "id": "PwmZ4ruIgH91",
        "outputId": "b7e3998d-e936-4b03-e93e-9d52d21494ca"
      },
      "execution_count": 14,
      "outputs": [
        {
          "output_type": "display_data",
          "data": {
            "text/html": [
              "2440"
            ],
            "text/markdown": "2440",
            "text/latex": "2440",
            "text/plain": [
              "[1] 2440"
            ]
          },
          "metadata": {}
        },
        {
          "output_type": "display_data",
          "data": {
            "text/html": [
              "4"
            ],
            "text/markdown": "4",
            "text/latex": "4",
            "text/plain": [
              "[1] 4"
            ]
          },
          "metadata": {}
        },
        {
          "output_type": "display_data",
          "data": {
            "text/html": [
              "91"
            ],
            "text/markdown": "91",
            "text/latex": "91",
            "text/plain": [
              "[1] 91"
            ]
          },
          "metadata": {}
        },
        {
          "output_type": "display_data",
          "data": {
            "text/html": [
              "0.444444444444444"
            ],
            "text/markdown": "0.444444444444444",
            "text/latex": "0.444444444444444",
            "text/plain": [
              "[1] 0.4444444"
            ]
          },
          "metadata": {}
        },
        {
          "output_type": "display_data",
          "data": {
            "text/html": [
              "8"
            ],
            "text/markdown": "8",
            "text/latex": "8",
            "text/plain": [
              "[1] 8"
            ]
          },
          "metadata": {}
        },
        {
          "output_type": "display_data",
          "data": {
            "text/html": [
              "12"
            ],
            "text/markdown": "12",
            "text/latex": "12",
            "text/plain": [
              "[1] 12"
            ]
          },
          "metadata": {}
        }
      ]
    },
    {
      "cell_type": "markdown",
      "source": [
        "# 1.5 R Markdown\n",
        "\n",
        "R Markdown is a format for creating unified documents with R. Unlike the R script format introduced above, R Markdown allows you to combine code, its output, and text annotations in a single documen"
      ],
      "metadata": {
        "id": "S_TlDtU6i8NH"
      }
    },
    {
      "cell_type": "markdown",
      "source": [
        "# **Chapter 2: Getting Started With Data**"
      ],
      "metadata": {
        "id": "6kMrJQGajORL"
      }
    },
    {
      "cell_type": "markdown",
      "source": [
        "# 1.4 - 2: R Packages\n",
        "\n",
        "- package = bundle of R functions\n",
        "- packages are not included in Base R, and must be installed separately. \n",
        "- packages only need to be installed once, but needs to be loaded in every time you enter a new R sessions\n",
        "\n",
        "### Common R packages:\n",
        "- `ggplot2` - has functions for plotting data\n",
        "- `dplyr `- has functions for cleaning/manipulating data\n",
        "-` stats` - has functions for statistical calculations and random number generation\n",
        "\n",
        "### **`tidyverse`** = set of eight common R packages used in data analysis. (includes: `ggplot2`, `dplyr`) "
      ],
      "metadata": {
        "id": "P6-bmiRIg5D2"
      }
    },
    {
      "cell_type": "code",
      "source": [
        "# To install a package, use the command install.packages() in the console. \n",
        "library(tidyverse)\n",
        "install.packages(\"dplyr\")                     \n",
        "library(\"dplyr\") \n",
        "install.packages(\"plyr\")\n",
        "library(\"plyr\")\n",
        "# may have to rerun if you encounter errors"
      ],
      "metadata": {
        "colab": {
          "base_uri": "https://localhost:8080/"
        },
        "id": "Z1W9ktJjg4Rb",
        "outputId": "a62054c1-c084-425a-d3b6-d4a483eb012e"
      },
      "execution_count": 152,
      "outputs": [
        {
          "output_type": "stream",
          "name": "stderr",
          "text": [
            "Installing package into ‘/usr/local/lib/R/site-library’\n",
            "(as ‘lib’ is unspecified)\n",
            "\n",
            "Installing package into ‘/usr/local/lib/R/site-library’\n",
            "(as ‘lib’ is unspecified)\n",
            "\n"
          ]
        }
      ]
    },
    {
      "cell_type": "markdown",
      "source": [
        "# 2.2: Loading Data\n",
        "\n",
        "R has several inbuilt functions for loading data of various formats:\n",
        "\n",
        "- **`read.csv()`** for csv files (comma separated values)\n",
        "- **`read.tsv()`** for tsv files (tab separated values)\n",
        "- **`read.xlsx()`** for Excel files (from the readxl package)\n",
        "- **`read.dta13()`** for dat files (from the readstata13 package)\n",
        "- **`read.table()`** for huge datasets"
      ],
      "metadata": {
        "id": "cKKzr45Wptpp"
      }
    },
    {
      "cell_type": "code",
      "source": [
        "# load in 2022-2023 gender paygap dataset from:\n",
        "# https://gender-pay-gap.service.gov.uk/viewing/download\n",
        "\n",
        "\n",
        "download.file('https://gender-pay-gap.service.gov.uk/viewing/download-data/2022','/content/paygap_2022_2023.csv')"
      ],
      "metadata": {
        "id": "px3nJ_6ki8Am"
      },
      "execution_count": 49,
      "outputs": []
    },
    {
      "cell_type": "code",
      "source": [
        "paygap <- read.csv('/content/paygap_2022_2023.csv')"
      ],
      "metadata": {
        "id": "pl-1Re44i7Tt"
      },
      "execution_count": 54,
      "outputs": []
    },
    {
      "cell_type": "markdown",
      "source": [
        "# 2.2.1: Viewing data"
      ],
      "metadata": {
        "id": "atMLFsptrOsd"
      }
    },
    {
      "cell_type": "code",
      "source": [
        "head(paygap, n = 5) # look at the first 5 rows"
      ],
      "metadata": {
        "colab": {
          "base_uri": "https://localhost:8080/",
          "height": 709
        },
        "id": "UUWpHMVZvlvn",
        "outputId": "893df3e3-a14f-4ce8-d4a0-87bdb45eb91a"
      },
      "execution_count": 53,
      "outputs": [
        {
          "output_type": "display_data",
          "data": {
            "text/html": [
              "<table class=\"dataframe\">\n",
              "<caption>A data.frame: 5 × 27</caption>\n",
              "<thead>\n",
              "\t<tr><th></th><th scope=col>EmployerName</th><th scope=col>EmployerId</th><th scope=col>Address</th><th scope=col>PostCode</th><th scope=col>CompanyNumber</th><th scope=col>SicCodes</th><th scope=col>DiffMeanHourlyPercent</th><th scope=col>DiffMedianHourlyPercent</th><th scope=col>DiffMeanBonusPercent</th><th scope=col>DiffMedianBonusPercent</th><th scope=col>⋯</th><th scope=col>FemaleUpperMiddleQuartile</th><th scope=col>MaleTopQuartile</th><th scope=col>FemaleTopQuartile</th><th scope=col>CompanyLinkToGPGInfo</th><th scope=col>ResponsiblePerson</th><th scope=col>EmployerSize</th><th scope=col>CurrentName</th><th scope=col>SubmittedAfterTheDeadline</th><th scope=col>DueDate</th><th scope=col>DateSubmitted</th></tr>\n",
              "\t<tr><th></th><th scope=col>&lt;chr&gt;</th><th scope=col>&lt;int&gt;</th><th scope=col>&lt;chr&gt;</th><th scope=col>&lt;chr&gt;</th><th scope=col>&lt;chr&gt;</th><th scope=col>&lt;chr&gt;</th><th scope=col>&lt;dbl&gt;</th><th scope=col>&lt;dbl&gt;</th><th scope=col>&lt;dbl&gt;</th><th scope=col>&lt;dbl&gt;</th><th scope=col>⋯</th><th scope=col>&lt;dbl&gt;</th><th scope=col>&lt;dbl&gt;</th><th scope=col>&lt;dbl&gt;</th><th scope=col>&lt;chr&gt;</th><th scope=col>&lt;chr&gt;</th><th scope=col>&lt;chr&gt;</th><th scope=col>&lt;chr&gt;</th><th scope=col>&lt;chr&gt;</th><th scope=col>&lt;chr&gt;</th><th scope=col>&lt;chr&gt;</th></tr>\n",
              "</thead>\n",
              "<tbody>\n",
              "\t<tr><th scope=row>1</th><td>A.J.N. STEELSTOCK LTD.                        </td><td>14835</td><td>Icknield Way, Kentford, Newmarket, Suffolk, CB8 7QT                                   </td><td>CB8 7QT </td><td>00689647</td><td>46720    </td><td>16.2</td><td>  3.3</td><td>-20.0</td><td>  0.0</td><td>⋯</td><td>10.8</td><td>87.1</td><td>12.9</td><td>https://www.ajnsteelstock.co.uk/wp-content/uploads/2022/10/2022-Gender-Pay-Gap-Report.pdf</td><td>Courtney Bell (FD)              </td><td>250 to 499  </td><td>A.J.N. STEELSTOCK LTD.                        </td><td>False</td><td>2023/04/05 00:00:00</td><td>2022/10/11 15:34:17</td></tr>\n",
              "\t<tr><th scope=row>2</th><td>AB WORLD FOODS LIMITED                        </td><td>  764</td><td>Weston Centre, 10 Grosvenor Street, London, W1K 4QY                                   </td><td>W1K 4QY </td><td>01400901</td><td>10890    </td><td>-8.6</td><td>-12.3</td><td> 10.3</td><td>-20.8</td><td>⋯</td><td>33.7</td><td>44.6</td><td>55.4</td><td>https://abworldfoods.com/documents/ABWF_Gender_Pay_Gap_Narrative_2022.pdf                </td><td>Andy Mayhew (Managing Director) </td><td>250 to 499  </td><td>AB WORLD FOODS LIMITED                        </td><td>False</td><td>2023/04/05 00:00:00</td><td>2022/09/30 09:45:25</td></tr>\n",
              "\t<tr><th scope=row>3</th><td>ABACUS EMPLOYMENT SERVICES LIMITED            </td><td>  767</td><td>1 Chequers Road, Basingstoke, Hampshire, England, RG21 7PU                            </td><td>RG21 7PU</td><td>02638307</td><td>78200    </td><td>-3.0</td><td>  3.2</td><td>   NA</td><td>   NA</td><td>⋯</td><td>21.5</td><td>80.9</td><td>19.1</td><td>http://www.abacus-employment.com                                                         </td><td>Phil James (Finance Manager)    </td><td>250 to 499  </td><td>ABACUS EMPLOYMENT SERVICES LIMITED            </td><td>False</td><td>2023/04/05 00:00:00</td><td>2022/04/13 14:57:04</td></tr>\n",
              "\t<tr><th scope=row>4</th><td>Advisory, Conciliation and Arbitration Service</td><td>  496</td><td>8th Floor, Windsor House, 50 Victoria Street, London, London, United Kingdom, SW1H 0TL</td><td>SW1H 0TL</td><td>        </td><td>1,\n",
              "84110</td><td> 7.2</td><td>  6.1</td><td> 19.4</td><td>  9.9</td><td>⋯</td><td>63.2</td><td>51.8</td><td>48.2</td><td>https://www.acas.org.uk/acas-gender-pay-report/2021-to-2022-report                       </td><td>                                </td><td>1000 to 4999</td><td>Advisory, Conciliation and Arbitration Service</td><td>False</td><td>2023/03/31 00:00:00</td><td>2022/08/01 13:15:17</td></tr>\n",
              "\t<tr><th scope=row>5</th><td>AFH INDEPENDENT FINANCIAL SERVICES LIMITED    </td><td>19364</td><td>Afh House Buntsford Drive, Stoke Heath, Bromsgrove, Worcestershire, B60 4JE           </td><td>B60 4JE </td><td>04049180</td><td>64999    </td><td>25.0</td><td> 32.0</td><td>-33.0</td><td> 69.0</td><td>⋯</td><td>59.0</td><td>60.0</td><td>40.0</td><td>                                                                                         </td><td>Alison Court (Senior HR Adviser)</td><td>500 to 999  </td><td>AFH INDEPENDENT FINANCIAL SERVICES LIMITED    </td><td>False</td><td>2023/04/05 00:00:00</td><td>2022/05/20 11:24:09</td></tr>\n",
              "</tbody>\n",
              "</table>\n"
            ],
            "text/markdown": "\nA data.frame: 5 × 27\n\n| <!--/--> | EmployerName &lt;chr&gt; | EmployerId &lt;int&gt; | Address &lt;chr&gt; | PostCode &lt;chr&gt; | CompanyNumber &lt;chr&gt; | SicCodes &lt;chr&gt; | DiffMeanHourlyPercent &lt;dbl&gt; | DiffMedianHourlyPercent &lt;dbl&gt; | DiffMeanBonusPercent &lt;dbl&gt; | DiffMedianBonusPercent &lt;dbl&gt; | ⋯ ⋯ | FemaleUpperMiddleQuartile &lt;dbl&gt; | MaleTopQuartile &lt;dbl&gt; | FemaleTopQuartile &lt;dbl&gt; | CompanyLinkToGPGInfo &lt;chr&gt; | ResponsiblePerson &lt;chr&gt; | EmployerSize &lt;chr&gt; | CurrentName &lt;chr&gt; | SubmittedAfterTheDeadline &lt;chr&gt; | DueDate &lt;chr&gt; | DateSubmitted &lt;chr&gt; |\n|---|---|---|---|---|---|---|---|---|---|---|---|---|---|---|---|---|---|---|---|---|---|\n| 1 | A.J.N. STEELSTOCK LTD.                         | 14835 | Icknield Way, Kentford, Newmarket, Suffolk, CB8 7QT                                    | CB8 7QT  | 00689647 | 46720     | 16.2 |   3.3 | -20.0 |   0.0 | ⋯ | 10.8 | 87.1 | 12.9 | https://www.ajnsteelstock.co.uk/wp-content/uploads/2022/10/2022-Gender-Pay-Gap-Report.pdf | Courtney Bell (FD)               | 250 to 499   | A.J.N. STEELSTOCK LTD.                         | False | 2023/04/05 00:00:00 | 2022/10/11 15:34:17 |\n| 2 | AB WORLD FOODS LIMITED                         |   764 | Weston Centre, 10 Grosvenor Street, London, W1K 4QY                                    | W1K 4QY  | 01400901 | 10890     | -8.6 | -12.3 |  10.3 | -20.8 | ⋯ | 33.7 | 44.6 | 55.4 | https://abworldfoods.com/documents/ABWF_Gender_Pay_Gap_Narrative_2022.pdf                 | Andy Mayhew (Managing Director)  | 250 to 499   | AB WORLD FOODS LIMITED                         | False | 2023/04/05 00:00:00 | 2022/09/30 09:45:25 |\n| 3 | ABACUS EMPLOYMENT SERVICES LIMITED             |   767 | 1 Chequers Road, Basingstoke, Hampshire, England, RG21 7PU                             | RG21 7PU | 02638307 | 78200     | -3.0 |   3.2 |    NA |    NA | ⋯ | 21.5 | 80.9 | 19.1 | http://www.abacus-employment.com                                                          | Phil James (Finance Manager)     | 250 to 499   | ABACUS EMPLOYMENT SERVICES LIMITED             | False | 2023/04/05 00:00:00 | 2022/04/13 14:57:04 |\n| 4 | Advisory, Conciliation and Arbitration Service |   496 | 8th Floor, Windsor House, 50 Victoria Street, London, London, United Kingdom, SW1H 0TL | SW1H 0TL | <!----> | 1,\n84110 |  7.2 |   6.1 |  19.4 |   9.9 | ⋯ | 63.2 | 51.8 | 48.2 | https://www.acas.org.uk/acas-gender-pay-report/2021-to-2022-report                        | <!----> | 1000 to 4999 | Advisory, Conciliation and Arbitration Service | False | 2023/03/31 00:00:00 | 2022/08/01 13:15:17 |\n| 5 | AFH INDEPENDENT FINANCIAL SERVICES LIMITED     | 19364 | Afh House Buntsford Drive, Stoke Heath, Bromsgrove, Worcestershire, B60 4JE            | B60 4JE  | 04049180 | 64999     | 25.0 |  32.0 | -33.0 |  69.0 | ⋯ | 59.0 | 60.0 | 40.0 | <!----> | Alison Court (Senior HR Adviser) | 500 to 999   | AFH INDEPENDENT FINANCIAL SERVICES LIMITED     | False | 2023/04/05 00:00:00 | 2022/05/20 11:24:09 |\n\n",
            "text/latex": "A data.frame: 5 × 27\n\\begin{tabular}{r|lllllllllllllllllllll}\n  & EmployerName & EmployerId & Address & PostCode & CompanyNumber & SicCodes & DiffMeanHourlyPercent & DiffMedianHourlyPercent & DiffMeanBonusPercent & DiffMedianBonusPercent & ⋯ & FemaleUpperMiddleQuartile & MaleTopQuartile & FemaleTopQuartile & CompanyLinkToGPGInfo & ResponsiblePerson & EmployerSize & CurrentName & SubmittedAfterTheDeadline & DueDate & DateSubmitted\\\\\n  & <chr> & <int> & <chr> & <chr> & <chr> & <chr> & <dbl> & <dbl> & <dbl> & <dbl> & ⋯ & <dbl> & <dbl> & <dbl> & <chr> & <chr> & <chr> & <chr> & <chr> & <chr> & <chr>\\\\\n\\hline\n\t1 & A.J.N. STEELSTOCK LTD.                         & 14835 & Icknield Way, Kentford, Newmarket, Suffolk, CB8 7QT                                    & CB8 7QT  & 00689647 & 46720     & 16.2 &   3.3 & -20.0 &   0.0 & ⋯ & 10.8 & 87.1 & 12.9 & https://www.ajnsteelstock.co.uk/wp-content/uploads/2022/10/2022-Gender-Pay-Gap-Report.pdf & Courtney Bell (FD)               & 250 to 499   & A.J.N. STEELSTOCK LTD.                         & False & 2023/04/05 00:00:00 & 2022/10/11 15:34:17\\\\\n\t2 & AB WORLD FOODS LIMITED                         &   764 & Weston Centre, 10 Grosvenor Street, London, W1K 4QY                                    & W1K 4QY  & 01400901 & 10890     & -8.6 & -12.3 &  10.3 & -20.8 & ⋯ & 33.7 & 44.6 & 55.4 & https://abworldfoods.com/documents/ABWF\\_Gender\\_Pay\\_Gap\\_Narrative\\_2022.pdf                 & Andy Mayhew (Managing Director)  & 250 to 499   & AB WORLD FOODS LIMITED                         & False & 2023/04/05 00:00:00 & 2022/09/30 09:45:25\\\\\n\t3 & ABACUS EMPLOYMENT SERVICES LIMITED             &   767 & 1 Chequers Road, Basingstoke, Hampshire, England, RG21 7PU                             & RG21 7PU & 02638307 & 78200     & -3.0 &   3.2 &    NA &    NA & ⋯ & 21.5 & 80.9 & 19.1 & http://www.abacus-employment.com                                                          & Phil James (Finance Manager)     & 250 to 499   & ABACUS EMPLOYMENT SERVICES LIMITED             & False & 2023/04/05 00:00:00 & 2022/04/13 14:57:04\\\\\n\t4 & Advisory, Conciliation and Arbitration Service &   496 & 8th Floor, Windsor House, 50 Victoria Street, London, London, United Kingdom, SW1H 0TL & SW1H 0TL &          & 1,\n84110 &  7.2 &   6.1 &  19.4 &   9.9 & ⋯ & 63.2 & 51.8 & 48.2 & https://www.acas.org.uk/acas-gender-pay-report/2021-to-2022-report                        &                                  & 1000 to 4999 & Advisory, Conciliation and Arbitration Service & False & 2023/03/31 00:00:00 & 2022/08/01 13:15:17\\\\\n\t5 & AFH INDEPENDENT FINANCIAL SERVICES LIMITED     & 19364 & Afh House Buntsford Drive, Stoke Heath, Bromsgrove, Worcestershire, B60 4JE            & B60 4JE  & 04049180 & 64999     & 25.0 &  32.0 & -33.0 &  69.0 & ⋯ & 59.0 & 60.0 & 40.0 &                                                                                           & Alison Court (Senior HR Adviser) & 500 to 999   & AFH INDEPENDENT FINANCIAL SERVICES LIMITED     & False & 2023/04/05 00:00:00 & 2022/05/20 11:24:09\\\\\n\\end{tabular}\n",
            "text/plain": [
              "  EmployerName                                   EmployerId\n",
              "1 A.J.N. STEELSTOCK LTD.                         14835     \n",
              "2 AB WORLD FOODS LIMITED                           764     \n",
              "3 ABACUS EMPLOYMENT SERVICES LIMITED               767     \n",
              "4 Advisory, Conciliation and Arbitration Service   496     \n",
              "5 AFH INDEPENDENT FINANCIAL SERVICES LIMITED     19364     \n",
              "  Address                                                                               \n",
              "1 Icknield Way, Kentford, Newmarket, Suffolk, CB8 7QT                                   \n",
              "2 Weston Centre, 10 Grosvenor Street, London, W1K 4QY                                   \n",
              "3 1 Chequers Road, Basingstoke, Hampshire, England, RG21 7PU                            \n",
              "4 8th Floor, Windsor House, 50 Victoria Street, London, London, United Kingdom, SW1H 0TL\n",
              "5 Afh House Buntsford Drive, Stoke Heath, Bromsgrove, Worcestershire, B60 4JE           \n",
              "  PostCode CompanyNumber SicCodes  DiffMeanHourlyPercent\n",
              "1 CB8 7QT  00689647      46720     16.2                 \n",
              "2 W1K 4QY  01400901      10890     -8.6                 \n",
              "3 RG21 7PU 02638307      78200     -3.0                 \n",
              "4 SW1H 0TL               1,\\n84110  7.2                 \n",
              "5 B60 4JE  04049180      64999     25.0                 \n",
              "  DiffMedianHourlyPercent DiffMeanBonusPercent DiffMedianBonusPercent ⋯\n",
              "1   3.3                   -20.0                  0.0                  ⋯\n",
              "2 -12.3                    10.3                -20.8                  ⋯\n",
              "3   3.2                      NA                   NA                  ⋯\n",
              "4   6.1                    19.4                  9.9                  ⋯\n",
              "5  32.0                   -33.0                 69.0                  ⋯\n",
              "  FemaleUpperMiddleQuartile MaleTopQuartile FemaleTopQuartile\n",
              "1 10.8                      87.1            12.9             \n",
              "2 33.7                      44.6            55.4             \n",
              "3 21.5                      80.9            19.1             \n",
              "4 63.2                      51.8            48.2             \n",
              "5 59.0                      60.0            40.0             \n",
              "  CompanyLinkToGPGInfo                                                                     \n",
              "1 https://www.ajnsteelstock.co.uk/wp-content/uploads/2022/10/2022-Gender-Pay-Gap-Report.pdf\n",
              "2 https://abworldfoods.com/documents/ABWF_Gender_Pay_Gap_Narrative_2022.pdf                \n",
              "3 http://www.abacus-employment.com                                                         \n",
              "4 https://www.acas.org.uk/acas-gender-pay-report/2021-to-2022-report                       \n",
              "5                                                                                          \n",
              "  ResponsiblePerson                EmployerSize\n",
              "1 Courtney Bell (FD)               250 to 499  \n",
              "2 Andy Mayhew (Managing Director)  250 to 499  \n",
              "3 Phil James (Finance Manager)     250 to 499  \n",
              "4                                  1000 to 4999\n",
              "5 Alison Court (Senior HR Adviser) 500 to 999  \n",
              "  CurrentName                                    SubmittedAfterTheDeadline\n",
              "1 A.J.N. STEELSTOCK LTD.                         False                    \n",
              "2 AB WORLD FOODS LIMITED                         False                    \n",
              "3 ABACUS EMPLOYMENT SERVICES LIMITED             False                    \n",
              "4 Advisory, Conciliation and Arbitration Service False                    \n",
              "5 AFH INDEPENDENT FINANCIAL SERVICES LIMITED     False                    \n",
              "  DueDate             DateSubmitted      \n",
              "1 2023/04/05 00:00:00 2022/10/11 15:34:17\n",
              "2 2023/04/05 00:00:00 2022/09/30 09:45:25\n",
              "3 2023/04/05 00:00:00 2022/04/13 14:57:04\n",
              "4 2023/03/31 00:00:00 2022/08/01 13:15:17\n",
              "5 2023/04/05 00:00:00 2022/05/20 11:24:09"
            ]
          },
          "metadata": {}
        }
      ]
    },
    {
      "cell_type": "code",
      "source": [
        "tail(paygap, n = 5) # look at bottom 5 rows"
      ],
      "metadata": {
        "colab": {
          "base_uri": "https://localhost:8080/",
          "height": 848
        },
        "id": "u7r2vsexwSOM",
        "outputId": "3f54373f-00ba-499c-b6a3-198b788fed16"
      },
      "execution_count": 56,
      "outputs": [
        {
          "output_type": "display_data",
          "data": {
            "text/html": [
              "<table class=\"dataframe\">\n",
              "<caption>A data.frame: 5 × 27</caption>\n",
              "<thead>\n",
              "\t<tr><th></th><th scope=col>EmployerName</th><th scope=col>EmployerId</th><th scope=col>Address</th><th scope=col>PostCode</th><th scope=col>CompanyNumber</th><th scope=col>SicCodes</th><th scope=col>DiffMeanHourlyPercent</th><th scope=col>DiffMedianHourlyPercent</th><th scope=col>DiffMeanBonusPercent</th><th scope=col>DiffMedianBonusPercent</th><th scope=col>⋯</th><th scope=col>FemaleUpperMiddleQuartile</th><th scope=col>MaleTopQuartile</th><th scope=col>FemaleTopQuartile</th><th scope=col>CompanyLinkToGPGInfo</th><th scope=col>ResponsiblePerson</th><th scope=col>EmployerSize</th><th scope=col>CurrentName</th><th scope=col>SubmittedAfterTheDeadline</th><th scope=col>DueDate</th><th scope=col>DateSubmitted</th></tr>\n",
              "\t<tr><th></th><th scope=col>&lt;chr&gt;</th><th scope=col>&lt;int&gt;</th><th scope=col>&lt;chr&gt;</th><th scope=col>&lt;chr&gt;</th><th scope=col>&lt;chr&gt;</th><th scope=col>&lt;chr&gt;</th><th scope=col>&lt;dbl&gt;</th><th scope=col>&lt;dbl&gt;</th><th scope=col>&lt;dbl&gt;</th><th scope=col>&lt;dbl&gt;</th><th scope=col>⋯</th><th scope=col>&lt;dbl&gt;</th><th scope=col>&lt;dbl&gt;</th><th scope=col>&lt;dbl&gt;</th><th scope=col>&lt;chr&gt;</th><th scope=col>&lt;chr&gt;</th><th scope=col>&lt;chr&gt;</th><th scope=col>&lt;chr&gt;</th><th scope=col>&lt;chr&gt;</th><th scope=col>&lt;chr&gt;</th><th scope=col>&lt;chr&gt;</th></tr>\n",
              "</thead>\n",
              "<tbody>\n",
              "\t<tr><th scope=row>327</th><td>WILLIAMS MOTOR CO.(HOLDINGS)LIMITED</td><td>13803</td><td>2 Vincent Way, Raikes Lane, Bolton, BL3 2NB                                         </td><td>BL3 2NB</td><td>00597708</td><td>45111,\n",
              "45112,\n",
              "45200,\n",
              "45320</td><td> 21.5</td><td> 23.0</td><td>53.1</td><td>78.9</td><td>⋯</td><td>11.0</td><td>92.0</td><td> 8.0</td><td>                                                                  </td><td>Andrew Seymour (Group Accountant) </td><td>500 to 999   </td><td>WILLIAMS MOTOR CO.(HOLDINGS)LIMITED</td><td>False</td><td>2023/04/05 00:00:00</td><td>2022/08/02 17:30:00</td></tr>\n",
              "\t<tr><th scope=row>328</th><td><span style=white-space:pre-wrap>WINN SOLICITORS LIMITED            </span></td><td>13839</td><td>Winn Solicitors, Brinkburn, Street, Byker, Newcastle Upon Tyne, Tyne &amp; Wear, NE6 1PL</td><td>NE6 1PL</td><td>05084463</td><td><span style=white-space:pre-wrap>69102                        </span></td><td> 19.5</td><td><span style=white-space:pre-wrap>  3.7</span></td><td>47.5</td><td>35.0</td><td>⋯</td><td>56.6</td><td>51.3</td><td>48.7</td><td>https://winngroup.co.uk/working-at-winn-group/#equal-opportunities</td><td>Colette Gardner (Group Head of HR)</td><td><span style=white-space:pre-wrap>250 to 499   </span></td><td><span style=white-space:pre-wrap>WINN SOLICITORS LIMITED            </span></td><td>False</td><td>2023/04/05 00:00:00</td><td>2022/10/19 14:01:38</td></tr>\n",
              "\t<tr><th scope=row>329</th><td>Worcester City Council             </td><td>15444</td><td>High Street, Worcester, WR1 2EY                                                     </td><td>WR1 2EY</td><td>        </td><td>1,\n",
              "84110                    </td><td> -1.3</td><td> -6.1</td><td>  NA</td><td>  NA</td><td>⋯</td><td>57.0</td><td>42.5</td><td>57.5</td><td>https://www.worcester.gov.uk/jobs-careers/equality-inclusion      </td><td>                                  </td><td>250 to 499   </td><td>Worcester City Council             </td><td>False</td><td>2023/03/31 00:00:00</td><td>2022/07/07 15:43:10</td></tr>\n",
              "\t<tr><th scope=row>330</th><td><span style=white-space:pre-wrap>YOUR HOMES NEWCASTLE LIMITED       </span></td><td>14040</td><td><span style=white-space:pre-wrap>Civic Centre, Barras Bridge, Newcastle Upon Tyne, Tyne &amp; Wear, NE1 8PR              </span></td><td>NE1 8PR</td><td>05076256</td><td><span style=white-space:pre-wrap>68201                        </span></td><td> -3.7</td><td>-11.4</td><td><span style=white-space:pre-wrap>  NA</span></td><td><span style=white-space:pre-wrap>  NA</span></td><td>⋯</td><td>70.5</td><td>45.9</td><td>54.1</td><td><span style=white-space:pre-wrap>                                                                  </span></td><td>Tina Drury (YHN Managing Director)</td><td><span style=white-space:pre-wrap>500 to 999   </span></td><td><span style=white-space:pre-wrap>YOUR HOMES NEWCASTLE LIMITED       </span></td><td>False</td><td>2023/04/05 00:00:00</td><td>2022/06/17 09:02:43</td></tr>\n",
              "\t<tr><th scope=row>331</th><td>YOUR LEISURE KENT LIMITED          </td><td>14105</td><td>Northdown House, Northdown Park Road, Margate, CT9 3TP                              </td><td>CT9 3TP</td><td>IP28889R</td><td>                             </td><td>-14.9</td><td>  9.6</td><td>  NA</td><td>  NA</td><td>⋯</td><td>51.7</td><td>28.3</td><td>71.7</td><td>https://yourleisure.uk.com/                                       </td><td>Debbie Barker (Head of HR)        </td><td>Less than 250</td><td>YOUR LEISURE KENT LIMITED          </td><td>False</td><td>2023/04/05 00:00:00</td><td>2022/09/26 12:12:53</td></tr>\n",
              "</tbody>\n",
              "</table>\n"
            ],
            "text/markdown": "\nA data.frame: 5 × 27\n\n| <!--/--> | EmployerName &lt;chr&gt; | EmployerId &lt;int&gt; | Address &lt;chr&gt; | PostCode &lt;chr&gt; | CompanyNumber &lt;chr&gt; | SicCodes &lt;chr&gt; | DiffMeanHourlyPercent &lt;dbl&gt; | DiffMedianHourlyPercent &lt;dbl&gt; | DiffMeanBonusPercent &lt;dbl&gt; | DiffMedianBonusPercent &lt;dbl&gt; | ⋯ ⋯ | FemaleUpperMiddleQuartile &lt;dbl&gt; | MaleTopQuartile &lt;dbl&gt; | FemaleTopQuartile &lt;dbl&gt; | CompanyLinkToGPGInfo &lt;chr&gt; | ResponsiblePerson &lt;chr&gt; | EmployerSize &lt;chr&gt; | CurrentName &lt;chr&gt; | SubmittedAfterTheDeadline &lt;chr&gt; | DueDate &lt;chr&gt; | DateSubmitted &lt;chr&gt; |\n|---|---|---|---|---|---|---|---|---|---|---|---|---|---|---|---|---|---|---|---|---|---|\n| 327 | WILLIAMS MOTOR CO.(HOLDINGS)LIMITED | 13803 | 2 Vincent Way, Raikes Lane, Bolton, BL3 2NB                                          | BL3 2NB | 00597708 | 45111,\n45112,\n45200,\n45320 |  21.5 |  23.0 | 53.1 | 78.9 | ⋯ | 11.0 | 92.0 |  8.0 | <!----> | Andrew Seymour (Group Accountant)  | 500 to 999    | WILLIAMS MOTOR CO.(HOLDINGS)LIMITED | False | 2023/04/05 00:00:00 | 2022/08/02 17:30:00 |\n| 328 | WINN SOLICITORS LIMITED             | 13839 | Winn Solicitors, Brinkburn, Street, Byker, Newcastle Upon Tyne, Tyne &amp; Wear, NE6 1PL | NE6 1PL | 05084463 | 69102                         |  19.5 |   3.7 | 47.5 | 35.0 | ⋯ | 56.6 | 51.3 | 48.7 | https://winngroup.co.uk/working-at-winn-group/#equal-opportunities | Colette Gardner (Group Head of HR) | 250 to 499    | WINN SOLICITORS LIMITED             | False | 2023/04/05 00:00:00 | 2022/10/19 14:01:38 |\n| 329 | Worcester City Council              | 15444 | High Street, Worcester, WR1 2EY                                                      | WR1 2EY | <!----> | 1,\n84110                     |  -1.3 |  -6.1 |   NA |   NA | ⋯ | 57.0 | 42.5 | 57.5 | https://www.worcester.gov.uk/jobs-careers/equality-inclusion       | <!----> | 250 to 499    | Worcester City Council              | False | 2023/03/31 00:00:00 | 2022/07/07 15:43:10 |\n| 330 | YOUR HOMES NEWCASTLE LIMITED        | 14040 | Civic Centre, Barras Bridge, Newcastle Upon Tyne, Tyne &amp; Wear, NE1 8PR               | NE1 8PR | 05076256 | 68201                         |  -3.7 | -11.4 |   NA |   NA | ⋯ | 70.5 | 45.9 | 54.1 | <!----> | Tina Drury (YHN Managing Director) | 500 to 999    | YOUR HOMES NEWCASTLE LIMITED        | False | 2023/04/05 00:00:00 | 2022/06/17 09:02:43 |\n| 331 | YOUR LEISURE KENT LIMITED           | 14105 | Northdown House, Northdown Park Road, Margate, CT9 3TP                               | CT9 3TP | IP28889R | <!----> | -14.9 |   9.6 |   NA |   NA | ⋯ | 51.7 | 28.3 | 71.7 | https://yourleisure.uk.com/                                        | Debbie Barker (Head of HR)         | Less than 250 | YOUR LEISURE KENT LIMITED           | False | 2023/04/05 00:00:00 | 2022/09/26 12:12:53 |\n\n",
            "text/latex": "A data.frame: 5 × 27\n\\begin{tabular}{r|lllllllllllllllllllll}\n  & EmployerName & EmployerId & Address & PostCode & CompanyNumber & SicCodes & DiffMeanHourlyPercent & DiffMedianHourlyPercent & DiffMeanBonusPercent & DiffMedianBonusPercent & ⋯ & FemaleUpperMiddleQuartile & MaleTopQuartile & FemaleTopQuartile & CompanyLinkToGPGInfo & ResponsiblePerson & EmployerSize & CurrentName & SubmittedAfterTheDeadline & DueDate & DateSubmitted\\\\\n  & <chr> & <int> & <chr> & <chr> & <chr> & <chr> & <dbl> & <dbl> & <dbl> & <dbl> & ⋯ & <dbl> & <dbl> & <dbl> & <chr> & <chr> & <chr> & <chr> & <chr> & <chr> & <chr>\\\\\n\\hline\n\t327 & WILLIAMS MOTOR CO.(HOLDINGS)LIMITED & 13803 & 2 Vincent Way, Raikes Lane, Bolton, BL3 2NB                                          & BL3 2NB & 00597708 & 45111,\n45112,\n45200,\n45320 &  21.5 &  23.0 & 53.1 & 78.9 & ⋯ & 11.0 & 92.0 &  8.0 &                                                                    & Andrew Seymour (Group Accountant)  & 500 to 999    & WILLIAMS MOTOR CO.(HOLDINGS)LIMITED & False & 2023/04/05 00:00:00 & 2022/08/02 17:30:00\\\\\n\t328 & WINN SOLICITORS LIMITED             & 13839 & Winn Solicitors, Brinkburn, Street, Byker, Newcastle Upon Tyne, Tyne \\& Wear, NE6 1PL & NE6 1PL & 05084463 & 69102                         &  19.5 &   3.7 & 47.5 & 35.0 & ⋯ & 56.6 & 51.3 & 48.7 & https://winngroup.co.uk/working-at-winn-group/\\#equal-opportunities & Colette Gardner (Group Head of HR) & 250 to 499    & WINN SOLICITORS LIMITED             & False & 2023/04/05 00:00:00 & 2022/10/19 14:01:38\\\\\n\t329 & Worcester City Council              & 15444 & High Street, Worcester, WR1 2EY                                                      & WR1 2EY &          & 1,\n84110                     &  -1.3 &  -6.1 &   NA &   NA & ⋯ & 57.0 & 42.5 & 57.5 & https://www.worcester.gov.uk/jobs-careers/equality-inclusion       &                                    & 250 to 499    & Worcester City Council              & False & 2023/03/31 00:00:00 & 2022/07/07 15:43:10\\\\\n\t330 & YOUR HOMES NEWCASTLE LIMITED        & 14040 & Civic Centre, Barras Bridge, Newcastle Upon Tyne, Tyne \\& Wear, NE1 8PR               & NE1 8PR & 05076256 & 68201                         &  -3.7 & -11.4 &   NA &   NA & ⋯ & 70.5 & 45.9 & 54.1 &                                                                    & Tina Drury (YHN Managing Director) & 500 to 999    & YOUR HOMES NEWCASTLE LIMITED        & False & 2023/04/05 00:00:00 & 2022/06/17 09:02:43\\\\\n\t331 & YOUR LEISURE KENT LIMITED           & 14105 & Northdown House, Northdown Park Road, Margate, CT9 3TP                               & CT9 3TP & IP28889R &                               & -14.9 &   9.6 &   NA &   NA & ⋯ & 51.7 & 28.3 & 71.7 & https://yourleisure.uk.com/                                        & Debbie Barker (Head of HR)         & Less than 250 & YOUR LEISURE KENT LIMITED           & False & 2023/04/05 00:00:00 & 2022/09/26 12:12:53\\\\\n\\end{tabular}\n",
            "text/plain": [
              "    EmployerName                        EmployerId\n",
              "327 WILLIAMS MOTOR CO.(HOLDINGS)LIMITED 13803     \n",
              "328 WINN SOLICITORS LIMITED             13839     \n",
              "329 Worcester City Council              15444     \n",
              "330 YOUR HOMES NEWCASTLE LIMITED        14040     \n",
              "331 YOUR LEISURE KENT LIMITED           14105     \n",
              "    Address                                                                             \n",
              "327 2 Vincent Way, Raikes Lane, Bolton, BL3 2NB                                         \n",
              "328 Winn Solicitors, Brinkburn, Street, Byker, Newcastle Upon Tyne, Tyne & Wear, NE6 1PL\n",
              "329 High Street, Worcester, WR1 2EY                                                     \n",
              "330 Civic Centre, Barras Bridge, Newcastle Upon Tyne, Tyne & Wear, NE1 8PR              \n",
              "331 Northdown House, Northdown Park Road, Margate, CT9 3TP                              \n",
              "    PostCode CompanyNumber SicCodes                      DiffMeanHourlyPercent\n",
              "327 BL3 2NB  00597708      45111,\\n45112,\\n45200,\\n45320  21.5                \n",
              "328 NE6 1PL  05084463      69102                          19.5                \n",
              "329 WR1 2EY                1,\\n84110                      -1.3                \n",
              "330 NE1 8PR  05076256      68201                          -3.7                \n",
              "331 CT9 3TP  IP28889R                                    -14.9                \n",
              "    DiffMedianHourlyPercent DiffMeanBonusPercent DiffMedianBonusPercent ⋯\n",
              "327  23.0                   53.1                 78.9                   ⋯\n",
              "328   3.7                   47.5                 35.0                   ⋯\n",
              "329  -6.1                     NA                   NA                   ⋯\n",
              "330 -11.4                     NA                   NA                   ⋯\n",
              "331   9.6                     NA                   NA                   ⋯\n",
              "    FemaleUpperMiddleQuartile MaleTopQuartile FemaleTopQuartile\n",
              "327 11.0                      92.0             8.0             \n",
              "328 56.6                      51.3            48.7             \n",
              "329 57.0                      42.5            57.5             \n",
              "330 70.5                      45.9            54.1             \n",
              "331 51.7                      28.3            71.7             \n",
              "    CompanyLinkToGPGInfo                                              \n",
              "327                                                                   \n",
              "328 https://winngroup.co.uk/working-at-winn-group/#equal-opportunities\n",
              "329 https://www.worcester.gov.uk/jobs-careers/equality-inclusion      \n",
              "330                                                                   \n",
              "331 https://yourleisure.uk.com/                                       \n",
              "    ResponsiblePerson                  EmployerSize \n",
              "327 Andrew Seymour (Group Accountant)  500 to 999   \n",
              "328 Colette Gardner (Group Head of HR) 250 to 499   \n",
              "329                                    250 to 499   \n",
              "330 Tina Drury (YHN Managing Director) 500 to 999   \n",
              "331 Debbie Barker (Head of HR)         Less than 250\n",
              "    CurrentName                         SubmittedAfterTheDeadline\n",
              "327 WILLIAMS MOTOR CO.(HOLDINGS)LIMITED False                    \n",
              "328 WINN SOLICITORS LIMITED             False                    \n",
              "329 Worcester City Council              False                    \n",
              "330 YOUR HOMES NEWCASTLE LIMITED        False                    \n",
              "331 YOUR LEISURE KENT LIMITED           False                    \n",
              "    DueDate             DateSubmitted      \n",
              "327 2023/04/05 00:00:00 2022/08/02 17:30:00\n",
              "328 2023/04/05 00:00:00 2022/10/19 14:01:38\n",
              "329 2023/03/31 00:00:00 2022/07/07 15:43:10\n",
              "330 2023/04/05 00:00:00 2022/06/17 09:02:43\n",
              "331 2023/04/05 00:00:00 2022/09/26 12:12:53"
            ]
          },
          "metadata": {}
        }
      ]
    },
    {
      "cell_type": "code",
      "source": [
        "dim(paygap)  # check the dimensions of your dataset (number of rows and columns)"
      ],
      "metadata": {
        "colab": {
          "base_uri": "https://localhost:8080/",
          "height": 34
        },
        "id": "pqeM3X0tw3-S",
        "outputId": "2dde348f-ef7a-4541-a9dc-4d31843c3867"
      },
      "execution_count": 57,
      "outputs": [
        {
          "output_type": "display_data",
          "data": {
            "text/html": [
              "<style>\n",
              ".list-inline {list-style: none; margin:0; padding: 0}\n",
              ".list-inline>li {display: inline-block}\n",
              ".list-inline>li:not(:last-child)::after {content: \"\\00b7\"; padding: 0 .5ex}\n",
              "</style>\n",
              "<ol class=list-inline><li>331</li><li>27</li></ol>\n"
            ],
            "text/markdown": "1. 331\n2. 27\n\n\n",
            "text/latex": "\\begin{enumerate*}\n\\item 331\n\\item 27\n\\end{enumerate*}\n",
            "text/plain": [
              "[1] 331  27"
            ]
          },
          "metadata": {}
        }
      ]
    },
    {
      "cell_type": "markdown",
      "source": [
        "# 2.3.1 Data types in R\n",
        "\n",
        "Every object in R has a data type. Below are the five elementary data types in R:\n",
        "\n",
        "- character – e.g. 'abcd'\n",
        "- integer – integer numbers, e.g. '2'\n",
        "- numeric – decimal numbers, e.g. '2.21'\n",
        "- complex – complex numbers, e.g. '2+2i'\n",
        "- logical – either TRUE or FALSE\n",
        "\n",
        "<br>\n",
        "\n",
        "Objects may be combined to form larger data structures. Some common ones:\n",
        "\n",
        "- vector – a one-dimensional array; there are two kinds of vectors:\n",
        "  - atomic vector – holds data of a single data type\n",
        "  - list – holds data of multiple data types\n",
        "- matrix – a two-dimensional array; all columns have the same data type\n",
        "- data frame – a two-dimensional array; columns may have different data types"
      ],
      "metadata": {
        "id": "ONdxndQAw-Qv"
      }
    },
    {
      "cell_type": "code",
      "source": [
        "class(paygap) # check datatype of object\n",
        "class(paygap$PostCode) # check datatype of a column "
      ],
      "metadata": {
        "colab": {
          "base_uri": "https://localhost:8080/",
          "height": 52
        },
        "id": "xPi-9UjZxLIu",
        "outputId": "821ce49a-4e5f-40b9-c43f-353e53048f85"
      },
      "execution_count": 66,
      "outputs": [
        {
          "output_type": "display_data",
          "data": {
            "text/html": [
              "'data.frame'"
            ],
            "text/markdown": "'data.frame'",
            "text/latex": "'data.frame'",
            "text/plain": [
              "[1] \"data.frame\""
            ]
          },
          "metadata": {}
        },
        {
          "output_type": "display_data",
          "data": {
            "text/html": [
              "'character'"
            ],
            "text/markdown": "'character'",
            "text/latex": "'character'",
            "text/plain": [
              "[1] \"character\""
            ]
          },
          "metadata": {}
        }
      ]
    },
    {
      "cell_type": "markdown",
      "source": [
        "# **Chapter 3 Wrangling and Visualizing Data**\n",
        "\n",
        "Wrangling data refers to cleaning/manipulating/reorganizing raw data to make it more useful for analysis. The `dplyr` package has a host of functions specifically for this purpose. This section will introduce you to a few.\n",
        "\n",
        "# 3.1.1 Indexing\n",
        "\n",
        "Elements in a vector, matrix, or data frame can be extracted using square brackets (numerical indexing). Indexing in R starts at 1 (in some other languages such as Python indexing starts at 0)."
      ],
      "metadata": {
        "id": "olklBEqhx18z"
      }
    },
    {
      "cell_type": "code",
      "source": [
        "# extract element in 1st row and 3th column\n",
        "paygap[1,3]"
      ],
      "metadata": {
        "colab": {
          "base_uri": "https://localhost:8080/",
          "height": 34
        },
        "id": "dcfW_sDw2suE",
        "outputId": "76d1e09b-c9f7-4e97-8d26-a28cb1cd6604"
      },
      "execution_count": 61,
      "outputs": [
        {
          "output_type": "display_data",
          "data": {
            "text/html": [
              "'Icknield Way, Kentford, Newmarket, Suffolk, CB8 7QT'"
            ],
            "text/markdown": "'Icknield Way, Kentford, Newmarket, Suffolk, CB8 7QT'",
            "text/latex": "'Icknield Way, Kentford, Newmarket, Suffolk, CB8 7QT'",
            "text/plain": [
              "[1] \"Icknield Way, Kentford, Newmarket, Suffolk, CB8 7QT\""
            ]
          },
          "metadata": {}
        }
      ]
    },
    {
      "cell_type": "code",
      "source": [
        "# extract rows 5-7 from columns 1-3\n",
        "paygap[5:7,1:3]"
      ],
      "metadata": {
        "colab": {
          "base_uri": "https://localhost:8080/",
          "height": 192
        },
        "id": "6BL3j_4L24KW",
        "outputId": "1e140e43-b649-4eac-deb4-6288ea248111"
      },
      "execution_count": 62,
      "outputs": [
        {
          "output_type": "display_data",
          "data": {
            "text/html": [
              "<table class=\"dataframe\">\n",
              "<caption>A data.frame: 3 × 3</caption>\n",
              "<thead>\n",
              "\t<tr><th></th><th scope=col>EmployerName</th><th scope=col>EmployerId</th><th scope=col>Address</th></tr>\n",
              "\t<tr><th></th><th scope=col>&lt;chr&gt;</th><th scope=col>&lt;int&gt;</th><th scope=col>&lt;chr&gt;</th></tr>\n",
              "</thead>\n",
              "<tbody>\n",
              "\t<tr><th scope=row>5</th><td>AFH INDEPENDENT FINANCIAL SERVICES LIMITED</td><td>19364</td><td>Afh House Buntsford Drive, Stoke Heath, Bromsgrove, Worcestershire, B60 4JE                           </td></tr>\n",
              "\t<tr><th scope=row>6</th><td>AGE UK NORTHUMBERLAND                     </td><td>19713</td><td>The Round House, Lintonville Parkway, Ashington, Northumberland, NE63 9JZ                             </td></tr>\n",
              "\t<tr><th scope=row>7</th><td>All Saints Catholic Academy Trust         </td><td>20895</td><td>c/o St Joan of Arc Catholic School, High Street, Rickmansworth, Hertfordshire, United Kingdom, WD3 1HG</td></tr>\n",
              "</tbody>\n",
              "</table>\n"
            ],
            "text/markdown": "\nA data.frame: 3 × 3\n\n| <!--/--> | EmployerName &lt;chr&gt; | EmployerId &lt;int&gt; | Address &lt;chr&gt; |\n|---|---|---|---|\n| 5 | AFH INDEPENDENT FINANCIAL SERVICES LIMITED | 19364 | Afh House Buntsford Drive, Stoke Heath, Bromsgrove, Worcestershire, B60 4JE                            |\n| 6 | AGE UK NORTHUMBERLAND                      | 19713 | The Round House, Lintonville Parkway, Ashington, Northumberland, NE63 9JZ                              |\n| 7 | All Saints Catholic Academy Trust          | 20895 | c/o St Joan of Arc Catholic School, High Street, Rickmansworth, Hertfordshire, United Kingdom, WD3 1HG |\n\n",
            "text/latex": "A data.frame: 3 × 3\n\\begin{tabular}{r|lll}\n  & EmployerName & EmployerId & Address\\\\\n  & <chr> & <int> & <chr>\\\\\n\\hline\n\t5 & AFH INDEPENDENT FINANCIAL SERVICES LIMITED & 19364 & Afh House Buntsford Drive, Stoke Heath, Bromsgrove, Worcestershire, B60 4JE                           \\\\\n\t6 & AGE UK NORTHUMBERLAND                      & 19713 & The Round House, Lintonville Parkway, Ashington, Northumberland, NE63 9JZ                             \\\\\n\t7 & All Saints Catholic Academy Trust          & 20895 & c/o St Joan of Arc Catholic School, High Street, Rickmansworth, Hertfordshire, United Kingdom, WD3 1HG\\\\\n\\end{tabular}\n",
            "text/plain": [
              "  EmployerName                               EmployerId\n",
              "5 AFH INDEPENDENT FINANCIAL SERVICES LIMITED 19364     \n",
              "6 AGE UK NORTHUMBERLAND                      19713     \n",
              "7 All Saints Catholic Academy Trust          20895     \n",
              "  Address                                                                                               \n",
              "5 Afh House Buntsford Drive, Stoke Heath, Bromsgrove, Worcestershire, B60 4JE                           \n",
              "6 The Round House, Lintonville Parkway, Ashington, Northumberland, NE63 9JZ                             \n",
              "7 c/o St Joan of Arc Catholic School, High Street, Rickmansworth, Hertfordshire, United Kingdom, WD3 1HG"
            ]
          },
          "metadata": {}
        }
      ]
    },
    {
      "cell_type": "markdown",
      "source": [
        "# 3.1.2 Extracting\n",
        "\n",
        "The extract operator, `$`, can extract a named element from a list. Since a data frame is a list, the` $` operator can be used to extract columns from a data frame:"
      ],
      "metadata": {
        "id": "cL5AGsZj27L3"
      }
    },
    {
      "cell_type": "code",
      "source": [
        "library(dplyr)"
      ],
      "metadata": {
        "id": "etETEQE3Ftug"
      },
      "execution_count": 142,
      "outputs": []
    },
    {
      "cell_type": "code",
      "source": [
        "# extract column 'EmployerName' and assign to new object 'CompanyName'\n",
        "# new_variable_name <- df_name$column_name\n",
        "CompanyName <- paygap$EmployerName\n",
        "CompanyName # view output"
      ],
      "metadata": {
        "colab": {
          "base_uri": "https://localhost:8080/",
          "height": 781
        },
        "id": "-i80DJ5A3LO3",
        "outputId": "ebe70ed9-be0e-475c-a347-aeba6389332f"
      },
      "execution_count": 64,
      "outputs": [
        {
          "output_type": "display_data",
          "data": {
            "text/html": [
              "<style>\n",
              ".list-inline {list-style: none; margin:0; padding: 0}\n",
              ".list-inline>li {display: inline-block}\n",
              ".list-inline>li:not(:last-child)::after {content: \"\\00b7\"; padding: 0 .5ex}\n",
              "</style>\n",
              "<ol class=list-inline><li>'A.J.N. STEELSTOCK LTD.'</li><li>'AB WORLD FOODS LIMITED'</li><li>'ABACUS EMPLOYMENT SERVICES LIMITED'</li><li>'Advisory, Conciliation and Arbitration Service'</li><li>'AFH INDEPENDENT FINANCIAL SERVICES LIMITED'</li><li>'AGE UK NORTHUMBERLAND'</li><li>'All Saints Catholic Academy Trust'</li><li>'Allerdale Borough Council'</li><li>'ALTRAD EMPLOYMENT SERVICES LIMITED'</li><li>'ANGLIAN COUNTRY INNS LIMITED'</li><li>'ANGLIAN WINDOWS LIMITED'</li><li>'APPH LIMITED'</li><li>'APPLUS UK LTD'</li><li>'ARC HOSPITALITY RECRUITMENT SOLUTIONS LTD'</li><li>'ARCHANT COMMUNITY MEDIA LIMITED'</li><li>'ARDINGLY COLLEGE LIMITED'</li><li>'ARENA EVENT SERVICES GROUP LIMITED'</li><li>'ARRK EUROPE LIMITED'</li><li>'ASPERS (STRATFORD CITY) LIMITED'</li><li>'ASSOCIATION FOR SPINAL INJURY RESEARCH REHABILITATION AND REINTEGRATION'</li><li>'ATLAS PROFESSIONALS UK LIMITED'</li><li>'ATTIGO ACADEMY TRUST'</li><li>'AUTISM INITIATIVES (UK)'</li><li>'AUTODESK LIMITED'</li><li>'AVIAGEN LIMITED'</li><li>'AVIAGEN UK LIMITED'</li><li>'AVIOS GROUP (AGL) LIMITED'</li><li>'Bank of England'</li><li>'BARKER CARE LIMITED'</li><li>'Barking &amp; Dagenham College'</li><li>'Barnet Enfield &amp; Haringey Mental Health NHS Trust'</li><li>'BBC STUDIOS DISTRIBUTION LIMITED'</li><li>'BBC STUDIOS PRODUCTIONS LIMITED'</li><li>'BE MODERN LIMITED'</li><li>'BEDFORDSHIRE SCHOOLS TRUST LIMITED'</li><li>'BERNICIA 2018 LIMITED'</li><li>'BESPOKE FACILITIES MANAGEMENT LTD'</li><li>'BETTER FUTURES MULTI-ACADEMY TRUST'</li><li>'BIRDS EYE LIMITED'</li><li>'BIRTENSHAW'</li><li>'Bishop Bewick Catholic Education Trust'</li><li>'BLACK SWAN INTERNATIONAL LIMITED'</li><li>'BLAZE SIGNS HOLDINGS LIMITED'</li><li>'BLENHEIM VISITORS LIMITED'</li><li>'BOSTIK LIMITED'</li><li>'BOWDRAPER LIMITED'</li><li>'BRANCASTER CARE HOMES LIMITED'</li><li>'BRAYLEYS CARS LIMITED'</li><li>'Bridge Academy Trust'</li><li>'Bridgend County Borough Council'</li><li>'BRISTOL LABORATORIES LIMITED'</li><li>'BRITISH BROADCASTING CORPORATION'</li><li>'BRITISH LAND COMPANY PUBLIC LIMITED COMPANY(THE)'</li><li>'BRITISH LAND PROPERTY SERVICES LIMITED'</li><li>'Broadland District Council'</li><li>'Broxtowe Borough Council'</li><li>'BURHILL GOLF AND LEISURE LIMITED'</li><li>'BURHILL GROUP LIMITED'</li><li>'BYTES SOFTWARE SERVICES LIMITED'</li><li>'C.L.C. CONTRACTORS LIMITED'</li><li>'CARAVAN CLUB LIMITED(THE)'</li><li>'CEDAR CARE HOMES LIMITED'</li><li>'CEPAC LIMITED'</li><li>'Channel Four Television Corporation'</li><li>'CHARLES PUGH (WINDSCREENS) LIMITED'</li><li>'CHOICE HOTELS LIMITED'</li><li>'CLARION EVENTS LIMITED'</li><li>'CLEARVIEW CLEANING SERVICES (HEREFORD) LIMITED'</li><li>'CLWYDALYN HOUSING LIMITED'</li><li>'Colchester Borough Council'</li><li>'Colchester Sixth Form College'</li><li>'COLLINS EARTHWORKS LIMITED'</li><li>'COMMUNITY GATEWAY ASSOCIATION LIMITED'</li><li>'COMPASS CHILDREN\\'S HOMES LIMITED'</li><li>'CONNECTION FLOORING LIMITED'</li><li>'CONTRACTOR UMBRELLA LIMITED'</li><li>'CORNWALL CARE SERVICES LIMITED'</li><li>'CORNWALL EDUCATION LEARNING TRUST'</li><li>'CRANMER EDUCATION TRUST'</li><li>'CREATIVE SUPPORT LIMITED'</li><li>'CROFTWOOD CARE UK LIMITED'</li><li>'CROSSROADS TRUCK &amp; BUS LIMITED'</li><li>'Dacorum Borough Council'</li><li>'DATA TECH HOLDINGS LIMITED'</li><li>'DELOITTE LLP'</li><li>'DELOITTE MCS LIMITED'</li><li>'Devon Partnership Nhs Trust'</li><li>'DHAMECHA FOODS LIMITED'</li><li>'DHP FAMILY LTD.'</li><li>'DRAEGER SAFETY UK LTD'</li><li>'DRAGON SCHOOL TRUST LIMITED'</li><li>'Dudley Integrated Health and Care NHS Trust'</li><li>'DUPONT TEIJIN FILMS U.K. LIMITED'</li><li>'DYNEX SEMICONDUCTOR LIMITED'</li><li>'East Devon District Council'</li><li>'East Midlands Academy Trust'</li><li>'East Of England Ambulance Service Nhs Trust'</li><li>'EAST OF ENGLAND CO-OPERATIVE SOCIETY LIMITED'</li><li>'East Sussex College Group'</li><li>'East Sussex Healthcare NHS Trust'</li><li>'EDEN LEARNING TRUST'</li><li>'EDINBURGH LEISURE'</li><li>'EMH CARE AND SUPPORT LIMITED'</li><li>'EMH HOUSING &amp; REGENERATION LIMITED'</li><li>'Endeavour MAT'</li><li>'Enfield Council'</li><li>'EPI GENESYS LIMITED'</li><li>'EXCEED UMBRELLA LIMITED'</li><li>'EYNSHAM PARTNERSHIP ACADEMY'</li><li>'F.HINDS LIMITED'</li><li>'FATHER HUDSON\\'S SOCIETY'</li><li>'FEDERATION OF JEWISH SERVICES'</li><li>'FIRCROFT ENGINEERING SERVICES LIMITED'</li><li>'FIRCROFT LIMITED'</li><li>'FOCUSED CONSULTING LIMITED'</li><li>'FOCUSRITE AUDIO ENGINEERING LIMITED'</li><li>'FOR UNDER FIVES LIMITED'</li><li>'FORMULA ONE AUTO CENTRES LIMITED'</li><li>'FORREST RECRUITMENT LIMITED'</li><li>'Frank Field Education Trust Limited'</li><li>'FRASSATI CATHOLIC ACADEMY TRUST'</li><li>'FRED CHAMPION GROUNDWORKS LIMITED'</li><li>'FUJITSU SERVICES LIMITED'</li><li>'Galileo Multi Academy Trust'</li><li>'GAMES WORKSHOP LIMITED'</li><li>'GB GROUP PLC'</li><li>'Gedling Borough Council'</li><li>'GIOMA (UK) LIMITED'</li><li>'GKN DRIVELINE BIRMINGHAM LIMITED'</li><li>'GLASSWELLS LIMITED'</li><li>'GOCARDLESS LTD'</li><li>'Gosforth Federated Academies Limited'</li><li>'GRAVENEY TRUST'</li><li>'Grwp LLandrillo Menai'</li><li>'GUARDIAN NEWS &amp; MEDIA LIMITED'</li><li>'GVS FILTER TECHNOLOGY UK LTD'</li><li>'HALO LEISURE SERVICES LIMITED'</li><li>'HALTON HOUSING'</li><li>'Harlow College'</li><li>'HAYLEY GROUP LIMITED'</li><li>'HBN RESTAURANTS LIMITED'</li><li>'HCAT'</li><li>'Health Research Authority'</li><li>'HEART OF MERCIA'</li><li>'HERAS PERIMETER PROTECTION LTD'</li><li>'HISP MULTI ACADEMY TRUST LTD'</li><li>'Holy Cross Catholic Multi Academy Company'</li><li>'HORNCASTLE EDUCATION TRUST'</li><li>'Hull College Group'</li><li>'Humberside Police'</li><li>'IN DEPTH SERVICES (CLEANING) LIMITED'</li><li>'Independent Office for Police Conduct'</li><li>'INFOR (UNITED KINGDOM) LIMITED'</li><li>'INSPIRE PARTNERSHIP MULTI ACADEMY TRUST'</li><li>'INTELLIGENT WORKPLACE SOLUTIONS LTD'</li><li>'INTERFLOOR LIMITED'</li><li>'JACKSON LEES GROUP LTD'</li><li>'JACOBS &amp; TURNER LIMITED'</li><li>'JDM FOOD GROUP LIMITED'</li><li>'JOBANDTALENT WORKS LTD'</li><li>'JOHNSTON CARMICHAEL (SCOTLAND) LIMITED'</li><li>'KAPLAN FINANCIAL LIMITED'</li><li>'KINDERTONS LIMITED'</li><li>'KISIMUL GROUP LIMITED'</li><li>'KONECRANES DEMAG UK LIMITED'</li><li>'KRISPY KREME U.K. LIMITED'</li><li>'KRS FINANCE LTD'</li><li>'LEONI WIRING SYSTEMS U.K. LIMITED'</li><li>'Liberty Leisure Limited'</li><li>'LIBRA TEXTILES LIMITED'</li><li>'LIBRARIES UNLIMITED SOUTH WEST'</li><li>'LIFESEARCH LIMITED'</li><li>'Lincolnshire Partnership NHS Foundation Trust'</li><li>'M.P.I. LIMITED'</li><li>'MACE CONSTRUCT LIMITED'</li><li>'MACE CONSULT LIMITED'</li><li>'MACE LIMITED'</li><li>'MACE OPERATE LIMITED'</li><li>'MACINTYRE CARE'</li><li>'Maidstone Borough Council'</li><li>'MAMA BEAR\\'S DAY NURSERY LTD'</li><li>'MANOR HOUSE HOTEL (OKEHAMPTON) LIMITED'</li><li>'MARIPOSA CARE GROUP LIMITED'</li><li>'MCB RESTAURANTS LIMITED'</li><li>'MCMANUS MANAGED PUB CO. LIMITED'</li><li>'MCPHILLIPS (WELLINGTON) LIMITED'</li><li>'MEDVIVO GROUP LIMITED'</li><li>'Merseyside Fire and Rescue Service'</li><li>'METHODIST HOMES'</li><li>'Middlesbrough College'</li><li>'Midkent College'</li><li><span style=white-space:pre-wrap>'Milton Keynes  College'</span></li><li>'Milton Keynes University Hospital NHS Foundation Trust'</li><li>'MOBILE WINDSCREENS LIMITED'</li><li>'MOONPIG GROUP PLC'</li><li>'MOONPIG.COM LIMITED'</li><li>'MOORES REFRIGERATION CONTROLLED TRANSPORT LIMITED'</li><li>'MTL ADVANCED LTD'</li><li>'MULTI PACKAGING SOLUTIONS UK LIMITED'</li><li>'NACRO'</li><li>'NELLSAR LIMITED'</li><li>'Newport City Council'</li><li>'NHS Birmingham and Solihull Clinical Commissioning Group'</li><li>'NHS Kernow CCG'</li><li>'NOMAD FOODS EUROPE LIMITED'</li><li>'Norfolk Community Health &amp; Care NHS trust'</li><li>'NORTON WAY MOTORS LIMITED'</li><li>'NOTTINGHAM ICE CENTRE LIMITED'</li><li>'NRL PAY LTD'</li><li>'ONE YMCA'</li><li>'ORBITAL UMBRELLA LIMITED'</li><li>'OUTCOMES FIRST MIDCO LIMITED'</li><li>'PARTNERS&amp; GROUP LIMITED'</li><li>'PAYSTREAM MY MAX 2 LIMITED'</li><li>'PAYSTREAM MY MAX 3 LIMITED'</li><li>'PAYSTREAM MY MAX LIMITED'</li><li>'Peterborough Limited'</li><li>'PILGRIMS\\' FRIEND SOCIETY'</li><li>'PLUME SCHOOL'</li><li>'PLUS DANE HOUSING LIMITED'</li><li>'PLYMOUTH ARGYLE FOOTBALL CLUB LIMITED'</li><li>'PORT OF LONDON AUTHORITY LIMITED'</li><li>'PORTSMOUTH WATER LIMITED'</li><li>'PREMEX SERVICES LIMITED'</li><li>'PRO - DIRECT GROUP LIMITED'</li><li>'PROPELLER PAY LIMITED'</li><li>'QUEST PAY SOLUTIONS NE LIMITED'</li><li>'R E PEOPLE LIMITED'</li><li>'R E PERSONNEL LIMITED'</li><li>'RALPH TRUSTEES LIMITED'</li><li>'RAMSDENS FINANCIAL LIMITED'</li><li>'REBELLION GROUP LTD'</li><li>'Registers of Scotland'</li><li>'RELATE'</li><li>'RENAULT RETAIL GROUP UK LIMITED'</li><li>'renfrewshire council'</li><li>'RETAIL &amp; ASSET SOLUTIONS LTD'</li><li>'RICH PRODUCTS LIMITED'</li><li>'RICHARD IRVIN FM LIMITED'</li><li>'RMET'</li><li>'ROCKSTEADY MUSIC SCHOOL LIMITED'</li><li>'ROMO LIMITED'</li><li>'ROSS-SHIRE ENGINEERING LIMITED'</li><li>'Royal Cornwall Hospitals NHS Trusts'</li><li>'ROYAL MENCAP SOCIETY'</li><li>'Rushcliffe Borough Council'</li><li>'RYDE HOUSE HOMES LTD'</li><li>'SABIO LTD'</li><li>'SAFEHANDS RECRUITMENT LTD'</li><li>'SAGA GROUP LIMITED'</li><li>'SAGA PLC'</li><li>'SAGA SERVICES LIMITED'</li><li>'SALVATION ARMY HOUSING ASSOCIATION'</li><li>'SAS SOFTWARE LIMITED'</li><li>'SCOTT LOGIC LIMITED'</li><li>'SCOTTISH WATER BUSINESS STREAM LIMITED'</li><li>'SFAET LTD'</li><li>'SHIELD SERVICE GROUP LIMITED'</li><li>'SIMPLY BIZ LIMITED'</li><li>'Solent Nhs Trust'</li><li>'South Norfolk Council'</li><li>'South Staffordshire college'</li><li>'South Tyneside and Sunderland NHS Foundation Trust'</li><li>'Southern Health Nhs Foundation Trust'</li><li>'St Bartholomew\\'s School'</li><li>'ST CHAD\\'S ACADEMIES TRUST'</li><li>'ST CUTHBERT\\'S CARE'</li><li>'ST CUTHBERT\\'S ROMAN CATHOLIC ACADEMY TRUST'</li><li>'ST MARY\\'S SCHOOL ASCOT'</li><li>'ST&amp;H LIMITED'</li><li>'STADIUM TRAFFIC MANAGEMENT LIMITED'</li><li>'STAR OUTICO LIMITED'</li><li>'STOELZLE FLACONNAGE LIMITED'</li><li>'STOUR VALE ACADEMY TRUST'</li><li>'STUDIO RETAIL LIMITED'</li><li>'SUFFOLK MIND'</li><li>'SUN CHEMICAL LIMITED'</li><li>'Surrey &amp; Sussex Healthcare N H S Trust'</li><li>'Swale Borough Council'</li><li>'SWANN-MORTON LIMITED'</li><li>'SWITCH MOBILITY LIMITED'</li><li>'TEACH FIRST'</li><li>'TEC Partnership'</li><li>'Test Valley Borough Council'</li><li>'Thames Learning Trust'</li><li>'THAMES WATER UTILITIES LIMITED'</li><li>'THE CAKE CREW LIMITED'</li><li>'THE CELTIC MANOR RESORT LIMITED'</li><li>'THE DONKEY SANCTUARY TRUSTEE LIMITED'</li><li>'THE EDUCATION VILLAGE ACADEMY TRUST'</li><li>'THE FARM POST PRODUCTION LIMITED'</li><li>'THE FINANCIAL CONDUCT AUTHORITY'</li><li>'THE HIGH SCHOOL OF GLASGOW'</li><li>'The Jo Richardson Community School'</li><li>'THE LEARNING FOR LIFE PARTNERSHIP'</li><li>'The Newcastle Upon Tyne Hospitals Nhs Foundation Trust'</li><li>'THE OUTWARD BOUND TRUST'</li><li>'THE SHEILING SPECIAL EDUCATION TRUST'</li><li>'THE STOUR ACADEMY TRUST'</li><li>'THE SYMPHONY GROUP PLC'</li><li>'THE THREE RIVERS LEARNING TRUST'</li><li>'THE TWO COUNTIES TRUST'</li><li>'The Weald School'</li><li>'THWAITES ENGINEERING CO LIMITED'</li><li>'THWAITES LIMITED'</li><li>'TILDA LIMITED'</li><li>'TPXIMPACT LIMITED'</li><li>'Transport for Wales Group'</li><li>'TRINITY HOSPICE AND PALLIATIVE CARE SERVICES LTD'</li><li>'TUV SUD LIMITED'</li><li>'TWO SAINTS LIMITED'</li><li>'UK-NSI CO. LIMITED'</li><li>'UKTV MEDIA LIMITED'</li><li>'UL VS LIMITED'</li><li>'UMBRELLA CONTRACTS LIMITED'</li><li>'University of the Arts, London'</li><li>'Vale of Glamorgan Council'</li><li>'VEGNER GROUP LIMITED'</li><li>'VENTRICA LTD'</li><li>'VIVID HOUSING LIMITED'</li><li>'VOYAGE 1 LIMITED'</li><li>'W. LIDDY &amp; COMPANY LIMITED'</li><li>'WALLICH-CLIFFORD COMMUNITY'</li><li>'WELLS CATHEDRAL SCHOOL, LIMITED'</li><li>'WESSEX EAGLE LIMITED'</li><li>'West Bromwich Building Society'</li><li>'WILLIAMS MOTOR CO.(HOLDINGS)LIMITED'</li><li>'WINN SOLICITORS LIMITED'</li><li>'Worcester City Council'</li><li>'YOUR HOMES NEWCASTLE LIMITED'</li><li>'YOUR LEISURE KENT LIMITED'</li></ol>\n"
            ],
            "text/markdown": "1. 'A.J.N. STEELSTOCK LTD.'\n2. 'AB WORLD FOODS LIMITED'\n3. 'ABACUS EMPLOYMENT SERVICES LIMITED'\n4. 'Advisory, Conciliation and Arbitration Service'\n5. 'AFH INDEPENDENT FINANCIAL SERVICES LIMITED'\n6. 'AGE UK NORTHUMBERLAND'\n7. 'All Saints Catholic Academy Trust'\n8. 'Allerdale Borough Council'\n9. 'ALTRAD EMPLOYMENT SERVICES LIMITED'\n10. 'ANGLIAN COUNTRY INNS LIMITED'\n11. 'ANGLIAN WINDOWS LIMITED'\n12. 'APPH LIMITED'\n13. 'APPLUS UK LTD'\n14. 'ARC HOSPITALITY RECRUITMENT SOLUTIONS LTD'\n15. 'ARCHANT COMMUNITY MEDIA LIMITED'\n16. 'ARDINGLY COLLEGE LIMITED'\n17. 'ARENA EVENT SERVICES GROUP LIMITED'\n18. 'ARRK EUROPE LIMITED'\n19. 'ASPERS (STRATFORD CITY) LIMITED'\n20. 'ASSOCIATION FOR SPINAL INJURY RESEARCH REHABILITATION AND REINTEGRATION'\n21. 'ATLAS PROFESSIONALS UK LIMITED'\n22. 'ATTIGO ACADEMY TRUST'\n23. 'AUTISM INITIATIVES (UK)'\n24. 'AUTODESK LIMITED'\n25. 'AVIAGEN LIMITED'\n26. 'AVIAGEN UK LIMITED'\n27. 'AVIOS GROUP (AGL) LIMITED'\n28. 'Bank of England'\n29. 'BARKER CARE LIMITED'\n30. 'Barking &amp; Dagenham College'\n31. 'Barnet Enfield &amp; Haringey Mental Health NHS Trust'\n32. 'BBC STUDIOS DISTRIBUTION LIMITED'\n33. 'BBC STUDIOS PRODUCTIONS LIMITED'\n34. 'BE MODERN LIMITED'\n35. 'BEDFORDSHIRE SCHOOLS TRUST LIMITED'\n36. 'BERNICIA 2018 LIMITED'\n37. 'BESPOKE FACILITIES MANAGEMENT LTD'\n38. 'BETTER FUTURES MULTI-ACADEMY TRUST'\n39. 'BIRDS EYE LIMITED'\n40. 'BIRTENSHAW'\n41. 'Bishop Bewick Catholic Education Trust'\n42. 'BLACK SWAN INTERNATIONAL LIMITED'\n43. 'BLAZE SIGNS HOLDINGS LIMITED'\n44. 'BLENHEIM VISITORS LIMITED'\n45. 'BOSTIK LIMITED'\n46. 'BOWDRAPER LIMITED'\n47. 'BRANCASTER CARE HOMES LIMITED'\n48. 'BRAYLEYS CARS LIMITED'\n49. 'Bridge Academy Trust'\n50. 'Bridgend County Borough Council'\n51. 'BRISTOL LABORATORIES LIMITED'\n52. 'BRITISH BROADCASTING CORPORATION'\n53. 'BRITISH LAND COMPANY PUBLIC LIMITED COMPANY(THE)'\n54. 'BRITISH LAND PROPERTY SERVICES LIMITED'\n55. 'Broadland District Council'\n56. 'Broxtowe Borough Council'\n57. 'BURHILL GOLF AND LEISURE LIMITED'\n58. 'BURHILL GROUP LIMITED'\n59. 'BYTES SOFTWARE SERVICES LIMITED'\n60. 'C.L.C. CONTRACTORS LIMITED'\n61. 'CARAVAN CLUB LIMITED(THE)'\n62. 'CEDAR CARE HOMES LIMITED'\n63. 'CEPAC LIMITED'\n64. 'Channel Four Television Corporation'\n65. 'CHARLES PUGH (WINDSCREENS) LIMITED'\n66. 'CHOICE HOTELS LIMITED'\n67. 'CLARION EVENTS LIMITED'\n68. 'CLEARVIEW CLEANING SERVICES (HEREFORD) LIMITED'\n69. 'CLWYDALYN HOUSING LIMITED'\n70. 'Colchester Borough Council'\n71. 'Colchester Sixth Form College'\n72. 'COLLINS EARTHWORKS LIMITED'\n73. 'COMMUNITY GATEWAY ASSOCIATION LIMITED'\n74. 'COMPASS CHILDREN\\'S HOMES LIMITED'\n75. 'CONNECTION FLOORING LIMITED'\n76. 'CONTRACTOR UMBRELLA LIMITED'\n77. 'CORNWALL CARE SERVICES LIMITED'\n78. 'CORNWALL EDUCATION LEARNING TRUST'\n79. 'CRANMER EDUCATION TRUST'\n80. 'CREATIVE SUPPORT LIMITED'\n81. 'CROFTWOOD CARE UK LIMITED'\n82. 'CROSSROADS TRUCK &amp; BUS LIMITED'\n83. 'Dacorum Borough Council'\n84. 'DATA TECH HOLDINGS LIMITED'\n85. 'DELOITTE LLP'\n86. 'DELOITTE MCS LIMITED'\n87. 'Devon Partnership Nhs Trust'\n88. 'DHAMECHA FOODS LIMITED'\n89. 'DHP FAMILY LTD.'\n90. 'DRAEGER SAFETY UK LTD'\n91. 'DRAGON SCHOOL TRUST LIMITED'\n92. 'Dudley Integrated Health and Care NHS Trust'\n93. 'DUPONT TEIJIN FILMS U.K. LIMITED'\n94. 'DYNEX SEMICONDUCTOR LIMITED'\n95. 'East Devon District Council'\n96. 'East Midlands Academy Trust'\n97. 'East Of England Ambulance Service Nhs Trust'\n98. 'EAST OF ENGLAND CO-OPERATIVE SOCIETY LIMITED'\n99. 'East Sussex College Group'\n100. 'East Sussex Healthcare NHS Trust'\n101. 'EDEN LEARNING TRUST'\n102. 'EDINBURGH LEISURE'\n103. 'EMH CARE AND SUPPORT LIMITED'\n104. 'EMH HOUSING &amp; REGENERATION LIMITED'\n105. 'Endeavour MAT'\n106. 'Enfield Council'\n107. 'EPI GENESYS LIMITED'\n108. 'EXCEED UMBRELLA LIMITED'\n109. 'EYNSHAM PARTNERSHIP ACADEMY'\n110. 'F.HINDS LIMITED'\n111. 'FATHER HUDSON\\'S SOCIETY'\n112. 'FEDERATION OF JEWISH SERVICES'\n113. 'FIRCROFT ENGINEERING SERVICES LIMITED'\n114. 'FIRCROFT LIMITED'\n115. 'FOCUSED CONSULTING LIMITED'\n116. 'FOCUSRITE AUDIO ENGINEERING LIMITED'\n117. 'FOR UNDER FIVES LIMITED'\n118. 'FORMULA ONE AUTO CENTRES LIMITED'\n119. 'FORREST RECRUITMENT LIMITED'\n120. 'Frank Field Education Trust Limited'\n121. 'FRASSATI CATHOLIC ACADEMY TRUST'\n122. 'FRED CHAMPION GROUNDWORKS LIMITED'\n123. 'FUJITSU SERVICES LIMITED'\n124. 'Galileo Multi Academy Trust'\n125. 'GAMES WORKSHOP LIMITED'\n126. 'GB GROUP PLC'\n127. 'Gedling Borough Council'\n128. 'GIOMA (UK) LIMITED'\n129. 'GKN DRIVELINE BIRMINGHAM LIMITED'\n130. 'GLASSWELLS LIMITED'\n131. 'GOCARDLESS LTD'\n132. 'Gosforth Federated Academies Limited'\n133. 'GRAVENEY TRUST'\n134. 'Grwp LLandrillo Menai'\n135. 'GUARDIAN NEWS &amp; MEDIA LIMITED'\n136. 'GVS FILTER TECHNOLOGY UK LTD'\n137. 'HALO LEISURE SERVICES LIMITED'\n138. 'HALTON HOUSING'\n139. 'Harlow College'\n140. 'HAYLEY GROUP LIMITED'\n141. 'HBN RESTAURANTS LIMITED'\n142. 'HCAT'\n143. 'Health Research Authority'\n144. 'HEART OF MERCIA'\n145. 'HERAS PERIMETER PROTECTION LTD'\n146. 'HISP MULTI ACADEMY TRUST LTD'\n147. 'Holy Cross Catholic Multi Academy Company'\n148. 'HORNCASTLE EDUCATION TRUST'\n149. 'Hull College Group'\n150. 'Humberside Police'\n151. 'IN DEPTH SERVICES (CLEANING) LIMITED'\n152. 'Independent Office for Police Conduct'\n153. 'INFOR (UNITED KINGDOM) LIMITED'\n154. 'INSPIRE PARTNERSHIP MULTI ACADEMY TRUST'\n155. 'INTELLIGENT WORKPLACE SOLUTIONS LTD'\n156. 'INTERFLOOR LIMITED'\n157. 'JACKSON LEES GROUP LTD'\n158. 'JACOBS &amp; TURNER LIMITED'\n159. 'JDM FOOD GROUP LIMITED'\n160. 'JOBANDTALENT WORKS LTD'\n161. 'JOHNSTON CARMICHAEL (SCOTLAND) LIMITED'\n162. 'KAPLAN FINANCIAL LIMITED'\n163. 'KINDERTONS LIMITED'\n164. 'KISIMUL GROUP LIMITED'\n165. 'KONECRANES DEMAG UK LIMITED'\n166. 'KRISPY KREME U.K. LIMITED'\n167. 'KRS FINANCE LTD'\n168. 'LEONI WIRING SYSTEMS U.K. LIMITED'\n169. 'Liberty Leisure Limited'\n170. 'LIBRA TEXTILES LIMITED'\n171. 'LIBRARIES UNLIMITED SOUTH WEST'\n172. 'LIFESEARCH LIMITED'\n173. 'Lincolnshire Partnership NHS Foundation Trust'\n174. 'M.P.I. LIMITED'\n175. 'MACE CONSTRUCT LIMITED'\n176. 'MACE CONSULT LIMITED'\n177. 'MACE LIMITED'\n178. 'MACE OPERATE LIMITED'\n179. 'MACINTYRE CARE'\n180. 'Maidstone Borough Council'\n181. 'MAMA BEAR\\'S DAY NURSERY LTD'\n182. 'MANOR HOUSE HOTEL (OKEHAMPTON) LIMITED'\n183. 'MARIPOSA CARE GROUP LIMITED'\n184. 'MCB RESTAURANTS LIMITED'\n185. 'MCMANUS MANAGED PUB CO. LIMITED'\n186. 'MCPHILLIPS (WELLINGTON) LIMITED'\n187. 'MEDVIVO GROUP LIMITED'\n188. 'Merseyside Fire and Rescue Service'\n189. 'METHODIST HOMES'\n190. 'Middlesbrough College'\n191. 'Midkent College'\n192. <span style=white-space:pre-wrap>'Milton Keynes  College'</span>\n193. 'Milton Keynes University Hospital NHS Foundation Trust'\n194. 'MOBILE WINDSCREENS LIMITED'\n195. 'MOONPIG GROUP PLC'\n196. 'MOONPIG.COM LIMITED'\n197. 'MOORES REFRIGERATION CONTROLLED TRANSPORT LIMITED'\n198. 'MTL ADVANCED LTD'\n199. 'MULTI PACKAGING SOLUTIONS UK LIMITED'\n200. 'NACRO'\n201. 'NELLSAR LIMITED'\n202. 'Newport City Council'\n203. 'NHS Birmingham and Solihull Clinical Commissioning Group'\n204. 'NHS Kernow CCG'\n205. 'NOMAD FOODS EUROPE LIMITED'\n206. 'Norfolk Community Health &amp; Care NHS trust'\n207. 'NORTON WAY MOTORS LIMITED'\n208. 'NOTTINGHAM ICE CENTRE LIMITED'\n209. 'NRL PAY LTD'\n210. 'ONE YMCA'\n211. 'ORBITAL UMBRELLA LIMITED'\n212. 'OUTCOMES FIRST MIDCO LIMITED'\n213. 'PARTNERS&amp; GROUP LIMITED'\n214. 'PAYSTREAM MY MAX 2 LIMITED'\n215. 'PAYSTREAM MY MAX 3 LIMITED'\n216. 'PAYSTREAM MY MAX LIMITED'\n217. 'Peterborough Limited'\n218. 'PILGRIMS\\' FRIEND SOCIETY'\n219. 'PLUME SCHOOL'\n220. 'PLUS DANE HOUSING LIMITED'\n221. 'PLYMOUTH ARGYLE FOOTBALL CLUB LIMITED'\n222. 'PORT OF LONDON AUTHORITY LIMITED'\n223. 'PORTSMOUTH WATER LIMITED'\n224. 'PREMEX SERVICES LIMITED'\n225. 'PRO - DIRECT GROUP LIMITED'\n226. 'PROPELLER PAY LIMITED'\n227. 'QUEST PAY SOLUTIONS NE LIMITED'\n228. 'R E PEOPLE LIMITED'\n229. 'R E PERSONNEL LIMITED'\n230. 'RALPH TRUSTEES LIMITED'\n231. 'RAMSDENS FINANCIAL LIMITED'\n232. 'REBELLION GROUP LTD'\n233. 'Registers of Scotland'\n234. 'RELATE'\n235. 'RENAULT RETAIL GROUP UK LIMITED'\n236. 'renfrewshire council'\n237. 'RETAIL &amp; ASSET SOLUTIONS LTD'\n238. 'RICH PRODUCTS LIMITED'\n239. 'RICHARD IRVIN FM LIMITED'\n240. 'RMET'\n241. 'ROCKSTEADY MUSIC SCHOOL LIMITED'\n242. 'ROMO LIMITED'\n243. 'ROSS-SHIRE ENGINEERING LIMITED'\n244. 'Royal Cornwall Hospitals NHS Trusts'\n245. 'ROYAL MENCAP SOCIETY'\n246. 'Rushcliffe Borough Council'\n247. 'RYDE HOUSE HOMES LTD'\n248. 'SABIO LTD'\n249. 'SAFEHANDS RECRUITMENT LTD'\n250. 'SAGA GROUP LIMITED'\n251. 'SAGA PLC'\n252. 'SAGA SERVICES LIMITED'\n253. 'SALVATION ARMY HOUSING ASSOCIATION'\n254. 'SAS SOFTWARE LIMITED'\n255. 'SCOTT LOGIC LIMITED'\n256. 'SCOTTISH WATER BUSINESS STREAM LIMITED'\n257. 'SFAET LTD'\n258. 'SHIELD SERVICE GROUP LIMITED'\n259. 'SIMPLY BIZ LIMITED'\n260. 'Solent Nhs Trust'\n261. 'South Norfolk Council'\n262. 'South Staffordshire college'\n263. 'South Tyneside and Sunderland NHS Foundation Trust'\n264. 'Southern Health Nhs Foundation Trust'\n265. 'St Bartholomew\\'s School'\n266. 'ST CHAD\\'S ACADEMIES TRUST'\n267. 'ST CUTHBERT\\'S CARE'\n268. 'ST CUTHBERT\\'S ROMAN CATHOLIC ACADEMY TRUST'\n269. 'ST MARY\\'S SCHOOL ASCOT'\n270. 'ST&amp;H LIMITED'\n271. 'STADIUM TRAFFIC MANAGEMENT LIMITED'\n272. 'STAR OUTICO LIMITED'\n273. 'STOELZLE FLACONNAGE LIMITED'\n274. 'STOUR VALE ACADEMY TRUST'\n275. 'STUDIO RETAIL LIMITED'\n276. 'SUFFOLK MIND'\n277. 'SUN CHEMICAL LIMITED'\n278. 'Surrey &amp; Sussex Healthcare N H S Trust'\n279. 'Swale Borough Council'\n280. 'SWANN-MORTON LIMITED'\n281. 'SWITCH MOBILITY LIMITED'\n282. 'TEACH FIRST'\n283. 'TEC Partnership'\n284. 'Test Valley Borough Council'\n285. 'Thames Learning Trust'\n286. 'THAMES WATER UTILITIES LIMITED'\n287. 'THE CAKE CREW LIMITED'\n288. 'THE CELTIC MANOR RESORT LIMITED'\n289. 'THE DONKEY SANCTUARY TRUSTEE LIMITED'\n290. 'THE EDUCATION VILLAGE ACADEMY TRUST'\n291. 'THE FARM POST PRODUCTION LIMITED'\n292. 'THE FINANCIAL CONDUCT AUTHORITY'\n293. 'THE HIGH SCHOOL OF GLASGOW'\n294. 'The Jo Richardson Community School'\n295. 'THE LEARNING FOR LIFE PARTNERSHIP'\n296. 'The Newcastle Upon Tyne Hospitals Nhs Foundation Trust'\n297. 'THE OUTWARD BOUND TRUST'\n298. 'THE SHEILING SPECIAL EDUCATION TRUST'\n299. 'THE STOUR ACADEMY TRUST'\n300. 'THE SYMPHONY GROUP PLC'\n301. 'THE THREE RIVERS LEARNING TRUST'\n302. 'THE TWO COUNTIES TRUST'\n303. 'The Weald School'\n304. 'THWAITES ENGINEERING CO LIMITED'\n305. 'THWAITES LIMITED'\n306. 'TILDA LIMITED'\n307. 'TPXIMPACT LIMITED'\n308. 'Transport for Wales Group'\n309. 'TRINITY HOSPICE AND PALLIATIVE CARE SERVICES LTD'\n310. 'TUV SUD LIMITED'\n311. 'TWO SAINTS LIMITED'\n312. 'UK-NSI CO. LIMITED'\n313. 'UKTV MEDIA LIMITED'\n314. 'UL VS LIMITED'\n315. 'UMBRELLA CONTRACTS LIMITED'\n316. 'University of the Arts, London'\n317. 'Vale of Glamorgan Council'\n318. 'VEGNER GROUP LIMITED'\n319. 'VENTRICA LTD'\n320. 'VIVID HOUSING LIMITED'\n321. 'VOYAGE 1 LIMITED'\n322. 'W. LIDDY &amp; COMPANY LIMITED'\n323. 'WALLICH-CLIFFORD COMMUNITY'\n324. 'WELLS CATHEDRAL SCHOOL, LIMITED'\n325. 'WESSEX EAGLE LIMITED'\n326. 'West Bromwich Building Society'\n327. 'WILLIAMS MOTOR CO.(HOLDINGS)LIMITED'\n328. 'WINN SOLICITORS LIMITED'\n329. 'Worcester City Council'\n330. 'YOUR HOMES NEWCASTLE LIMITED'\n331. 'YOUR LEISURE KENT LIMITED'\n\n\n",
            "text/latex": "\\begin{enumerate*}\n\\item 'A.J.N. STEELSTOCK LTD.'\n\\item 'AB WORLD FOODS LIMITED'\n\\item 'ABACUS EMPLOYMENT SERVICES LIMITED'\n\\item 'Advisory, Conciliation and Arbitration Service'\n\\item 'AFH INDEPENDENT FINANCIAL SERVICES LIMITED'\n\\item 'AGE UK NORTHUMBERLAND'\n\\item 'All Saints Catholic Academy Trust'\n\\item 'Allerdale Borough Council'\n\\item 'ALTRAD EMPLOYMENT SERVICES LIMITED'\n\\item 'ANGLIAN COUNTRY INNS LIMITED'\n\\item 'ANGLIAN WINDOWS LIMITED'\n\\item 'APPH LIMITED'\n\\item 'APPLUS UK LTD'\n\\item 'ARC HOSPITALITY RECRUITMENT SOLUTIONS LTD'\n\\item 'ARCHANT COMMUNITY MEDIA LIMITED'\n\\item 'ARDINGLY COLLEGE LIMITED'\n\\item 'ARENA EVENT SERVICES GROUP LIMITED'\n\\item 'ARRK EUROPE LIMITED'\n\\item 'ASPERS (STRATFORD CITY) LIMITED'\n\\item 'ASSOCIATION FOR SPINAL INJURY RESEARCH REHABILITATION AND REINTEGRATION'\n\\item 'ATLAS PROFESSIONALS UK LIMITED'\n\\item 'ATTIGO ACADEMY TRUST'\n\\item 'AUTISM INITIATIVES (UK)'\n\\item 'AUTODESK LIMITED'\n\\item 'AVIAGEN LIMITED'\n\\item 'AVIAGEN UK LIMITED'\n\\item 'AVIOS GROUP (AGL) LIMITED'\n\\item 'Bank of England'\n\\item 'BARKER CARE LIMITED'\n\\item 'Barking \\& Dagenham College'\n\\item 'Barnet Enfield \\& Haringey Mental Health NHS Trust'\n\\item 'BBC STUDIOS DISTRIBUTION LIMITED'\n\\item 'BBC STUDIOS PRODUCTIONS LIMITED'\n\\item 'BE MODERN LIMITED'\n\\item 'BEDFORDSHIRE SCHOOLS TRUST LIMITED'\n\\item 'BERNICIA 2018 LIMITED'\n\\item 'BESPOKE FACILITIES MANAGEMENT LTD'\n\\item 'BETTER FUTURES MULTI-ACADEMY TRUST'\n\\item 'BIRDS EYE LIMITED'\n\\item 'BIRTENSHAW'\n\\item 'Bishop Bewick Catholic Education Trust'\n\\item 'BLACK SWAN INTERNATIONAL LIMITED'\n\\item 'BLAZE SIGNS HOLDINGS LIMITED'\n\\item 'BLENHEIM VISITORS LIMITED'\n\\item 'BOSTIK LIMITED'\n\\item 'BOWDRAPER LIMITED'\n\\item 'BRANCASTER CARE HOMES LIMITED'\n\\item 'BRAYLEYS CARS LIMITED'\n\\item 'Bridge Academy Trust'\n\\item 'Bridgend County Borough Council'\n\\item 'BRISTOL LABORATORIES LIMITED'\n\\item 'BRITISH BROADCASTING CORPORATION'\n\\item 'BRITISH LAND COMPANY PUBLIC LIMITED COMPANY(THE)'\n\\item 'BRITISH LAND PROPERTY SERVICES LIMITED'\n\\item 'Broadland District Council'\n\\item 'Broxtowe Borough Council'\n\\item 'BURHILL GOLF AND LEISURE LIMITED'\n\\item 'BURHILL GROUP LIMITED'\n\\item 'BYTES SOFTWARE SERVICES LIMITED'\n\\item 'C.L.C. CONTRACTORS LIMITED'\n\\item 'CARAVAN CLUB LIMITED(THE)'\n\\item 'CEDAR CARE HOMES LIMITED'\n\\item 'CEPAC LIMITED'\n\\item 'Channel Four Television Corporation'\n\\item 'CHARLES PUGH (WINDSCREENS) LIMITED'\n\\item 'CHOICE HOTELS LIMITED'\n\\item 'CLARION EVENTS LIMITED'\n\\item 'CLEARVIEW CLEANING SERVICES (HEREFORD) LIMITED'\n\\item 'CLWYDALYN HOUSING LIMITED'\n\\item 'Colchester Borough Council'\n\\item 'Colchester Sixth Form College'\n\\item 'COLLINS EARTHWORKS LIMITED'\n\\item 'COMMUNITY GATEWAY ASSOCIATION LIMITED'\n\\item 'COMPASS CHILDREN\\textbackslash{}'S HOMES LIMITED'\n\\item 'CONNECTION FLOORING LIMITED'\n\\item 'CONTRACTOR UMBRELLA LIMITED'\n\\item 'CORNWALL CARE SERVICES LIMITED'\n\\item 'CORNWALL EDUCATION LEARNING TRUST'\n\\item 'CRANMER EDUCATION TRUST'\n\\item 'CREATIVE SUPPORT LIMITED'\n\\item 'CROFTWOOD CARE UK LIMITED'\n\\item 'CROSSROADS TRUCK \\& BUS LIMITED'\n\\item 'Dacorum Borough Council'\n\\item 'DATA TECH HOLDINGS LIMITED'\n\\item 'DELOITTE LLP'\n\\item 'DELOITTE MCS LIMITED'\n\\item 'Devon Partnership Nhs Trust'\n\\item 'DHAMECHA FOODS LIMITED'\n\\item 'DHP FAMILY LTD.'\n\\item 'DRAEGER SAFETY UK LTD'\n\\item 'DRAGON SCHOOL TRUST LIMITED'\n\\item 'Dudley Integrated Health and Care NHS Trust'\n\\item 'DUPONT TEIJIN FILMS U.K. LIMITED'\n\\item 'DYNEX SEMICONDUCTOR LIMITED'\n\\item 'East Devon District Council'\n\\item 'East Midlands Academy Trust'\n\\item 'East Of England Ambulance Service Nhs Trust'\n\\item 'EAST OF ENGLAND CO-OPERATIVE SOCIETY LIMITED'\n\\item 'East Sussex College Group'\n\\item 'East Sussex Healthcare NHS Trust'\n\\item 'EDEN LEARNING TRUST'\n\\item 'EDINBURGH LEISURE'\n\\item 'EMH CARE AND SUPPORT LIMITED'\n\\item 'EMH HOUSING \\& REGENERATION LIMITED'\n\\item 'Endeavour MAT'\n\\item 'Enfield Council'\n\\item 'EPI GENESYS LIMITED'\n\\item 'EXCEED UMBRELLA LIMITED'\n\\item 'EYNSHAM PARTNERSHIP ACADEMY'\n\\item 'F.HINDS LIMITED'\n\\item 'FATHER HUDSON\\textbackslash{}'S SOCIETY'\n\\item 'FEDERATION OF JEWISH SERVICES'\n\\item 'FIRCROFT ENGINEERING SERVICES LIMITED'\n\\item 'FIRCROFT LIMITED'\n\\item 'FOCUSED CONSULTING LIMITED'\n\\item 'FOCUSRITE AUDIO ENGINEERING LIMITED'\n\\item 'FOR UNDER FIVES LIMITED'\n\\item 'FORMULA ONE AUTO CENTRES LIMITED'\n\\item 'FORREST RECRUITMENT LIMITED'\n\\item 'Frank Field Education Trust Limited'\n\\item 'FRASSATI CATHOLIC ACADEMY TRUST'\n\\item 'FRED CHAMPION GROUNDWORKS LIMITED'\n\\item 'FUJITSU SERVICES LIMITED'\n\\item 'Galileo Multi Academy Trust'\n\\item 'GAMES WORKSHOP LIMITED'\n\\item 'GB GROUP PLC'\n\\item 'Gedling Borough Council'\n\\item 'GIOMA (UK) LIMITED'\n\\item 'GKN DRIVELINE BIRMINGHAM LIMITED'\n\\item 'GLASSWELLS LIMITED'\n\\item 'GOCARDLESS LTD'\n\\item 'Gosforth Federated Academies Limited'\n\\item 'GRAVENEY TRUST'\n\\item 'Grwp LLandrillo Menai'\n\\item 'GUARDIAN NEWS \\& MEDIA LIMITED'\n\\item 'GVS FILTER TECHNOLOGY UK LTD'\n\\item 'HALO LEISURE SERVICES LIMITED'\n\\item 'HALTON HOUSING'\n\\item 'Harlow College'\n\\item 'HAYLEY GROUP LIMITED'\n\\item 'HBN RESTAURANTS LIMITED'\n\\item 'HCAT'\n\\item 'Health Research Authority'\n\\item 'HEART OF MERCIA'\n\\item 'HERAS PERIMETER PROTECTION LTD'\n\\item 'HISP MULTI ACADEMY TRUST LTD'\n\\item 'Holy Cross Catholic Multi Academy Company'\n\\item 'HORNCASTLE EDUCATION TRUST'\n\\item 'Hull College Group'\n\\item 'Humberside Police'\n\\item 'IN DEPTH SERVICES (CLEANING) LIMITED'\n\\item 'Independent Office for Police Conduct'\n\\item 'INFOR (UNITED KINGDOM) LIMITED'\n\\item 'INSPIRE PARTNERSHIP MULTI ACADEMY TRUST'\n\\item 'INTELLIGENT WORKPLACE SOLUTIONS LTD'\n\\item 'INTERFLOOR LIMITED'\n\\item 'JACKSON LEES GROUP LTD'\n\\item 'JACOBS \\& TURNER LIMITED'\n\\item 'JDM FOOD GROUP LIMITED'\n\\item 'JOBANDTALENT WORKS LTD'\n\\item 'JOHNSTON CARMICHAEL (SCOTLAND) LIMITED'\n\\item 'KAPLAN FINANCIAL LIMITED'\n\\item 'KINDERTONS LIMITED'\n\\item 'KISIMUL GROUP LIMITED'\n\\item 'KONECRANES DEMAG UK LIMITED'\n\\item 'KRISPY KREME U.K. LIMITED'\n\\item 'KRS FINANCE LTD'\n\\item 'LEONI WIRING SYSTEMS U.K. LIMITED'\n\\item 'Liberty Leisure Limited'\n\\item 'LIBRA TEXTILES LIMITED'\n\\item 'LIBRARIES UNLIMITED SOUTH WEST'\n\\item 'LIFESEARCH LIMITED'\n\\item 'Lincolnshire Partnership NHS Foundation Trust'\n\\item 'M.P.I. LIMITED'\n\\item 'MACE CONSTRUCT LIMITED'\n\\item 'MACE CONSULT LIMITED'\n\\item 'MACE LIMITED'\n\\item 'MACE OPERATE LIMITED'\n\\item 'MACINTYRE CARE'\n\\item 'Maidstone Borough Council'\n\\item 'MAMA BEAR\\textbackslash{}'S DAY NURSERY LTD'\n\\item 'MANOR HOUSE HOTEL (OKEHAMPTON) LIMITED'\n\\item 'MARIPOSA CARE GROUP LIMITED'\n\\item 'MCB RESTAURANTS LIMITED'\n\\item 'MCMANUS MANAGED PUB CO. LIMITED'\n\\item 'MCPHILLIPS (WELLINGTON) LIMITED'\n\\item 'MEDVIVO GROUP LIMITED'\n\\item 'Merseyside Fire and Rescue Service'\n\\item 'METHODIST HOMES'\n\\item 'Middlesbrough College'\n\\item 'Midkent College'\n\\item 'Milton Keynes  College'\n\\item 'Milton Keynes University Hospital NHS Foundation Trust'\n\\item 'MOBILE WINDSCREENS LIMITED'\n\\item 'MOONPIG GROUP PLC'\n\\item 'MOONPIG.COM LIMITED'\n\\item 'MOORES REFRIGERATION CONTROLLED TRANSPORT LIMITED'\n\\item 'MTL ADVANCED LTD'\n\\item 'MULTI PACKAGING SOLUTIONS UK LIMITED'\n\\item 'NACRO'\n\\item 'NELLSAR LIMITED'\n\\item 'Newport City Council'\n\\item 'NHS Birmingham and Solihull Clinical Commissioning Group'\n\\item 'NHS Kernow CCG'\n\\item 'NOMAD FOODS EUROPE LIMITED'\n\\item 'Norfolk Community Health \\& Care NHS trust'\n\\item 'NORTON WAY MOTORS LIMITED'\n\\item 'NOTTINGHAM ICE CENTRE LIMITED'\n\\item 'NRL PAY LTD'\n\\item 'ONE YMCA'\n\\item 'ORBITAL UMBRELLA LIMITED'\n\\item 'OUTCOMES FIRST MIDCO LIMITED'\n\\item 'PARTNERS\\& GROUP LIMITED'\n\\item 'PAYSTREAM MY MAX 2 LIMITED'\n\\item 'PAYSTREAM MY MAX 3 LIMITED'\n\\item 'PAYSTREAM MY MAX LIMITED'\n\\item 'Peterborough Limited'\n\\item 'PILGRIMS\\textbackslash{}' FRIEND SOCIETY'\n\\item 'PLUME SCHOOL'\n\\item 'PLUS DANE HOUSING LIMITED'\n\\item 'PLYMOUTH ARGYLE FOOTBALL CLUB LIMITED'\n\\item 'PORT OF LONDON AUTHORITY LIMITED'\n\\item 'PORTSMOUTH WATER LIMITED'\n\\item 'PREMEX SERVICES LIMITED'\n\\item 'PRO - DIRECT GROUP LIMITED'\n\\item 'PROPELLER PAY LIMITED'\n\\item 'QUEST PAY SOLUTIONS NE LIMITED'\n\\item 'R E PEOPLE LIMITED'\n\\item 'R E PERSONNEL LIMITED'\n\\item 'RALPH TRUSTEES LIMITED'\n\\item 'RAMSDENS FINANCIAL LIMITED'\n\\item 'REBELLION GROUP LTD'\n\\item 'Registers of Scotland'\n\\item 'RELATE'\n\\item 'RENAULT RETAIL GROUP UK LIMITED'\n\\item 'renfrewshire council'\n\\item 'RETAIL \\& ASSET SOLUTIONS LTD'\n\\item 'RICH PRODUCTS LIMITED'\n\\item 'RICHARD IRVIN FM LIMITED'\n\\item 'RMET'\n\\item 'ROCKSTEADY MUSIC SCHOOL LIMITED'\n\\item 'ROMO LIMITED'\n\\item 'ROSS-SHIRE ENGINEERING LIMITED'\n\\item 'Royal Cornwall Hospitals NHS Trusts'\n\\item 'ROYAL MENCAP SOCIETY'\n\\item 'Rushcliffe Borough Council'\n\\item 'RYDE HOUSE HOMES LTD'\n\\item 'SABIO LTD'\n\\item 'SAFEHANDS RECRUITMENT LTD'\n\\item 'SAGA GROUP LIMITED'\n\\item 'SAGA PLC'\n\\item 'SAGA SERVICES LIMITED'\n\\item 'SALVATION ARMY HOUSING ASSOCIATION'\n\\item 'SAS SOFTWARE LIMITED'\n\\item 'SCOTT LOGIC LIMITED'\n\\item 'SCOTTISH WATER BUSINESS STREAM LIMITED'\n\\item 'SFAET LTD'\n\\item 'SHIELD SERVICE GROUP LIMITED'\n\\item 'SIMPLY BIZ LIMITED'\n\\item 'Solent Nhs Trust'\n\\item 'South Norfolk Council'\n\\item 'South Staffordshire college'\n\\item 'South Tyneside and Sunderland NHS Foundation Trust'\n\\item 'Southern Health Nhs Foundation Trust'\n\\item 'St Bartholomew\\textbackslash{}'s School'\n\\item 'ST CHAD\\textbackslash{}'S ACADEMIES TRUST'\n\\item 'ST CUTHBERT\\textbackslash{}'S CARE'\n\\item 'ST CUTHBERT\\textbackslash{}'S ROMAN CATHOLIC ACADEMY TRUST'\n\\item 'ST MARY\\textbackslash{}'S SCHOOL ASCOT'\n\\item 'ST\\&H LIMITED'\n\\item 'STADIUM TRAFFIC MANAGEMENT LIMITED'\n\\item 'STAR OUTICO LIMITED'\n\\item 'STOELZLE FLACONNAGE LIMITED'\n\\item 'STOUR VALE ACADEMY TRUST'\n\\item 'STUDIO RETAIL LIMITED'\n\\item 'SUFFOLK MIND'\n\\item 'SUN CHEMICAL LIMITED'\n\\item 'Surrey \\& Sussex Healthcare N H S Trust'\n\\item 'Swale Borough Council'\n\\item 'SWANN-MORTON LIMITED'\n\\item 'SWITCH MOBILITY LIMITED'\n\\item 'TEACH FIRST'\n\\item 'TEC Partnership'\n\\item 'Test Valley Borough Council'\n\\item 'Thames Learning Trust'\n\\item 'THAMES WATER UTILITIES LIMITED'\n\\item 'THE CAKE CREW LIMITED'\n\\item 'THE CELTIC MANOR RESORT LIMITED'\n\\item 'THE DONKEY SANCTUARY TRUSTEE LIMITED'\n\\item 'THE EDUCATION VILLAGE ACADEMY TRUST'\n\\item 'THE FARM POST PRODUCTION LIMITED'\n\\item 'THE FINANCIAL CONDUCT AUTHORITY'\n\\item 'THE HIGH SCHOOL OF GLASGOW'\n\\item 'The Jo Richardson Community School'\n\\item 'THE LEARNING FOR LIFE PARTNERSHIP'\n\\item 'The Newcastle Upon Tyne Hospitals Nhs Foundation Trust'\n\\item 'THE OUTWARD BOUND TRUST'\n\\item 'THE SHEILING SPECIAL EDUCATION TRUST'\n\\item 'THE STOUR ACADEMY TRUST'\n\\item 'THE SYMPHONY GROUP PLC'\n\\item 'THE THREE RIVERS LEARNING TRUST'\n\\item 'THE TWO COUNTIES TRUST'\n\\item 'The Weald School'\n\\item 'THWAITES ENGINEERING CO LIMITED'\n\\item 'THWAITES LIMITED'\n\\item 'TILDA LIMITED'\n\\item 'TPXIMPACT LIMITED'\n\\item 'Transport for Wales Group'\n\\item 'TRINITY HOSPICE AND PALLIATIVE CARE SERVICES LTD'\n\\item 'TUV SUD LIMITED'\n\\item 'TWO SAINTS LIMITED'\n\\item 'UK-NSI CO. LIMITED'\n\\item 'UKTV MEDIA LIMITED'\n\\item 'UL VS LIMITED'\n\\item 'UMBRELLA CONTRACTS LIMITED'\n\\item 'University of the Arts, London'\n\\item 'Vale of Glamorgan Council'\n\\item 'VEGNER GROUP LIMITED'\n\\item 'VENTRICA LTD'\n\\item 'VIVID HOUSING LIMITED'\n\\item 'VOYAGE 1 LIMITED'\n\\item 'W. LIDDY \\& COMPANY LIMITED'\n\\item 'WALLICH-CLIFFORD COMMUNITY'\n\\item 'WELLS CATHEDRAL SCHOOL, LIMITED'\n\\item 'WESSEX EAGLE LIMITED'\n\\item 'West Bromwich Building Society'\n\\item 'WILLIAMS MOTOR CO.(HOLDINGS)LIMITED'\n\\item 'WINN SOLICITORS LIMITED'\n\\item 'Worcester City Council'\n\\item 'YOUR HOMES NEWCASTLE LIMITED'\n\\item 'YOUR LEISURE KENT LIMITED'\n\\end{enumerate*}\n",
            "text/plain": [
              "  [1] \"A.J.N. STEELSTOCK LTD.\"                                                 \n",
              "  [2] \"AB WORLD FOODS LIMITED\"                                                 \n",
              "  [3] \"ABACUS EMPLOYMENT SERVICES LIMITED\"                                     \n",
              "  [4] \"Advisory, Conciliation and Arbitration Service\"                         \n",
              "  [5] \"AFH INDEPENDENT FINANCIAL SERVICES LIMITED\"                             \n",
              "  [6] \"AGE UK NORTHUMBERLAND\"                                                  \n",
              "  [7] \"All Saints Catholic Academy Trust\"                                      \n",
              "  [8] \"Allerdale Borough Council\"                                              \n",
              "  [9] \"ALTRAD EMPLOYMENT SERVICES LIMITED\"                                     \n",
              " [10] \"ANGLIAN COUNTRY INNS LIMITED\"                                           \n",
              " [11] \"ANGLIAN WINDOWS LIMITED\"                                                \n",
              " [12] \"APPH LIMITED\"                                                           \n",
              " [13] \"APPLUS UK LTD\"                                                          \n",
              " [14] \"ARC HOSPITALITY RECRUITMENT SOLUTIONS LTD\"                              \n",
              " [15] \"ARCHANT COMMUNITY MEDIA LIMITED\"                                        \n",
              " [16] \"ARDINGLY COLLEGE LIMITED\"                                               \n",
              " [17] \"ARENA EVENT SERVICES GROUP LIMITED\"                                     \n",
              " [18] \"ARRK EUROPE LIMITED\"                                                    \n",
              " [19] \"ASPERS (STRATFORD CITY) LIMITED\"                                        \n",
              " [20] \"ASSOCIATION FOR SPINAL INJURY RESEARCH REHABILITATION AND REINTEGRATION\"\n",
              " [21] \"ATLAS PROFESSIONALS UK LIMITED\"                                         \n",
              " [22] \"ATTIGO ACADEMY TRUST\"                                                   \n",
              " [23] \"AUTISM INITIATIVES (UK)\"                                                \n",
              " [24] \"AUTODESK LIMITED\"                                                       \n",
              " [25] \"AVIAGEN LIMITED\"                                                        \n",
              " [26] \"AVIAGEN UK LIMITED\"                                                     \n",
              " [27] \"AVIOS GROUP (AGL) LIMITED\"                                              \n",
              " [28] \"Bank of England\"                                                        \n",
              " [29] \"BARKER CARE LIMITED\"                                                    \n",
              " [30] \"Barking & Dagenham College\"                                             \n",
              " [31] \"Barnet Enfield & Haringey Mental Health NHS Trust\"                      \n",
              " [32] \"BBC STUDIOS DISTRIBUTION LIMITED\"                                       \n",
              " [33] \"BBC STUDIOS PRODUCTIONS LIMITED\"                                        \n",
              " [34] \"BE MODERN LIMITED\"                                                      \n",
              " [35] \"BEDFORDSHIRE SCHOOLS TRUST LIMITED\"                                     \n",
              " [36] \"BERNICIA 2018 LIMITED\"                                                  \n",
              " [37] \"BESPOKE FACILITIES MANAGEMENT LTD\"                                      \n",
              " [38] \"BETTER FUTURES MULTI-ACADEMY TRUST\"                                     \n",
              " [39] \"BIRDS EYE LIMITED\"                                                      \n",
              " [40] \"BIRTENSHAW\"                                                             \n",
              " [41] \"Bishop Bewick Catholic Education Trust\"                                 \n",
              " [42] \"BLACK SWAN INTERNATIONAL LIMITED\"                                       \n",
              " [43] \"BLAZE SIGNS HOLDINGS LIMITED\"                                           \n",
              " [44] \"BLENHEIM VISITORS LIMITED\"                                              \n",
              " [45] \"BOSTIK LIMITED\"                                                         \n",
              " [46] \"BOWDRAPER LIMITED\"                                                      \n",
              " [47] \"BRANCASTER CARE HOMES LIMITED\"                                          \n",
              " [48] \"BRAYLEYS CARS LIMITED\"                                                  \n",
              " [49] \"Bridge Academy Trust\"                                                   \n",
              " [50] \"Bridgend County Borough Council\"                                        \n",
              " [51] \"BRISTOL LABORATORIES LIMITED\"                                           \n",
              " [52] \"BRITISH BROADCASTING CORPORATION\"                                       \n",
              " [53] \"BRITISH LAND COMPANY PUBLIC LIMITED COMPANY(THE)\"                       \n",
              " [54] \"BRITISH LAND PROPERTY SERVICES LIMITED\"                                 \n",
              " [55] \"Broadland District Council\"                                             \n",
              " [56] \"Broxtowe Borough Council\"                                               \n",
              " [57] \"BURHILL GOLF AND LEISURE LIMITED\"                                       \n",
              " [58] \"BURHILL GROUP LIMITED\"                                                  \n",
              " [59] \"BYTES SOFTWARE SERVICES LIMITED\"                                        \n",
              " [60] \"C.L.C. CONTRACTORS LIMITED\"                                             \n",
              " [61] \"CARAVAN CLUB LIMITED(THE)\"                                              \n",
              " [62] \"CEDAR CARE HOMES LIMITED\"                                               \n",
              " [63] \"CEPAC LIMITED\"                                                          \n",
              " [64] \"Channel Four Television Corporation\"                                    \n",
              " [65] \"CHARLES PUGH (WINDSCREENS) LIMITED\"                                     \n",
              " [66] \"CHOICE HOTELS LIMITED\"                                                  \n",
              " [67] \"CLARION EVENTS LIMITED\"                                                 \n",
              " [68] \"CLEARVIEW CLEANING SERVICES (HEREFORD) LIMITED\"                         \n",
              " [69] \"CLWYDALYN HOUSING LIMITED\"                                              \n",
              " [70] \"Colchester Borough Council\"                                             \n",
              " [71] \"Colchester Sixth Form College\"                                          \n",
              " [72] \"COLLINS EARTHWORKS LIMITED\"                                             \n",
              " [73] \"COMMUNITY GATEWAY ASSOCIATION LIMITED\"                                  \n",
              " [74] \"COMPASS CHILDREN'S HOMES LIMITED\"                                       \n",
              " [75] \"CONNECTION FLOORING LIMITED\"                                            \n",
              " [76] \"CONTRACTOR UMBRELLA LIMITED\"                                            \n",
              " [77] \"CORNWALL CARE SERVICES LIMITED\"                                         \n",
              " [78] \"CORNWALL EDUCATION LEARNING TRUST\"                                      \n",
              " [79] \"CRANMER EDUCATION TRUST\"                                                \n",
              " [80] \"CREATIVE SUPPORT LIMITED\"                                               \n",
              " [81] \"CROFTWOOD CARE UK LIMITED\"                                              \n",
              " [82] \"CROSSROADS TRUCK & BUS LIMITED\"                                         \n",
              " [83] \"Dacorum Borough Council\"                                                \n",
              " [84] \"DATA TECH HOLDINGS LIMITED\"                                             \n",
              " [85] \"DELOITTE LLP\"                                                           \n",
              " [86] \"DELOITTE MCS LIMITED\"                                                   \n",
              " [87] \"Devon Partnership Nhs Trust\"                                            \n",
              " [88] \"DHAMECHA FOODS LIMITED\"                                                 \n",
              " [89] \"DHP FAMILY LTD.\"                                                        \n",
              " [90] \"DRAEGER SAFETY UK LTD\"                                                  \n",
              " [91] \"DRAGON SCHOOL TRUST LIMITED\"                                            \n",
              " [92] \"Dudley Integrated Health and Care NHS Trust\"                            \n",
              " [93] \"DUPONT TEIJIN FILMS U.K. LIMITED\"                                       \n",
              " [94] \"DYNEX SEMICONDUCTOR LIMITED\"                                            \n",
              " [95] \"East Devon District Council\"                                            \n",
              " [96] \"East Midlands Academy Trust\"                                            \n",
              " [97] \"East Of England Ambulance Service Nhs Trust\"                            \n",
              " [98] \"EAST OF ENGLAND CO-OPERATIVE SOCIETY LIMITED\"                           \n",
              " [99] \"East Sussex College Group\"                                              \n",
              "[100] \"East Sussex Healthcare NHS Trust\"                                       \n",
              "[101] \"EDEN LEARNING TRUST\"                                                    \n",
              "[102] \"EDINBURGH LEISURE\"                                                      \n",
              "[103] \"EMH CARE AND SUPPORT LIMITED\"                                           \n",
              "[104] \"EMH HOUSING & REGENERATION LIMITED\"                                     \n",
              "[105] \"Endeavour MAT\"                                                          \n",
              "[106] \"Enfield Council\"                                                        \n",
              "[107] \"EPI GENESYS LIMITED\"                                                    \n",
              "[108] \"EXCEED UMBRELLA LIMITED\"                                                \n",
              "[109] \"EYNSHAM PARTNERSHIP ACADEMY\"                                            \n",
              "[110] \"F.HINDS LIMITED\"                                                        \n",
              "[111] \"FATHER HUDSON'S SOCIETY\"                                                \n",
              "[112] \"FEDERATION OF JEWISH SERVICES\"                                          \n",
              "[113] \"FIRCROFT ENGINEERING SERVICES LIMITED\"                                  \n",
              "[114] \"FIRCROFT LIMITED\"                                                       \n",
              "[115] \"FOCUSED CONSULTING LIMITED\"                                             \n",
              "[116] \"FOCUSRITE AUDIO ENGINEERING LIMITED\"                                    \n",
              "[117] \"FOR UNDER FIVES LIMITED\"                                                \n",
              "[118] \"FORMULA ONE AUTO CENTRES LIMITED\"                                       \n",
              "[119] \"FORREST RECRUITMENT LIMITED\"                                            \n",
              "[120] \"Frank Field Education Trust Limited\"                                    \n",
              "[121] \"FRASSATI CATHOLIC ACADEMY TRUST\"                                        \n",
              "[122] \"FRED CHAMPION GROUNDWORKS LIMITED\"                                      \n",
              "[123] \"FUJITSU SERVICES LIMITED\"                                               \n",
              "[124] \"Galileo Multi Academy Trust\"                                            \n",
              "[125] \"GAMES WORKSHOP LIMITED\"                                                 \n",
              "[126] \"GB GROUP PLC\"                                                           \n",
              "[127] \"Gedling Borough Council\"                                                \n",
              "[128] \"GIOMA (UK) LIMITED\"                                                     \n",
              "[129] \"GKN DRIVELINE BIRMINGHAM LIMITED\"                                       \n",
              "[130] \"GLASSWELLS LIMITED\"                                                     \n",
              "[131] \"GOCARDLESS LTD\"                                                         \n",
              "[132] \"Gosforth Federated Academies Limited\"                                   \n",
              "[133] \"GRAVENEY TRUST\"                                                         \n",
              "[134] \"Grwp LLandrillo Menai\"                                                  \n",
              "[135] \"GUARDIAN NEWS & MEDIA LIMITED\"                                          \n",
              "[136] \"GVS FILTER TECHNOLOGY UK LTD\"                                           \n",
              "[137] \"HALO LEISURE SERVICES LIMITED\"                                          \n",
              "[138] \"HALTON HOUSING\"                                                         \n",
              "[139] \"Harlow College\"                                                         \n",
              "[140] \"HAYLEY GROUP LIMITED\"                                                   \n",
              "[141] \"HBN RESTAURANTS LIMITED\"                                                \n",
              "[142] \"HCAT\"                                                                   \n",
              "[143] \"Health Research Authority\"                                              \n",
              "[144] \"HEART OF MERCIA\"                                                        \n",
              "[145] \"HERAS PERIMETER PROTECTION LTD\"                                         \n",
              "[146] \"HISP MULTI ACADEMY TRUST LTD\"                                           \n",
              "[147] \"Holy Cross Catholic Multi Academy Company\"                              \n",
              "[148] \"HORNCASTLE EDUCATION TRUST\"                                             \n",
              "[149] \"Hull College Group\"                                                     \n",
              "[150] \"Humberside Police\"                                                      \n",
              "[151] \"IN DEPTH SERVICES (CLEANING) LIMITED\"                                   \n",
              "[152] \"Independent Office for Police Conduct\"                                  \n",
              "[153] \"INFOR (UNITED KINGDOM) LIMITED\"                                         \n",
              "[154] \"INSPIRE PARTNERSHIP MULTI ACADEMY TRUST\"                                \n",
              "[155] \"INTELLIGENT WORKPLACE SOLUTIONS LTD\"                                    \n",
              "[156] \"INTERFLOOR LIMITED\"                                                     \n",
              "[157] \"JACKSON LEES GROUP LTD\"                                                 \n",
              "[158] \"JACOBS & TURNER LIMITED\"                                                \n",
              "[159] \"JDM FOOD GROUP LIMITED\"                                                 \n",
              "[160] \"JOBANDTALENT WORKS LTD\"                                                 \n",
              "[161] \"JOHNSTON CARMICHAEL (SCOTLAND) LIMITED\"                                 \n",
              "[162] \"KAPLAN FINANCIAL LIMITED\"                                               \n",
              "[163] \"KINDERTONS LIMITED\"                                                     \n",
              "[164] \"KISIMUL GROUP LIMITED\"                                                  \n",
              "[165] \"KONECRANES DEMAG UK LIMITED\"                                            \n",
              "[166] \"KRISPY KREME U.K. LIMITED\"                                              \n",
              "[167] \"KRS FINANCE LTD\"                                                        \n",
              "[168] \"LEONI WIRING SYSTEMS U.K. LIMITED\"                                      \n",
              "[169] \"Liberty Leisure Limited\"                                                \n",
              "[170] \"LIBRA TEXTILES LIMITED\"                                                 \n",
              "[171] \"LIBRARIES UNLIMITED SOUTH WEST\"                                         \n",
              "[172] \"LIFESEARCH LIMITED\"                                                     \n",
              "[173] \"Lincolnshire Partnership NHS Foundation Trust\"                          \n",
              "[174] \"M.P.I. LIMITED\"                                                         \n",
              "[175] \"MACE CONSTRUCT LIMITED\"                                                 \n",
              "[176] \"MACE CONSULT LIMITED\"                                                   \n",
              "[177] \"MACE LIMITED\"                                                           \n",
              "[178] \"MACE OPERATE LIMITED\"                                                   \n",
              "[179] \"MACINTYRE CARE\"                                                         \n",
              "[180] \"Maidstone Borough Council\"                                              \n",
              "[181] \"MAMA BEAR'S DAY NURSERY LTD\"                                            \n",
              "[182] \"MANOR HOUSE HOTEL (OKEHAMPTON) LIMITED\"                                 \n",
              "[183] \"MARIPOSA CARE GROUP LIMITED\"                                            \n",
              "[184] \"MCB RESTAURANTS LIMITED\"                                                \n",
              "[185] \"MCMANUS MANAGED PUB CO. LIMITED\"                                        \n",
              "[186] \"MCPHILLIPS (WELLINGTON) LIMITED\"                                        \n",
              "[187] \"MEDVIVO GROUP LIMITED\"                                                  \n",
              "[188] \"Merseyside Fire and Rescue Service\"                                     \n",
              "[189] \"METHODIST HOMES\"                                                        \n",
              "[190] \"Middlesbrough College\"                                                  \n",
              "[191] \"Midkent College\"                                                        \n",
              "[192] \"Milton Keynes  College\"                                                 \n",
              "[193] \"Milton Keynes University Hospital NHS Foundation Trust\"                 \n",
              "[194] \"MOBILE WINDSCREENS LIMITED\"                                             \n",
              "[195] \"MOONPIG GROUP PLC\"                                                      \n",
              "[196] \"MOONPIG.COM LIMITED\"                                                    \n",
              "[197] \"MOORES REFRIGERATION CONTROLLED TRANSPORT LIMITED\"                      \n",
              "[198] \"MTL ADVANCED LTD\"                                                       \n",
              "[199] \"MULTI PACKAGING SOLUTIONS UK LIMITED\"                                   \n",
              "[200] \"NACRO\"                                                                  \n",
              "[201] \"NELLSAR LIMITED\"                                                        \n",
              "[202] \"Newport City Council\"                                                   \n",
              "[203] \"NHS Birmingham and Solihull Clinical Commissioning Group\"               \n",
              "[204] \"NHS Kernow CCG\"                                                         \n",
              "[205] \"NOMAD FOODS EUROPE LIMITED\"                                             \n",
              "[206] \"Norfolk Community Health & Care NHS trust\"                              \n",
              "[207] \"NORTON WAY MOTORS LIMITED\"                                              \n",
              "[208] \"NOTTINGHAM ICE CENTRE LIMITED\"                                          \n",
              "[209] \"NRL PAY LTD\"                                                            \n",
              "[210] \"ONE YMCA\"                                                               \n",
              "[211] \"ORBITAL UMBRELLA LIMITED\"                                               \n",
              "[212] \"OUTCOMES FIRST MIDCO LIMITED\"                                           \n",
              "[213] \"PARTNERS& GROUP LIMITED\"                                                \n",
              "[214] \"PAYSTREAM MY MAX 2 LIMITED\"                                             \n",
              "[215] \"PAYSTREAM MY MAX 3 LIMITED\"                                             \n",
              "[216] \"PAYSTREAM MY MAX LIMITED\"                                               \n",
              "[217] \"Peterborough Limited\"                                                   \n",
              "[218] \"PILGRIMS' FRIEND SOCIETY\"                                               \n",
              "[219] \"PLUME SCHOOL\"                                                           \n",
              "[220] \"PLUS DANE HOUSING LIMITED\"                                              \n",
              "[221] \"PLYMOUTH ARGYLE FOOTBALL CLUB LIMITED\"                                  \n",
              "[222] \"PORT OF LONDON AUTHORITY LIMITED\"                                       \n",
              "[223] \"PORTSMOUTH WATER LIMITED\"                                               \n",
              "[224] \"PREMEX SERVICES LIMITED\"                                                \n",
              "[225] \"PRO - DIRECT GROUP LIMITED\"                                             \n",
              "[226] \"PROPELLER PAY LIMITED\"                                                  \n",
              "[227] \"QUEST PAY SOLUTIONS NE LIMITED\"                                         \n",
              "[228] \"R E PEOPLE LIMITED\"                                                     \n",
              "[229] \"R E PERSONNEL LIMITED\"                                                  \n",
              "[230] \"RALPH TRUSTEES LIMITED\"                                                 \n",
              "[231] \"RAMSDENS FINANCIAL LIMITED\"                                             \n",
              "[232] \"REBELLION GROUP LTD\"                                                    \n",
              "[233] \"Registers of Scotland\"                                                  \n",
              "[234] \"RELATE\"                                                                 \n",
              "[235] \"RENAULT RETAIL GROUP UK LIMITED\"                                        \n",
              "[236] \"renfrewshire council\"                                                   \n",
              "[237] \"RETAIL & ASSET SOLUTIONS LTD\"                                           \n",
              "[238] \"RICH PRODUCTS LIMITED\"                                                  \n",
              "[239] \"RICHARD IRVIN FM LIMITED\"                                               \n",
              "[240] \"RMET\"                                                                   \n",
              "[241] \"ROCKSTEADY MUSIC SCHOOL LIMITED\"                                        \n",
              "[242] \"ROMO LIMITED\"                                                           \n",
              "[243] \"ROSS-SHIRE ENGINEERING LIMITED\"                                         \n",
              "[244] \"Royal Cornwall Hospitals NHS Trusts\"                                    \n",
              "[245] \"ROYAL MENCAP SOCIETY\"                                                   \n",
              "[246] \"Rushcliffe Borough Council\"                                             \n",
              "[247] \"RYDE HOUSE HOMES LTD\"                                                   \n",
              "[248] \"SABIO LTD\"                                                              \n",
              "[249] \"SAFEHANDS RECRUITMENT LTD\"                                              \n",
              "[250] \"SAGA GROUP LIMITED\"                                                     \n",
              "[251] \"SAGA PLC\"                                                               \n",
              "[252] \"SAGA SERVICES LIMITED\"                                                  \n",
              "[253] \"SALVATION ARMY HOUSING ASSOCIATION\"                                     \n",
              "[254] \"SAS SOFTWARE LIMITED\"                                                   \n",
              "[255] \"SCOTT LOGIC LIMITED\"                                                    \n",
              "[256] \"SCOTTISH WATER BUSINESS STREAM LIMITED\"                                 \n",
              "[257] \"SFAET LTD\"                                                              \n",
              "[258] \"SHIELD SERVICE GROUP LIMITED\"                                           \n",
              "[259] \"SIMPLY BIZ LIMITED\"                                                     \n",
              "[260] \"Solent Nhs Trust\"                                                       \n",
              "[261] \"South Norfolk Council\"                                                  \n",
              "[262] \"South Staffordshire college\"                                            \n",
              "[263] \"South Tyneside and Sunderland NHS Foundation Trust\"                     \n",
              "[264] \"Southern Health Nhs Foundation Trust\"                                   \n",
              "[265] \"St Bartholomew's School\"                                                \n",
              "[266] \"ST CHAD'S ACADEMIES TRUST\"                                              \n",
              "[267] \"ST CUTHBERT'S CARE\"                                                     \n",
              "[268] \"ST CUTHBERT'S ROMAN CATHOLIC ACADEMY TRUST\"                             \n",
              "[269] \"ST MARY'S SCHOOL ASCOT\"                                                 \n",
              "[270] \"ST&H LIMITED\"                                                           \n",
              "[271] \"STADIUM TRAFFIC MANAGEMENT LIMITED\"                                     \n",
              "[272] \"STAR OUTICO LIMITED\"                                                    \n",
              "[273] \"STOELZLE FLACONNAGE LIMITED\"                                            \n",
              "[274] \"STOUR VALE ACADEMY TRUST\"                                               \n",
              "[275] \"STUDIO RETAIL LIMITED\"                                                  \n",
              "[276] \"SUFFOLK MIND\"                                                           \n",
              "[277] \"SUN CHEMICAL LIMITED\"                                                   \n",
              "[278] \"Surrey & Sussex Healthcare N H S Trust\"                                 \n",
              "[279] \"Swale Borough Council\"                                                  \n",
              "[280] \"SWANN-MORTON LIMITED\"                                                   \n",
              "[281] \"SWITCH MOBILITY LIMITED\"                                                \n",
              "[282] \"TEACH FIRST\"                                                            \n",
              "[283] \"TEC Partnership\"                                                        \n",
              "[284] \"Test Valley Borough Council\"                                            \n",
              "[285] \"Thames Learning Trust\"                                                  \n",
              "[286] \"THAMES WATER UTILITIES LIMITED\"                                         \n",
              "[287] \"THE CAKE CREW LIMITED\"                                                  \n",
              "[288] \"THE CELTIC MANOR RESORT LIMITED\"                                        \n",
              "[289] \"THE DONKEY SANCTUARY TRUSTEE LIMITED\"                                   \n",
              "[290] \"THE EDUCATION VILLAGE ACADEMY TRUST\"                                    \n",
              "[291] \"THE FARM POST PRODUCTION LIMITED\"                                       \n",
              "[292] \"THE FINANCIAL CONDUCT AUTHORITY\"                                        \n",
              "[293] \"THE HIGH SCHOOL OF GLASGOW\"                                             \n",
              "[294] \"The Jo Richardson Community School\"                                     \n",
              "[295] \"THE LEARNING FOR LIFE PARTNERSHIP\"                                      \n",
              "[296] \"The Newcastle Upon Tyne Hospitals Nhs Foundation Trust\"                 \n",
              "[297] \"THE OUTWARD BOUND TRUST\"                                                \n",
              "[298] \"THE SHEILING SPECIAL EDUCATION TRUST\"                                   \n",
              "[299] \"THE STOUR ACADEMY TRUST\"                                                \n",
              "[300] \"THE SYMPHONY GROUP PLC\"                                                 \n",
              "[301] \"THE THREE RIVERS LEARNING TRUST\"                                        \n",
              "[302] \"THE TWO COUNTIES TRUST\"                                                 \n",
              "[303] \"The Weald School\"                                                       \n",
              "[304] \"THWAITES ENGINEERING CO LIMITED\"                                        \n",
              "[305] \"THWAITES LIMITED\"                                                       \n",
              "[306] \"TILDA LIMITED\"                                                          \n",
              "[307] \"TPXIMPACT LIMITED\"                                                      \n",
              "[308] \"Transport for Wales Group\"                                              \n",
              "[309] \"TRINITY HOSPICE AND PALLIATIVE CARE SERVICES LTD\"                       \n",
              "[310] \"TUV SUD LIMITED\"                                                        \n",
              "[311] \"TWO SAINTS LIMITED\"                                                     \n",
              "[312] \"UK-NSI CO. LIMITED\"                                                     \n",
              "[313] \"UKTV MEDIA LIMITED\"                                                     \n",
              "[314] \"UL VS LIMITED\"                                                          \n",
              "[315] \"UMBRELLA CONTRACTS LIMITED\"                                             \n",
              "[316] \"University of the Arts, London\"                                         \n",
              "[317] \"Vale of Glamorgan Council\"                                              \n",
              "[318] \"VEGNER GROUP LIMITED\"                                                   \n",
              "[319] \"VENTRICA LTD\"                                                           \n",
              "[320] \"VIVID HOUSING LIMITED\"                                                  \n",
              "[321] \"VOYAGE 1 LIMITED\"                                                       \n",
              "[322] \"W. LIDDY & COMPANY LIMITED\"                                             \n",
              "[323] \"WALLICH-CLIFFORD COMMUNITY\"                                             \n",
              "[324] \"WELLS CATHEDRAL SCHOOL, LIMITED\"                                        \n",
              "[325] \"WESSEX EAGLE LIMITED\"                                                   \n",
              "[326] \"West Bromwich Building Society\"                                         \n",
              "[327] \"WILLIAMS MOTOR CO.(HOLDINGS)LIMITED\"                                    \n",
              "[328] \"WINN SOLICITORS LIMITED\"                                                \n",
              "[329] \"Worcester City Council\"                                                 \n",
              "[330] \"YOUR HOMES NEWCASTLE LIMITED\"                                           \n",
              "[331] \"YOUR LEISURE KENT LIMITED\"                                              "
            ]
          },
          "metadata": {}
        }
      ]
    },
    {
      "cell_type": "markdown",
      "source": [
        "# 3.1.3: Selecting columns"
      ],
      "metadata": {
        "id": "feXlTEaQ3oRK"
      }
    },
    {
      "cell_type": "code",
      "source": [
        "# use select() to pick columns pertaining to female pay stats and assign to new object 'females'\n",
        "colnames(paygap)\n",
        "\n",
        "# new_variable_name <- select(df_name, column1, column2, column3)\n",
        "females <- select(paygap, FemaleBonusPercent, FemaleLowerQuartile, FemaleLowerMiddleQuartile, FemaleUpperMiddleQuartile, FemaleTopQuartile)\n",
        "females"
      ],
      "metadata": {
        "colab": {
          "base_uri": "https://localhost:8080/",
          "height": 1000
        },
        "id": "4eRQ67Y83sXm",
        "outputId": "3bbf3366-d0cb-42a2-b4d9-78c9eed9f1b7"
      },
      "execution_count": 80,
      "outputs": [
        {
          "output_type": "display_data",
          "data": {
            "text/html": [
              "<style>\n",
              ".list-inline {list-style: none; margin:0; padding: 0}\n",
              ".list-inline>li {display: inline-block}\n",
              ".list-inline>li:not(:last-child)::after {content: \"\\00b7\"; padding: 0 .5ex}\n",
              "</style>\n",
              "<ol class=list-inline><li>'EmployerName'</li><li>'EmployerId'</li><li>'Address'</li><li>'PostCode'</li><li>'CompanyNumber'</li><li>'SicCodes'</li><li>'DiffMeanHourlyPercent'</li><li>'DiffMedianHourlyPercent'</li><li>'DiffMeanBonusPercent'</li><li>'DiffMedianBonusPercent'</li><li>'MaleBonusPercent'</li><li>'FemaleBonusPercent'</li><li>'MaleLowerQuartile'</li><li>'FemaleLowerQuartile'</li><li>'MaleLowerMiddleQuartile'</li><li>'FemaleLowerMiddleQuartile'</li><li>'MaleUpperMiddleQuartile'</li><li>'FemaleUpperMiddleQuartile'</li><li>'MaleTopQuartile'</li><li>'FemaleTopQuartile'</li><li>'CompanyLinkToGPGInfo'</li><li>'ResponsiblePerson'</li><li>'EmployerSize'</li><li>'CurrentName'</li><li>'SubmittedAfterTheDeadline'</li><li>'DueDate'</li><li>'DateSubmitted'</li></ol>\n"
            ],
            "text/markdown": "1. 'EmployerName'\n2. 'EmployerId'\n3. 'Address'\n4. 'PostCode'\n5. 'CompanyNumber'\n6. 'SicCodes'\n7. 'DiffMeanHourlyPercent'\n8. 'DiffMedianHourlyPercent'\n9. 'DiffMeanBonusPercent'\n10. 'DiffMedianBonusPercent'\n11. 'MaleBonusPercent'\n12. 'FemaleBonusPercent'\n13. 'MaleLowerQuartile'\n14. 'FemaleLowerQuartile'\n15. 'MaleLowerMiddleQuartile'\n16. 'FemaleLowerMiddleQuartile'\n17. 'MaleUpperMiddleQuartile'\n18. 'FemaleUpperMiddleQuartile'\n19. 'MaleTopQuartile'\n20. 'FemaleTopQuartile'\n21. 'CompanyLinkToGPGInfo'\n22. 'ResponsiblePerson'\n23. 'EmployerSize'\n24. 'CurrentName'\n25. 'SubmittedAfterTheDeadline'\n26. 'DueDate'\n27. 'DateSubmitted'\n\n\n",
            "text/latex": "\\begin{enumerate*}\n\\item 'EmployerName'\n\\item 'EmployerId'\n\\item 'Address'\n\\item 'PostCode'\n\\item 'CompanyNumber'\n\\item 'SicCodes'\n\\item 'DiffMeanHourlyPercent'\n\\item 'DiffMedianHourlyPercent'\n\\item 'DiffMeanBonusPercent'\n\\item 'DiffMedianBonusPercent'\n\\item 'MaleBonusPercent'\n\\item 'FemaleBonusPercent'\n\\item 'MaleLowerQuartile'\n\\item 'FemaleLowerQuartile'\n\\item 'MaleLowerMiddleQuartile'\n\\item 'FemaleLowerMiddleQuartile'\n\\item 'MaleUpperMiddleQuartile'\n\\item 'FemaleUpperMiddleQuartile'\n\\item 'MaleTopQuartile'\n\\item 'FemaleTopQuartile'\n\\item 'CompanyLinkToGPGInfo'\n\\item 'ResponsiblePerson'\n\\item 'EmployerSize'\n\\item 'CurrentName'\n\\item 'SubmittedAfterTheDeadline'\n\\item 'DueDate'\n\\item 'DateSubmitted'\n\\end{enumerate*}\n",
            "text/plain": [
              " [1] \"EmployerName\"              \"EmployerId\"               \n",
              " [3] \"Address\"                   \"PostCode\"                 \n",
              " [5] \"CompanyNumber\"             \"SicCodes\"                 \n",
              " [7] \"DiffMeanHourlyPercent\"     \"DiffMedianHourlyPercent\"  \n",
              " [9] \"DiffMeanBonusPercent\"      \"DiffMedianBonusPercent\"   \n",
              "[11] \"MaleBonusPercent\"          \"FemaleBonusPercent\"       \n",
              "[13] \"MaleLowerQuartile\"         \"FemaleLowerQuartile\"      \n",
              "[15] \"MaleLowerMiddleQuartile\"   \"FemaleLowerMiddleQuartile\"\n",
              "[17] \"MaleUpperMiddleQuartile\"   \"FemaleUpperMiddleQuartile\"\n",
              "[19] \"MaleTopQuartile\"           \"FemaleTopQuartile\"        \n",
              "[21] \"CompanyLinkToGPGInfo\"      \"ResponsiblePerson\"        \n",
              "[23] \"EmployerSize\"              \"CurrentName\"              \n",
              "[25] \"SubmittedAfterTheDeadline\" \"DueDate\"                  \n",
              "[27] \"DateSubmitted\"            "
            ]
          },
          "metadata": {}
        },
        {
          "output_type": "display_data",
          "data": {
            "text/html": [
              "<table class=\"dataframe\">\n",
              "<caption>A data.frame: 331 × 5</caption>\n",
              "<thead>\n",
              "\t<tr><th scope=col>FemaleBonusPercent</th><th scope=col>FemaleLowerQuartile</th><th scope=col>FemaleLowerMiddleQuartile</th><th scope=col>FemaleUpperMiddleQuartile</th><th scope=col>FemaleTopQuartile</th></tr>\n",
              "\t<tr><th scope=col>&lt;dbl&gt;</th><th scope=col>&lt;dbl&gt;</th><th scope=col>&lt;dbl&gt;</th><th scope=col>&lt;dbl&gt;</th><th scope=col>&lt;dbl&gt;</th></tr>\n",
              "</thead>\n",
              "<tbody>\n",
              "\t<tr><td>81.0</td><td>17.7</td><td>14.7</td><td>10.8</td><td>12.9</td></tr>\n",
              "\t<tr><td>86.9</td><td>38.6</td><td>33.7</td><td>33.7</td><td>55.4</td></tr>\n",
              "\t<tr><td> 0.0</td><td>28.5</td><td>20.8</td><td>21.5</td><td>19.1</td></tr>\n",
              "\t<tr><td>57.0</td><td>62.8</td><td>60.9</td><td>63.2</td><td>48.2</td></tr>\n",
              "\t<tr><td> 3.0</td><td>71.0</td><td>72.0</td><td>59.0</td><td>40.0</td></tr>\n",
              "\t<tr><td> 0.0</td><td>72.0</td><td>84.0</td><td>79.0</td><td>73.0</td></tr>\n",
              "\t<tr><td> 0.0</td><td>90.0</td><td>90.0</td><td>74.0</td><td>74.0</td></tr>\n",
              "\t<tr><td> 0.0</td><td>80.0</td><td>67.0</td><td>67.0</td><td>50.0</td></tr>\n",
              "\t<tr><td>45.0</td><td>12.2</td><td> 2.7</td><td> 0.6</td><td> 3.3</td></tr>\n",
              "\t<tr><td>16.4</td><td>57.8</td><td>48.5</td><td>60.2</td><td>31.4</td></tr>\n",
              "\t<tr><td>37.5</td><td>44.7</td><td>11.6</td><td>21.5</td><td>13.0</td></tr>\n",
              "\t<tr><td>16.1</td><td>11.4</td><td> 8.4</td><td>14.3</td><td>10.0</td></tr>\n",
              "\t<tr><td>16.7</td><td>42.3</td><td> 9.0</td><td> 1.3</td><td> 1.3</td></tr>\n",
              "\t<tr><td>52.0</td><td>49.0</td><td>54.0</td><td>51.0</td><td>60.0</td></tr>\n",
              "\t<tr><td>44.6</td><td>68.0</td><td>59.6</td><td>51.1</td><td>48.0</td></tr>\n",
              "\t<tr><td>92.0</td><td>62.9</td><td>60.0</td><td>62.5</td><td>55.8</td></tr>\n",
              "\t<tr><td> 3.6</td><td>29.0</td><td>25.8</td><td>12.9</td><td>11.5</td></tr>\n",
              "\t<tr><td>71.4</td><td>20.6</td><td>12.1</td><td>12.1</td><td>18.2</td></tr>\n",
              "\t<tr><td> 0.0</td><td>56.0</td><td>27.0</td><td>31.0</td><td>35.0</td></tr>\n",
              "\t<tr><td> 0.0</td><td>43.0</td><td>59.0</td><td>82.0</td><td>59.0</td></tr>\n",
              "\t<tr><td> 0.0</td><td> 2.0</td><td> 3.0</td><td> 1.0</td><td> 3.0</td></tr>\n",
              "\t<tr><td> 0.0</td><td>95.3</td><td>90.6</td><td>84.3</td><td>85.9</td></tr>\n",
              "\t<tr><td> 0.0</td><td>58.8</td><td>59.1</td><td>60.9</td><td>63.9</td></tr>\n",
              "\t<tr><td>98.8</td><td>44.0</td><td>20.7</td><td>14.7</td><td>16.8</td></tr>\n",
              "\t<tr><td>80.0</td><td>28.8</td><td>17.2</td><td>24.5</td><td>22.2</td></tr>\n",
              "\t<tr><td>81.6</td><td>45.7</td><td>36.4</td><td>38.6</td><td>30.1</td></tr>\n",
              "\t<tr><td>86.0</td><td>66.0</td><td>66.0</td><td>76.0</td><td>36.0</td></tr>\n",
              "\t<tr><td>93.8</td><td>60.0</td><td>49.0</td><td>40.0</td><td>33.0</td></tr>\n",
              "\t<tr><td> 0.0</td><td>73.2</td><td>69.1</td><td>66.3</td><td>53.0</td></tr>\n",
              "\t<tr><td> 7.8</td><td>65.0</td><td>70.0</td><td>54.0</td><td>56.0</td></tr>\n",
              "\t<tr><td>⋮</td><td>⋮</td><td>⋮</td><td>⋮</td><td>⋮</td></tr>\n",
              "\t<tr><td>  0.0</td><td>84.0</td><td>77.0</td><td>68.0</td><td>58.0</td></tr>\n",
              "\t<tr><td>  0.0</td><td>76.3</td><td>70.1</td><td>76.3</td><td>67.7</td></tr>\n",
              "\t<tr><td>100.0</td><td> 7.0</td><td> 5.0</td><td> 2.0</td><td> 8.0</td></tr>\n",
              "\t<tr><td>100.0</td><td> 7.0</td><td> 5.0</td><td> 2.0</td><td> 8.0</td></tr>\n",
              "\t<tr><td> 91.0</td><td>43.3</td><td>26.7</td><td>18.3</td><td>28.3</td></tr>\n",
              "\t<tr><td>  0.0</td><td>61.0</td><td>54.0</td><td>42.0</td><td>37.0</td></tr>\n",
              "\t<tr><td>  1.8</td><td>47.0</td><td>42.0</td><td>35.0</td><td>24.0</td></tr>\n",
              "\t<tr><td>  1.0</td><td>70.5</td><td>90.2</td><td>90.0</td><td>83.6</td></tr>\n",
              "\t<tr><td> 60.4</td><td>44.4</td><td>25.8</td><td>21.8</td><td>16.1</td></tr>\n",
              "\t<tr><td> 66.2</td><td>55.4</td><td>60.2</td><td>72.3</td><td>78.0</td></tr>\n",
              "\t<tr><td>  0.0</td><td>70.0</td><td>34.0</td><td>17.0</td><td>18.0</td></tr>\n",
              "\t<tr><td>  2.5</td><td>74.3</td><td>67.1</td><td>47.1</td><td>44.3</td></tr>\n",
              "\t<tr><td> 88.0</td><td>36.0</td><td>25.0</td><td>22.0</td><td>17.0</td></tr>\n",
              "\t<tr><td>  0.0</td><td>39.0</td><td>43.0</td><td>26.0</td><td>32.0</td></tr>\n",
              "\t<tr><td>  0.0</td><td>63.6</td><td>60.0</td><td>56.2</td><td>61.1</td></tr>\n",
              "\t<tr><td>  0.0</td><td>68.0</td><td>75.0</td><td>66.0</td><td>64.0</td></tr>\n",
              "\t<tr><td> 17.0</td><td>45.0</td><td>54.0</td><td>53.0</td><td>36.0</td></tr>\n",
              "\t<tr><td>  1.7</td><td>69.5</td><td>69.3</td><td>58.6</td><td>57.7</td></tr>\n",
              "\t<tr><td> 95.8</td><td>48.6</td><td>39.6</td><td>45.9</td><td>40.9</td></tr>\n",
              "\t<tr><td> 14.2</td><td>79.0</td><td>76.0</td><td>75.0</td><td>75.0</td></tr>\n",
              "\t<tr><td> 10.6</td><td>41.9</td><td>51.1</td><td>42.0</td><td>45.4</td></tr>\n",
              "\t<tr><td> 58.2</td><td>61.1</td><td>64.6</td><td>63.7</td><td>62.0</td></tr>\n",
              "\t<tr><td>  0.0</td><td>84.0</td><td>73.0</td><td>63.0</td><td>58.0</td></tr>\n",
              "\t<tr><td> 88.0</td><td> 9.0</td><td> 9.0</td><td> 2.0</td><td> 6.0</td></tr>\n",
              "\t<tr><td> 85.2</td><td>83.9</td><td>75.2</td><td>57.7</td><td>36.2</td></tr>\n",
              "\t<tr><td> 75.6</td><td>33.1</td><td>43.6</td><td>11.0</td><td> 8.0</td></tr>\n",
              "\t<tr><td> 80.6</td><td>63.6</td><td>63.2</td><td>56.6</td><td>48.7</td></tr>\n",
              "\t<tr><td>  0.0</td><td>40.0</td><td>43.0</td><td>57.0</td><td>57.5</td></tr>\n",
              "\t<tr><td>  0.0</td><td>42.1</td><td>61.7</td><td>70.5</td><td>54.1</td></tr>\n",
              "\t<tr><td>  0.0</td><td>50.0</td><td>48.3</td><td>51.7</td><td>71.7</td></tr>\n",
              "</tbody>\n",
              "</table>\n"
            ],
            "text/markdown": "\nA data.frame: 331 × 5\n\n| FemaleBonusPercent &lt;dbl&gt; | FemaleLowerQuartile &lt;dbl&gt; | FemaleLowerMiddleQuartile &lt;dbl&gt; | FemaleUpperMiddleQuartile &lt;dbl&gt; | FemaleTopQuartile &lt;dbl&gt; |\n|---|---|---|---|---|\n| 81.0 | 17.7 | 14.7 | 10.8 | 12.9 |\n| 86.9 | 38.6 | 33.7 | 33.7 | 55.4 |\n|  0.0 | 28.5 | 20.8 | 21.5 | 19.1 |\n| 57.0 | 62.8 | 60.9 | 63.2 | 48.2 |\n|  3.0 | 71.0 | 72.0 | 59.0 | 40.0 |\n|  0.0 | 72.0 | 84.0 | 79.0 | 73.0 |\n|  0.0 | 90.0 | 90.0 | 74.0 | 74.0 |\n|  0.0 | 80.0 | 67.0 | 67.0 | 50.0 |\n| 45.0 | 12.2 |  2.7 |  0.6 |  3.3 |\n| 16.4 | 57.8 | 48.5 | 60.2 | 31.4 |\n| 37.5 | 44.7 | 11.6 | 21.5 | 13.0 |\n| 16.1 | 11.4 |  8.4 | 14.3 | 10.0 |\n| 16.7 | 42.3 |  9.0 |  1.3 |  1.3 |\n| 52.0 | 49.0 | 54.0 | 51.0 | 60.0 |\n| 44.6 | 68.0 | 59.6 | 51.1 | 48.0 |\n| 92.0 | 62.9 | 60.0 | 62.5 | 55.8 |\n|  3.6 | 29.0 | 25.8 | 12.9 | 11.5 |\n| 71.4 | 20.6 | 12.1 | 12.1 | 18.2 |\n|  0.0 | 56.0 | 27.0 | 31.0 | 35.0 |\n|  0.0 | 43.0 | 59.0 | 82.0 | 59.0 |\n|  0.0 |  2.0 |  3.0 |  1.0 |  3.0 |\n|  0.0 | 95.3 | 90.6 | 84.3 | 85.9 |\n|  0.0 | 58.8 | 59.1 | 60.9 | 63.9 |\n| 98.8 | 44.0 | 20.7 | 14.7 | 16.8 |\n| 80.0 | 28.8 | 17.2 | 24.5 | 22.2 |\n| 81.6 | 45.7 | 36.4 | 38.6 | 30.1 |\n| 86.0 | 66.0 | 66.0 | 76.0 | 36.0 |\n| 93.8 | 60.0 | 49.0 | 40.0 | 33.0 |\n|  0.0 | 73.2 | 69.1 | 66.3 | 53.0 |\n|  7.8 | 65.0 | 70.0 | 54.0 | 56.0 |\n| ⋮ | ⋮ | ⋮ | ⋮ | ⋮ |\n|   0.0 | 84.0 | 77.0 | 68.0 | 58.0 |\n|   0.0 | 76.3 | 70.1 | 76.3 | 67.7 |\n| 100.0 |  7.0 |  5.0 |  2.0 |  8.0 |\n| 100.0 |  7.0 |  5.0 |  2.0 |  8.0 |\n|  91.0 | 43.3 | 26.7 | 18.3 | 28.3 |\n|   0.0 | 61.0 | 54.0 | 42.0 | 37.0 |\n|   1.8 | 47.0 | 42.0 | 35.0 | 24.0 |\n|   1.0 | 70.5 | 90.2 | 90.0 | 83.6 |\n|  60.4 | 44.4 | 25.8 | 21.8 | 16.1 |\n|  66.2 | 55.4 | 60.2 | 72.3 | 78.0 |\n|   0.0 | 70.0 | 34.0 | 17.0 | 18.0 |\n|   2.5 | 74.3 | 67.1 | 47.1 | 44.3 |\n|  88.0 | 36.0 | 25.0 | 22.0 | 17.0 |\n|   0.0 | 39.0 | 43.0 | 26.0 | 32.0 |\n|   0.0 | 63.6 | 60.0 | 56.2 | 61.1 |\n|   0.0 | 68.0 | 75.0 | 66.0 | 64.0 |\n|  17.0 | 45.0 | 54.0 | 53.0 | 36.0 |\n|   1.7 | 69.5 | 69.3 | 58.6 | 57.7 |\n|  95.8 | 48.6 | 39.6 | 45.9 | 40.9 |\n|  14.2 | 79.0 | 76.0 | 75.0 | 75.0 |\n|  10.6 | 41.9 | 51.1 | 42.0 | 45.4 |\n|  58.2 | 61.1 | 64.6 | 63.7 | 62.0 |\n|   0.0 | 84.0 | 73.0 | 63.0 | 58.0 |\n|  88.0 |  9.0 |  9.0 |  2.0 |  6.0 |\n|  85.2 | 83.9 | 75.2 | 57.7 | 36.2 |\n|  75.6 | 33.1 | 43.6 | 11.0 |  8.0 |\n|  80.6 | 63.6 | 63.2 | 56.6 | 48.7 |\n|   0.0 | 40.0 | 43.0 | 57.0 | 57.5 |\n|   0.0 | 42.1 | 61.7 | 70.5 | 54.1 |\n|   0.0 | 50.0 | 48.3 | 51.7 | 71.7 |\n\n",
            "text/latex": "A data.frame: 331 × 5\n\\begin{tabular}{lllll}\n FemaleBonusPercent & FemaleLowerQuartile & FemaleLowerMiddleQuartile & FemaleUpperMiddleQuartile & FemaleTopQuartile\\\\\n <dbl> & <dbl> & <dbl> & <dbl> & <dbl>\\\\\n\\hline\n\t 81.0 & 17.7 & 14.7 & 10.8 & 12.9\\\\\n\t 86.9 & 38.6 & 33.7 & 33.7 & 55.4\\\\\n\t  0.0 & 28.5 & 20.8 & 21.5 & 19.1\\\\\n\t 57.0 & 62.8 & 60.9 & 63.2 & 48.2\\\\\n\t  3.0 & 71.0 & 72.0 & 59.0 & 40.0\\\\\n\t  0.0 & 72.0 & 84.0 & 79.0 & 73.0\\\\\n\t  0.0 & 90.0 & 90.0 & 74.0 & 74.0\\\\\n\t  0.0 & 80.0 & 67.0 & 67.0 & 50.0\\\\\n\t 45.0 & 12.2 &  2.7 &  0.6 &  3.3\\\\\n\t 16.4 & 57.8 & 48.5 & 60.2 & 31.4\\\\\n\t 37.5 & 44.7 & 11.6 & 21.5 & 13.0\\\\\n\t 16.1 & 11.4 &  8.4 & 14.3 & 10.0\\\\\n\t 16.7 & 42.3 &  9.0 &  1.3 &  1.3\\\\\n\t 52.0 & 49.0 & 54.0 & 51.0 & 60.0\\\\\n\t 44.6 & 68.0 & 59.6 & 51.1 & 48.0\\\\\n\t 92.0 & 62.9 & 60.0 & 62.5 & 55.8\\\\\n\t  3.6 & 29.0 & 25.8 & 12.9 & 11.5\\\\\n\t 71.4 & 20.6 & 12.1 & 12.1 & 18.2\\\\\n\t  0.0 & 56.0 & 27.0 & 31.0 & 35.0\\\\\n\t  0.0 & 43.0 & 59.0 & 82.0 & 59.0\\\\\n\t  0.0 &  2.0 &  3.0 &  1.0 &  3.0\\\\\n\t  0.0 & 95.3 & 90.6 & 84.3 & 85.9\\\\\n\t  0.0 & 58.8 & 59.1 & 60.9 & 63.9\\\\\n\t 98.8 & 44.0 & 20.7 & 14.7 & 16.8\\\\\n\t 80.0 & 28.8 & 17.2 & 24.5 & 22.2\\\\\n\t 81.6 & 45.7 & 36.4 & 38.6 & 30.1\\\\\n\t 86.0 & 66.0 & 66.0 & 76.0 & 36.0\\\\\n\t 93.8 & 60.0 & 49.0 & 40.0 & 33.0\\\\\n\t  0.0 & 73.2 & 69.1 & 66.3 & 53.0\\\\\n\t  7.8 & 65.0 & 70.0 & 54.0 & 56.0\\\\\n\t ⋮ & ⋮ & ⋮ & ⋮ & ⋮\\\\\n\t   0.0 & 84.0 & 77.0 & 68.0 & 58.0\\\\\n\t   0.0 & 76.3 & 70.1 & 76.3 & 67.7\\\\\n\t 100.0 &  7.0 &  5.0 &  2.0 &  8.0\\\\\n\t 100.0 &  7.0 &  5.0 &  2.0 &  8.0\\\\\n\t  91.0 & 43.3 & 26.7 & 18.3 & 28.3\\\\\n\t   0.0 & 61.0 & 54.0 & 42.0 & 37.0\\\\\n\t   1.8 & 47.0 & 42.0 & 35.0 & 24.0\\\\\n\t   1.0 & 70.5 & 90.2 & 90.0 & 83.6\\\\\n\t  60.4 & 44.4 & 25.8 & 21.8 & 16.1\\\\\n\t  66.2 & 55.4 & 60.2 & 72.3 & 78.0\\\\\n\t   0.0 & 70.0 & 34.0 & 17.0 & 18.0\\\\\n\t   2.5 & 74.3 & 67.1 & 47.1 & 44.3\\\\\n\t  88.0 & 36.0 & 25.0 & 22.0 & 17.0\\\\\n\t   0.0 & 39.0 & 43.0 & 26.0 & 32.0\\\\\n\t   0.0 & 63.6 & 60.0 & 56.2 & 61.1\\\\\n\t   0.0 & 68.0 & 75.0 & 66.0 & 64.0\\\\\n\t  17.0 & 45.0 & 54.0 & 53.0 & 36.0\\\\\n\t   1.7 & 69.5 & 69.3 & 58.6 & 57.7\\\\\n\t  95.8 & 48.6 & 39.6 & 45.9 & 40.9\\\\\n\t  14.2 & 79.0 & 76.0 & 75.0 & 75.0\\\\\n\t  10.6 & 41.9 & 51.1 & 42.0 & 45.4\\\\\n\t  58.2 & 61.1 & 64.6 & 63.7 & 62.0\\\\\n\t   0.0 & 84.0 & 73.0 & 63.0 & 58.0\\\\\n\t  88.0 &  9.0 &  9.0 &  2.0 &  6.0\\\\\n\t  85.2 & 83.9 & 75.2 & 57.7 & 36.2\\\\\n\t  75.6 & 33.1 & 43.6 & 11.0 &  8.0\\\\\n\t  80.6 & 63.6 & 63.2 & 56.6 & 48.7\\\\\n\t   0.0 & 40.0 & 43.0 & 57.0 & 57.5\\\\\n\t   0.0 & 42.1 & 61.7 & 70.5 & 54.1\\\\\n\t   0.0 & 50.0 & 48.3 & 51.7 & 71.7\\\\\n\\end{tabular}\n",
            "text/plain": [
              "    FemaleBonusPercent FemaleLowerQuartile FemaleLowerMiddleQuartile\n",
              "1   81.0               17.7                14.7                     \n",
              "2   86.9               38.6                33.7                     \n",
              "3    0.0               28.5                20.8                     \n",
              "4   57.0               62.8                60.9                     \n",
              "5    3.0               71.0                72.0                     \n",
              "6    0.0               72.0                84.0                     \n",
              "7    0.0               90.0                90.0                     \n",
              "8    0.0               80.0                67.0                     \n",
              "9   45.0               12.2                 2.7                     \n",
              "10  16.4               57.8                48.5                     \n",
              "11  37.5               44.7                11.6                     \n",
              "12  16.1               11.4                 8.4                     \n",
              "13  16.7               42.3                 9.0                     \n",
              "14  52.0               49.0                54.0                     \n",
              "15  44.6               68.0                59.6                     \n",
              "16  92.0               62.9                60.0                     \n",
              "17   3.6               29.0                25.8                     \n",
              "18  71.4               20.6                12.1                     \n",
              "19   0.0               56.0                27.0                     \n",
              "20   0.0               43.0                59.0                     \n",
              "21   0.0                2.0                 3.0                     \n",
              "22   0.0               95.3                90.6                     \n",
              "23   0.0               58.8                59.1                     \n",
              "24  98.8               44.0                20.7                     \n",
              "25  80.0               28.8                17.2                     \n",
              "26  81.6               45.7                36.4                     \n",
              "27  86.0               66.0                66.0                     \n",
              "28  93.8               60.0                49.0                     \n",
              "29   0.0               73.2                69.1                     \n",
              "30   7.8               65.0                70.0                     \n",
              "⋮   ⋮                  ⋮                   ⋮                        \n",
              "302   0.0              84.0                77.0                     \n",
              "303   0.0              76.3                70.1                     \n",
              "304 100.0               7.0                 5.0                     \n",
              "305 100.0               7.0                 5.0                     \n",
              "306  91.0              43.3                26.7                     \n",
              "307   0.0              61.0                54.0                     \n",
              "308   1.8              47.0                42.0                     \n",
              "309   1.0              70.5                90.2                     \n",
              "310  60.4              44.4                25.8                     \n",
              "311  66.2              55.4                60.2                     \n",
              "312   0.0              70.0                34.0                     \n",
              "313   2.5              74.3                67.1                     \n",
              "314  88.0              36.0                25.0                     \n",
              "315   0.0              39.0                43.0                     \n",
              "316   0.0              63.6                60.0                     \n",
              "317   0.0              68.0                75.0                     \n",
              "318  17.0              45.0                54.0                     \n",
              "319   1.7              69.5                69.3                     \n",
              "320  95.8              48.6                39.6                     \n",
              "321  14.2              79.0                76.0                     \n",
              "322  10.6              41.9                51.1                     \n",
              "323  58.2              61.1                64.6                     \n",
              "324   0.0              84.0                73.0                     \n",
              "325  88.0               9.0                 9.0                     \n",
              "326  85.2              83.9                75.2                     \n",
              "327  75.6              33.1                43.6                     \n",
              "328  80.6              63.6                63.2                     \n",
              "329   0.0              40.0                43.0                     \n",
              "330   0.0              42.1                61.7                     \n",
              "331   0.0              50.0                48.3                     \n",
              "    FemaleUpperMiddleQuartile FemaleTopQuartile\n",
              "1   10.8                      12.9             \n",
              "2   33.7                      55.4             \n",
              "3   21.5                      19.1             \n",
              "4   63.2                      48.2             \n",
              "5   59.0                      40.0             \n",
              "6   79.0                      73.0             \n",
              "7   74.0                      74.0             \n",
              "8   67.0                      50.0             \n",
              "9    0.6                       3.3             \n",
              "10  60.2                      31.4             \n",
              "11  21.5                      13.0             \n",
              "12  14.3                      10.0             \n",
              "13   1.3                       1.3             \n",
              "14  51.0                      60.0             \n",
              "15  51.1                      48.0             \n",
              "16  62.5                      55.8             \n",
              "17  12.9                      11.5             \n",
              "18  12.1                      18.2             \n",
              "19  31.0                      35.0             \n",
              "20  82.0                      59.0             \n",
              "21   1.0                       3.0             \n",
              "22  84.3                      85.9             \n",
              "23  60.9                      63.9             \n",
              "24  14.7                      16.8             \n",
              "25  24.5                      22.2             \n",
              "26  38.6                      30.1             \n",
              "27  76.0                      36.0             \n",
              "28  40.0                      33.0             \n",
              "29  66.3                      53.0             \n",
              "30  54.0                      56.0             \n",
              "⋮   ⋮                         ⋮                \n",
              "302 68.0                      58.0             \n",
              "303 76.3                      67.7             \n",
              "304  2.0                       8.0             \n",
              "305  2.0                       8.0             \n",
              "306 18.3                      28.3             \n",
              "307 42.0                      37.0             \n",
              "308 35.0                      24.0             \n",
              "309 90.0                      83.6             \n",
              "310 21.8                      16.1             \n",
              "311 72.3                      78.0             \n",
              "312 17.0                      18.0             \n",
              "313 47.1                      44.3             \n",
              "314 22.0                      17.0             \n",
              "315 26.0                      32.0             \n",
              "316 56.2                      61.1             \n",
              "317 66.0                      64.0             \n",
              "318 53.0                      36.0             \n",
              "319 58.6                      57.7             \n",
              "320 45.9                      40.9             \n",
              "321 75.0                      75.0             \n",
              "322 42.0                      45.4             \n",
              "323 63.7                      62.0             \n",
              "324 63.0                      58.0             \n",
              "325  2.0                       6.0             \n",
              "326 57.7                      36.2             \n",
              "327 11.0                       8.0             \n",
              "328 56.6                      48.7             \n",
              "329 57.0                      57.5             \n",
              "330 70.5                      54.1             \n",
              "331 51.7                      71.7             "
            ]
          },
          "metadata": {}
        }
      ]
    },
    {
      "cell_type": "markdown",
      "source": [
        "# 3.1.4 Renaming columns"
      ],
      "metadata": {
        "id": "MP7KMGM78Xa-"
      }
    },
    {
      "cell_type": "code",
      "source": [
        "## append variable names with their respective units\n",
        "\n",
        "# rename 'CompanyNumber' to 'CompanyID'\n",
        "paygap <- rename(paygap, Location = Address)\n",
        "\n",
        "# rename 'PostCode' to 'ZipCode'\n",
        "paygap <- rename(paygap, ZipCode = SicCodes)\n",
        "\n",
        "## SHOWS ERROR BUT DF BELOW SHOWS COMMAND WORKS"
      ],
      "metadata": {
        "colab": {
          "base_uri": "https://localhost:8080/",
          "height": 96
        },
        "id": "qzyCqX2JAFft",
        "outputId": "ed603a57-2dc9-4195-aea1-5fbeb0f51ca7"
      },
      "execution_count": 154,
      "outputs": [
        {
          "output_type": "error",
          "ename": "ERROR",
          "evalue": "ignored",
          "traceback": [
            "Error in rename(paygap, Location = Address): unused argument (Location = Address)\nTraceback:\n"
          ]
        }
      ]
    },
    {
      "cell_type": "code",
      "source": [
        "head(paygap, n=5)"
      ],
      "metadata": {
        "colab": {
          "base_uri": "https://localhost:8080/",
          "height": 709
        },
        "id": "-eCZt4f4AGIo",
        "outputId": "ef970176-113d-4cfa-9256-78a18c280249"
      },
      "execution_count": 179,
      "outputs": [
        {
          "output_type": "display_data",
          "data": {
            "text/html": [
              "<table class=\"dataframe\">\n",
              "<caption>A data.frame: 5 × 27</caption>\n",
              "<thead>\n",
              "\t<tr><th></th><th scope=col>EmployerName</th><th scope=col>EmployerId</th><th scope=col>Location</th><th scope=col>ZipCode</th><th scope=col>CompanyID</th><th scope=col>SicCodes</th><th scope=col>DiffMeanHourlyPercent</th><th scope=col>DiffMedianHourlyPercent</th><th scope=col>DiffMeanBonusPercent</th><th scope=col>DiffMedianBonusPercent</th><th scope=col>⋯</th><th scope=col>FemaleUpperMiddleQuartile</th><th scope=col>MaleTopQuartile</th><th scope=col>FemaleTopQuartile</th><th scope=col>CompanyLinkToGPGInfo</th><th scope=col>ResponsiblePerson</th><th scope=col>EmployerSize</th><th scope=col>CurrentName</th><th scope=col>SubmittedAfterTheDeadline</th><th scope=col>DueDate</th><th scope=col>DateSubmitted</th></tr>\n",
              "\t<tr><th></th><th scope=col>&lt;chr&gt;</th><th scope=col>&lt;int&gt;</th><th scope=col>&lt;chr&gt;</th><th scope=col>&lt;chr&gt;</th><th scope=col>&lt;chr&gt;</th><th scope=col>&lt;chr&gt;</th><th scope=col>&lt;dbl&gt;</th><th scope=col>&lt;dbl&gt;</th><th scope=col>&lt;dbl&gt;</th><th scope=col>&lt;dbl&gt;</th><th scope=col>⋯</th><th scope=col>&lt;dbl&gt;</th><th scope=col>&lt;dbl&gt;</th><th scope=col>&lt;dbl&gt;</th><th scope=col>&lt;chr&gt;</th><th scope=col>&lt;chr&gt;</th><th scope=col>&lt;chr&gt;</th><th scope=col>&lt;chr&gt;</th><th scope=col>&lt;chr&gt;</th><th scope=col>&lt;chr&gt;</th><th scope=col>&lt;chr&gt;</th></tr>\n",
              "</thead>\n",
              "<tbody>\n",
              "\t<tr><th scope=row>1</th><td>A.J.N. STEELSTOCK LTD.                        </td><td>14835</td><td>Icknield Way, Kentford, Newmarket, Suffolk, CB8 7QT                                   </td><td>CB8 7QT </td><td>00689647</td><td>46720    </td><td>16.2</td><td>  3.3</td><td>-20.0</td><td>  0.0</td><td>⋯</td><td>10.8</td><td>87.1</td><td>12.9</td><td>https://www.ajnsteelstock.co.uk/wp-content/uploads/2022/10/2022-Gender-Pay-Gap-Report.pdf</td><td>Courtney Bell (FD)              </td><td>250 to 499  </td><td>A.J.N. STEELSTOCK LTD.                        </td><td>False</td><td>2023/04/05 00:00:00</td><td>2022/10/11 15:34:17</td></tr>\n",
              "\t<tr><th scope=row>2</th><td>AB WORLD FOODS LIMITED                        </td><td>  764</td><td>Weston Centre, 10 Grosvenor Street, London, W1K 4QY                                   </td><td>W1K 4QY </td><td>01400901</td><td>10890    </td><td>-8.6</td><td>-12.3</td><td> 10.3</td><td>-20.8</td><td>⋯</td><td>33.7</td><td>44.6</td><td>55.4</td><td>https://abworldfoods.com/documents/ABWF_Gender_Pay_Gap_Narrative_2022.pdf                </td><td>Andy Mayhew (Managing Director) </td><td>250 to 499  </td><td>AB WORLD FOODS LIMITED                        </td><td>False</td><td>2023/04/05 00:00:00</td><td>2022/09/30 09:45:25</td></tr>\n",
              "\t<tr><th scope=row>3</th><td>ABACUS EMPLOYMENT SERVICES LIMITED            </td><td>  767</td><td>1 Chequers Road, Basingstoke, Hampshire, England, RG21 7PU                            </td><td>RG21 7PU</td><td>02638307</td><td>78200    </td><td>-3.0</td><td>  3.2</td><td>   NA</td><td>   NA</td><td>⋯</td><td>21.5</td><td>80.9</td><td>19.1</td><td>http://www.abacus-employment.com                                                         </td><td>Phil James (Finance Manager)    </td><td>250 to 499  </td><td>ABACUS EMPLOYMENT SERVICES LIMITED            </td><td>False</td><td>2023/04/05 00:00:00</td><td>2022/04/13 14:57:04</td></tr>\n",
              "\t<tr><th scope=row>4</th><td>Advisory, Conciliation and Arbitration Service</td><td>  496</td><td>8th Floor, Windsor House, 50 Victoria Street, London, London, United Kingdom, SW1H 0TL</td><td>SW1H 0TL</td><td>        </td><td>1,\n",
              "84110</td><td> 7.2</td><td>  6.1</td><td> 19.4</td><td>  9.9</td><td>⋯</td><td>63.2</td><td>51.8</td><td>48.2</td><td>https://www.acas.org.uk/acas-gender-pay-report/2021-to-2022-report                       </td><td>                                </td><td>1000 to 4999</td><td>Advisory, Conciliation and Arbitration Service</td><td>False</td><td>2023/03/31 00:00:00</td><td>2022/08/01 13:15:17</td></tr>\n",
              "\t<tr><th scope=row>5</th><td>AFH INDEPENDENT FINANCIAL SERVICES LIMITED    </td><td>19364</td><td>Afh House Buntsford Drive, Stoke Heath, Bromsgrove, Worcestershire, B60 4JE           </td><td>B60 4JE </td><td>04049180</td><td>64999    </td><td>25.0</td><td> 32.0</td><td>-33.0</td><td> 69.0</td><td>⋯</td><td>59.0</td><td>60.0</td><td>40.0</td><td>                                                                                         </td><td>Alison Court (Senior HR Adviser)</td><td>500 to 999  </td><td>AFH INDEPENDENT FINANCIAL SERVICES LIMITED    </td><td>False</td><td>2023/04/05 00:00:00</td><td>2022/05/20 11:24:09</td></tr>\n",
              "</tbody>\n",
              "</table>\n"
            ],
            "text/markdown": "\nA data.frame: 5 × 27\n\n| <!--/--> | EmployerName &lt;chr&gt; | EmployerId &lt;int&gt; | Location &lt;chr&gt; | ZipCode &lt;chr&gt; | CompanyID &lt;chr&gt; | SicCodes &lt;chr&gt; | DiffMeanHourlyPercent &lt;dbl&gt; | DiffMedianHourlyPercent &lt;dbl&gt; | DiffMeanBonusPercent &lt;dbl&gt; | DiffMedianBonusPercent &lt;dbl&gt; | ⋯ ⋯ | FemaleUpperMiddleQuartile &lt;dbl&gt; | MaleTopQuartile &lt;dbl&gt; | FemaleTopQuartile &lt;dbl&gt; | CompanyLinkToGPGInfo &lt;chr&gt; | ResponsiblePerson &lt;chr&gt; | EmployerSize &lt;chr&gt; | CurrentName &lt;chr&gt; | SubmittedAfterTheDeadline &lt;chr&gt; | DueDate &lt;chr&gt; | DateSubmitted &lt;chr&gt; |\n|---|---|---|---|---|---|---|---|---|---|---|---|---|---|---|---|---|---|---|---|---|---|\n| 1 | A.J.N. STEELSTOCK LTD.                         | 14835 | Icknield Way, Kentford, Newmarket, Suffolk, CB8 7QT                                    | CB8 7QT  | 00689647 | 46720     | 16.2 |   3.3 | -20.0 |   0.0 | ⋯ | 10.8 | 87.1 | 12.9 | https://www.ajnsteelstock.co.uk/wp-content/uploads/2022/10/2022-Gender-Pay-Gap-Report.pdf | Courtney Bell (FD)               | 250 to 499   | A.J.N. STEELSTOCK LTD.                         | False | 2023/04/05 00:00:00 | 2022/10/11 15:34:17 |\n| 2 | AB WORLD FOODS LIMITED                         |   764 | Weston Centre, 10 Grosvenor Street, London, W1K 4QY                                    | W1K 4QY  | 01400901 | 10890     | -8.6 | -12.3 |  10.3 | -20.8 | ⋯ | 33.7 | 44.6 | 55.4 | https://abworldfoods.com/documents/ABWF_Gender_Pay_Gap_Narrative_2022.pdf                 | Andy Mayhew (Managing Director)  | 250 to 499   | AB WORLD FOODS LIMITED                         | False | 2023/04/05 00:00:00 | 2022/09/30 09:45:25 |\n| 3 | ABACUS EMPLOYMENT SERVICES LIMITED             |   767 | 1 Chequers Road, Basingstoke, Hampshire, England, RG21 7PU                             | RG21 7PU | 02638307 | 78200     | -3.0 |   3.2 |    NA |    NA | ⋯ | 21.5 | 80.9 | 19.1 | http://www.abacus-employment.com                                                          | Phil James (Finance Manager)     | 250 to 499   | ABACUS EMPLOYMENT SERVICES LIMITED             | False | 2023/04/05 00:00:00 | 2022/04/13 14:57:04 |\n| 4 | Advisory, Conciliation and Arbitration Service |   496 | 8th Floor, Windsor House, 50 Victoria Street, London, London, United Kingdom, SW1H 0TL | SW1H 0TL | <!----> | 1,\n84110 |  7.2 |   6.1 |  19.4 |   9.9 | ⋯ | 63.2 | 51.8 | 48.2 | https://www.acas.org.uk/acas-gender-pay-report/2021-to-2022-report                        | <!----> | 1000 to 4999 | Advisory, Conciliation and Arbitration Service | False | 2023/03/31 00:00:00 | 2022/08/01 13:15:17 |\n| 5 | AFH INDEPENDENT FINANCIAL SERVICES LIMITED     | 19364 | Afh House Buntsford Drive, Stoke Heath, Bromsgrove, Worcestershire, B60 4JE            | B60 4JE  | 04049180 | 64999     | 25.0 |  32.0 | -33.0 |  69.0 | ⋯ | 59.0 | 60.0 | 40.0 | <!----> | Alison Court (Senior HR Adviser) | 500 to 999   | AFH INDEPENDENT FINANCIAL SERVICES LIMITED     | False | 2023/04/05 00:00:00 | 2022/05/20 11:24:09 |\n\n",
            "text/latex": "A data.frame: 5 × 27\n\\begin{tabular}{r|lllllllllllllllllllll}\n  & EmployerName & EmployerId & Location & ZipCode & CompanyID & SicCodes & DiffMeanHourlyPercent & DiffMedianHourlyPercent & DiffMeanBonusPercent & DiffMedianBonusPercent & ⋯ & FemaleUpperMiddleQuartile & MaleTopQuartile & FemaleTopQuartile & CompanyLinkToGPGInfo & ResponsiblePerson & EmployerSize & CurrentName & SubmittedAfterTheDeadline & DueDate & DateSubmitted\\\\\n  & <chr> & <int> & <chr> & <chr> & <chr> & <chr> & <dbl> & <dbl> & <dbl> & <dbl> & ⋯ & <dbl> & <dbl> & <dbl> & <chr> & <chr> & <chr> & <chr> & <chr> & <chr> & <chr>\\\\\n\\hline\n\t1 & A.J.N. STEELSTOCK LTD.                         & 14835 & Icknield Way, Kentford, Newmarket, Suffolk, CB8 7QT                                    & CB8 7QT  & 00689647 & 46720     & 16.2 &   3.3 & -20.0 &   0.0 & ⋯ & 10.8 & 87.1 & 12.9 & https://www.ajnsteelstock.co.uk/wp-content/uploads/2022/10/2022-Gender-Pay-Gap-Report.pdf & Courtney Bell (FD)               & 250 to 499   & A.J.N. STEELSTOCK LTD.                         & False & 2023/04/05 00:00:00 & 2022/10/11 15:34:17\\\\\n\t2 & AB WORLD FOODS LIMITED                         &   764 & Weston Centre, 10 Grosvenor Street, London, W1K 4QY                                    & W1K 4QY  & 01400901 & 10890     & -8.6 & -12.3 &  10.3 & -20.8 & ⋯ & 33.7 & 44.6 & 55.4 & https://abworldfoods.com/documents/ABWF\\_Gender\\_Pay\\_Gap\\_Narrative\\_2022.pdf                 & Andy Mayhew (Managing Director)  & 250 to 499   & AB WORLD FOODS LIMITED                         & False & 2023/04/05 00:00:00 & 2022/09/30 09:45:25\\\\\n\t3 & ABACUS EMPLOYMENT SERVICES LIMITED             &   767 & 1 Chequers Road, Basingstoke, Hampshire, England, RG21 7PU                             & RG21 7PU & 02638307 & 78200     & -3.0 &   3.2 &    NA &    NA & ⋯ & 21.5 & 80.9 & 19.1 & http://www.abacus-employment.com                                                          & Phil James (Finance Manager)     & 250 to 499   & ABACUS EMPLOYMENT SERVICES LIMITED             & False & 2023/04/05 00:00:00 & 2022/04/13 14:57:04\\\\\n\t4 & Advisory, Conciliation and Arbitration Service &   496 & 8th Floor, Windsor House, 50 Victoria Street, London, London, United Kingdom, SW1H 0TL & SW1H 0TL &          & 1,\n84110 &  7.2 &   6.1 &  19.4 &   9.9 & ⋯ & 63.2 & 51.8 & 48.2 & https://www.acas.org.uk/acas-gender-pay-report/2021-to-2022-report                        &                                  & 1000 to 4999 & Advisory, Conciliation and Arbitration Service & False & 2023/03/31 00:00:00 & 2022/08/01 13:15:17\\\\\n\t5 & AFH INDEPENDENT FINANCIAL SERVICES LIMITED     & 19364 & Afh House Buntsford Drive, Stoke Heath, Bromsgrove, Worcestershire, B60 4JE            & B60 4JE  & 04049180 & 64999     & 25.0 &  32.0 & -33.0 &  69.0 & ⋯ & 59.0 & 60.0 & 40.0 &                                                                                           & Alison Court (Senior HR Adviser) & 500 to 999   & AFH INDEPENDENT FINANCIAL SERVICES LIMITED     & False & 2023/04/05 00:00:00 & 2022/05/20 11:24:09\\\\\n\\end{tabular}\n",
            "text/plain": [
              "  EmployerName                                   EmployerId\n",
              "1 A.J.N. STEELSTOCK LTD.                         14835     \n",
              "2 AB WORLD FOODS LIMITED                           764     \n",
              "3 ABACUS EMPLOYMENT SERVICES LIMITED               767     \n",
              "4 Advisory, Conciliation and Arbitration Service   496     \n",
              "5 AFH INDEPENDENT FINANCIAL SERVICES LIMITED     19364     \n",
              "  Location                                                                              \n",
              "1 Icknield Way, Kentford, Newmarket, Suffolk, CB8 7QT                                   \n",
              "2 Weston Centre, 10 Grosvenor Street, London, W1K 4QY                                   \n",
              "3 1 Chequers Road, Basingstoke, Hampshire, England, RG21 7PU                            \n",
              "4 8th Floor, Windsor House, 50 Victoria Street, London, London, United Kingdom, SW1H 0TL\n",
              "5 Afh House Buntsford Drive, Stoke Heath, Bromsgrove, Worcestershire, B60 4JE           \n",
              "  ZipCode  CompanyID SicCodes  DiffMeanHourlyPercent DiffMedianHourlyPercent\n",
              "1 CB8 7QT  00689647  46720     16.2                    3.3                  \n",
              "2 W1K 4QY  01400901  10890     -8.6                  -12.3                  \n",
              "3 RG21 7PU 02638307  78200     -3.0                    3.2                  \n",
              "4 SW1H 0TL           1,\\n84110  7.2                    6.1                  \n",
              "5 B60 4JE  04049180  64999     25.0                   32.0                  \n",
              "  DiffMeanBonusPercent DiffMedianBonusPercent ⋯ FemaleUpperMiddleQuartile\n",
              "1 -20.0                  0.0                  ⋯ 10.8                     \n",
              "2  10.3                -20.8                  ⋯ 33.7                     \n",
              "3    NA                   NA                  ⋯ 21.5                     \n",
              "4  19.4                  9.9                  ⋯ 63.2                     \n",
              "5 -33.0                 69.0                  ⋯ 59.0                     \n",
              "  MaleTopQuartile FemaleTopQuartile\n",
              "1 87.1            12.9             \n",
              "2 44.6            55.4             \n",
              "3 80.9            19.1             \n",
              "4 51.8            48.2             \n",
              "5 60.0            40.0             \n",
              "  CompanyLinkToGPGInfo                                                                     \n",
              "1 https://www.ajnsteelstock.co.uk/wp-content/uploads/2022/10/2022-Gender-Pay-Gap-Report.pdf\n",
              "2 https://abworldfoods.com/documents/ABWF_Gender_Pay_Gap_Narrative_2022.pdf                \n",
              "3 http://www.abacus-employment.com                                                         \n",
              "4 https://www.acas.org.uk/acas-gender-pay-report/2021-to-2022-report                       \n",
              "5                                                                                          \n",
              "  ResponsiblePerson                EmployerSize\n",
              "1 Courtney Bell (FD)               250 to 499  \n",
              "2 Andy Mayhew (Managing Director)  250 to 499  \n",
              "3 Phil James (Finance Manager)     250 to 499  \n",
              "4                                  1000 to 4999\n",
              "5 Alison Court (Senior HR Adviser) 500 to 999  \n",
              "  CurrentName                                    SubmittedAfterTheDeadline\n",
              "1 A.J.N. STEELSTOCK LTD.                         False                    \n",
              "2 AB WORLD FOODS LIMITED                         False                    \n",
              "3 ABACUS EMPLOYMENT SERVICES LIMITED             False                    \n",
              "4 Advisory, Conciliation and Arbitration Service False                    \n",
              "5 AFH INDEPENDENT FINANCIAL SERVICES LIMITED     False                    \n",
              "  DueDate             DateSubmitted      \n",
              "1 2023/04/05 00:00:00 2022/10/11 15:34:17\n",
              "2 2023/04/05 00:00:00 2022/09/30 09:45:25\n",
              "3 2023/04/05 00:00:00 2022/04/13 14:57:04\n",
              "4 2023/03/31 00:00:00 2022/08/01 13:15:17\n",
              "5 2023/04/05 00:00:00 2022/05/20 11:24:09"
            ]
          },
          "metadata": {}
        }
      ]
    },
    {
      "cell_type": "markdown",
      "source": [
        "# 3.1.5 Adding/changing columns\n",
        "\n",
        "Using `mutate()`"
      ],
      "metadata": {
        "id": "w8Zf2nowANKq"
      }
    },
    {
      "cell_type": "code",
      "source": [
        "# change values in SubmittedAfterTheDeadline column to read  \"F\" instead of False\n",
        "paygap <- mutate(paygap, SubmittedAfterTheDeadline = ifelse(SubmittedAfterTheDeadline == False, 'F'))\n",
        "\n",
        "# not sure what is causing the error. tried reloading packages in different order"
      ],
      "metadata": {
        "colab": {
          "base_uri": "https://localhost:8080/",
          "height": 200
        },
        "id": "2L4i8YhcFbvb",
        "outputId": "11de4bb1-1e60-4e43-c0a6-01bd2eef4340"
      },
      "execution_count": 175,
      "outputs": [
        {
          "output_type": "error",
          "ename": "ERROR",
          "evalue": "ignored",
          "traceback": [
            "Error in ifelse(SubmittedAfterTheDeadline == False, \"F\"): object 'False' not found\nTraceback:\n",
            "1. mutate(paygap, SubmittedAfterTheDeadline = ifelse(SubmittedAfterTheDeadline == \n .     False, \"F\"))",
            "2. eval(cols[[col]], .data, parent.frame())",
            "3. eval(cols[[col]], .data, parent.frame())",
            "4. ifelse(SubmittedAfterTheDeadline == False, \"F\")"
          ]
        }
      ]
    },
    {
      "cell_type": "code",
      "source": [
        "# filter for data from female subjects only\n",
        "deadlines_false <- filter(paygap, SubmittedAfterTheDeadline == 'False')\n",
        "deadlines_false"
      ],
      "metadata": {
        "colab": {
          "base_uri": "https://localhost:8080/",
          "height": 1000
        },
        "id": "KjeOQ_8UFKBS",
        "outputId": "06331110-df85-4d60-f8d8-2933f41a915a"
      },
      "execution_count": 172,
      "outputs": [
        {
          "output_type": "display_data",
          "data": {
            "text/html": [
              "<table class=\"dataframe\">\n",
              "<caption>A data.frame: 331 × 27</caption>\n",
              "<thead>\n",
              "\t<tr><th scope=col>EmployerName</th><th scope=col>EmployerId</th><th scope=col>Location</th><th scope=col>ZipCode</th><th scope=col>CompanyID</th><th scope=col>SicCodes</th><th scope=col>DiffMeanHourlyPercent</th><th scope=col>DiffMedianHourlyPercent</th><th scope=col>DiffMeanBonusPercent</th><th scope=col>DiffMedianBonusPercent</th><th scope=col>⋯</th><th scope=col>FemaleUpperMiddleQuartile</th><th scope=col>MaleTopQuartile</th><th scope=col>FemaleTopQuartile</th><th scope=col>CompanyLinkToGPGInfo</th><th scope=col>ResponsiblePerson</th><th scope=col>EmployerSize</th><th scope=col>CurrentName</th><th scope=col>SubmittedAfterTheDeadline</th><th scope=col>DueDate</th><th scope=col>DateSubmitted</th></tr>\n",
              "\t<tr><th scope=col>&lt;chr&gt;</th><th scope=col>&lt;int&gt;</th><th scope=col>&lt;chr&gt;</th><th scope=col>&lt;chr&gt;</th><th scope=col>&lt;chr&gt;</th><th scope=col>&lt;chr&gt;</th><th scope=col>&lt;dbl&gt;</th><th scope=col>&lt;dbl&gt;</th><th scope=col>&lt;dbl&gt;</th><th scope=col>&lt;dbl&gt;</th><th scope=col>⋯</th><th scope=col>&lt;dbl&gt;</th><th scope=col>&lt;dbl&gt;</th><th scope=col>&lt;dbl&gt;</th><th scope=col>&lt;chr&gt;</th><th scope=col>&lt;chr&gt;</th><th scope=col>&lt;chr&gt;</th><th scope=col>&lt;chr&gt;</th><th scope=col>&lt;chr&gt;</th><th scope=col>&lt;chr&gt;</th><th scope=col>&lt;chr&gt;</th></tr>\n",
              "</thead>\n",
              "<tbody>\n",
              "\t<tr><td>A.J.N. STEELSTOCK LTD.                                                 </td><td>14835</td><td>Icknield Way, Kentford, Newmarket, Suffolk, CB8 7QT                                                           </td><td>CB8 7QT </td><td>00689647</td><td>46720                        </td><td> 16.2</td><td>  3.3</td><td> -20.0</td><td>  0.0</td><td>⋯</td><td>10.8</td><td>87.1</td><td>12.9</td><td>https://www.ajnsteelstock.co.uk/wp-content/uploads/2022/10/2022-Gender-Pay-Gap-Report.pdf                                                   </td><td>Courtney Bell (FD)                                  </td><td>250 to 499    </td><td>A.J.N. STEELSTOCK LTD.                                                 </td><td>False</td><td>2023/04/05 00:00:00</td><td>2022/10/11 15:34:17</td></tr>\n",
              "\t<tr><td>AB WORLD FOODS LIMITED                                                 </td><td>  764</td><td>Weston Centre, 10 Grosvenor Street, London, W1K 4QY                                                           </td><td>W1K 4QY </td><td>01400901</td><td>10890                        </td><td> -8.6</td><td>-12.3</td><td>  10.3</td><td>-20.8</td><td>⋯</td><td>33.7</td><td>44.6</td><td>55.4</td><td>https://abworldfoods.com/documents/ABWF_Gender_Pay_Gap_Narrative_2022.pdf                                                                   </td><td>Andy Mayhew (Managing Director)                     </td><td>250 to 499    </td><td>AB WORLD FOODS LIMITED                                                 </td><td>False</td><td>2023/04/05 00:00:00</td><td>2022/09/30 09:45:25</td></tr>\n",
              "\t<tr><td>ABACUS EMPLOYMENT SERVICES LIMITED                                     </td><td>  767</td><td>1 Chequers Road, Basingstoke, Hampshire, England, RG21 7PU                                                    </td><td>RG21 7PU</td><td>02638307</td><td>78200                        </td><td> -3.0</td><td>  3.2</td><td>    NA</td><td>   NA</td><td>⋯</td><td>21.5</td><td>80.9</td><td>19.1</td><td>http://www.abacus-employment.com                                                                                                            </td><td>Phil James (Finance Manager)                        </td><td>250 to 499    </td><td>ABACUS EMPLOYMENT SERVICES LIMITED                                     </td><td>False</td><td>2023/04/05 00:00:00</td><td>2022/04/13 14:57:04</td></tr>\n",
              "\t<tr><td>Advisory, Conciliation and Arbitration Service                         </td><td>  496</td><td>8th Floor, Windsor House, 50 Victoria Street, London, London, United Kingdom, SW1H 0TL                        </td><td>SW1H 0TL</td><td>        </td><td>1,\n",
              "84110                    </td><td>  7.2</td><td>  6.1</td><td>  19.4</td><td>  9.9</td><td>⋯</td><td>63.2</td><td>51.8</td><td>48.2</td><td>https://www.acas.org.uk/acas-gender-pay-report/2021-to-2022-report                                                                          </td><td>                                                    </td><td>1000 to 4999  </td><td>Advisory, Conciliation and Arbitration Service                         </td><td>False</td><td>2023/03/31 00:00:00</td><td>2022/08/01 13:15:17</td></tr>\n",
              "\t<tr><td>AFH INDEPENDENT FINANCIAL SERVICES LIMITED                             </td><td>19364</td><td>Afh House Buntsford Drive, Stoke Heath, Bromsgrove, Worcestershire, B60 4JE                                   </td><td>B60 4JE </td><td>04049180</td><td>64999                        </td><td> 25.0</td><td> 32.0</td><td> -33.0</td><td> 69.0</td><td>⋯</td><td>59.0</td><td>60.0</td><td>40.0</td><td>                                                                                                                                            </td><td>Alison Court (Senior HR Adviser)                    </td><td>500 to 999    </td><td>AFH INDEPENDENT FINANCIAL SERVICES LIMITED                             </td><td>False</td><td>2023/04/05 00:00:00</td><td>2022/05/20 11:24:09</td></tr>\n",
              "\t<tr><td>AGE UK NORTHUMBERLAND                                                  </td><td>19713</td><td>The Round House, Lintonville Parkway, Ashington, Northumberland, NE63 9JZ                                     </td><td>NE63 9JZ</td><td>03639406</td><td>88100                        </td><td> -3.8</td><td>  0.0</td><td>    NA</td><td>   NA</td><td>⋯</td><td>79.0</td><td>27.0</td><td>73.0</td><td>https://www.ageuk.org.uk/northumberland/about-us/join-us/                                                                                   </td><td>Sarah Turner (Head of Finance)                      </td><td>250 to 499    </td><td>AGE UK NORTHUMBERLAND                                                  </td><td>False</td><td>2023/04/05 00:00:00</td><td>2022/09/26 08:29:12</td></tr>\n",
              "\t<tr><td>All Saints Catholic Academy Trust                                      </td><td>20895</td><td>c/o St Joan of Arc Catholic School, High Street, Rickmansworth, Hertfordshire, United Kingdom, WD3 1HG        </td><td>WD3 1HG </td><td>        </td><td>                             </td><td> 25.0</td><td> 49.0</td><td>    NA</td><td>   NA</td><td>⋯</td><td>74.0</td><td>26.0</td><td>74.0</td><td>http://ascatonline.co.uk                                                                                                                    </td><td>                                                    </td><td>250 to 499    </td><td>All Saints Catholic Academy Trust                                      </td><td>False</td><td>2023/03/31 00:00:00</td><td>2022/07/05 10:48:22</td></tr>\n",
              "\t<tr><td>Allerdale Borough Council                                              </td><td>17194</td><td>Allerdale House, Workington, CA14 3YJ                                                                         </td><td>CA14 3YJ</td><td>        </td><td>1,\n",
              "84110                    </td><td>  9.5</td><td> 17.0</td><td>    NA</td><td>   NA</td><td>⋯</td><td>67.0</td><td>50.0</td><td>50.0</td><td>https://www.allerdale.gov.uk/en/about-council/equality-duty/                                                                                </td><td>                                                    </td><td>Less than 250 </td><td>Allerdale Borough Council                                              </td><td>False</td><td>2023/03/31 00:00:00</td><td>2022/06/13 16:13:15</td></tr>\n",
              "\t<tr><td><span style=white-space:pre-wrap>ALTRAD EMPLOYMENT SERVICES LIMITED                                     </span></td><td>21061</td><td><span style=white-space:pre-wrap>Building 2, Fields End Business Park Davey Road, Thurnscoe, Goldthorpe, Rotherham, England, S63 0JF           </span></td><td>S63 0JF </td><td>11631174</td><td><span style=white-space:pre-wrap>78300                        </span></td><td> 15.0</td><td> 25.0</td><td><span style=white-space:pre-wrap>  -1.0</span></td><td>-23.0</td><td>⋯</td><td> 0.6</td><td>96.7</td><td> 3.3</td><td><span style=white-space:pre-wrap>                                                                                                                                            </span></td><td><span style=white-space:pre-wrap>Padraig Somers (CEO - UK &amp; Nordics)                 </span></td><td>5000 to 19,999</td><td><span style=white-space:pre-wrap>ALTRAD EMPLOYMENT SERVICES LIMITED                                     </span></td><td>False</td><td>2023/04/05 00:00:00</td><td>2022/05/11 14:11:25</td></tr>\n",
              "\t<tr><td>ANGLIAN COUNTRY INNS LIMITED                                           </td><td>17754</td><td>Fox Barn, Willian, Letchworth Garden City, Hertfordshire, SG6 2AE                                             </td><td>SG6 2AE </td><td>03214479</td><td>56101,\n",
              "56302                </td><td>  9.2</td><td>  0.0</td><td>  25.0</td><td> 12.5</td><td>⋯</td><td>60.2</td><td>68.6</td><td>31.4</td><td>https://www.acinns.co.uk                                                                                                                    </td><td>Susanne McGregor (Payroll Manager)                  </td><td>250 to 499    </td><td>ANGLIAN COUNTRY INNS LIMITED                                           </td><td>False</td><td>2023/04/05 00:00:00</td><td>2022/10/03 14:02:45</td></tr>\n",
              "\t<tr><td>ANGLIAN WINDOWS LIMITED                                                </td><td> 1286</td><td>Liberator Road, Liberator Road, Norwich, England, NR6 6EU                                                     </td><td>NR6 6EU </td><td>02540020</td><td>43342                        </td><td> 15.0</td><td> 12.9</td><td>  53.6</td><td> 77.0</td><td>⋯</td><td>21.5</td><td>87.0</td><td>13.0</td><td>https://www.anglianhome.co.uk/legal/gender-pay-gap-reporting                                                                                </td><td>Lisa Walsh (Group HR Director)                      </td><td>1000 to 4999  </td><td>ANGLIAN WINDOWS LIMITED                                                </td><td>False</td><td>2023/04/05 00:00:00</td><td>2022/10/20 12:52:59</td></tr>\n",
              "\t<tr><td>APPH LIMITED                                                           </td><td> 1337</td><td>8 Pembroke Court, Chancellor Road, Manor Park, Runcorn, WA7 1TG                                               </td><td>WA7 1TG </td><td>01972451</td><td>28120,\n",
              "30300                </td><td>  3.6</td><td> -6.4</td><td>-199.9</td><td>-29.1</td><td>⋯</td><td>14.3</td><td>90.0</td><td>10.0</td><td>http://apph.com                                                                                                                             </td><td>Julie Andrew (Human Resources Director)             </td><td>250 to 499    </td><td>APPH LIMITED                                                           </td><td>False</td><td>2023/04/05 00:00:00</td><td>2022/09/12 09:24:36</td></tr>\n",
              "\t<tr><td>APPLUS UK LTD                                                          </td><td> 1343</td><td>Block 2 Units C And D, West Mains Industrial Estate, Grangemouth, Stirlingshire, FK3 8YE                      </td><td>FK3 8YE </td><td>SC236136</td><td>71200                        </td><td> 50.6</td><td> 56.0</td><td>  26.6</td><td>  0.0</td><td>⋯</td><td> 1.3</td><td>98.7</td><td> 1.3</td><td>                                                                                                                                            </td><td>Evelyn Grogan (Head of HR)                          </td><td>250 to 499    </td><td>APPLUS UK LTD                                                          </td><td>False</td><td>2023/04/05 00:00:00</td><td>2022/04/05 09:00:52</td></tr>\n",
              "\t<tr><td>ARC HOSPITALITY RECRUITMENT SOLUTIONS LTD                              </td><td>17877</td><td>61a Bold Street, Liverpool, England, L1 4EZ                                                                   </td><td>L1 4EZ  </td><td>06626815</td><td>78300                        </td><td>  1.9</td><td>  1.2</td><td>   1.9</td><td>  0.0</td><td>⋯</td><td>51.0</td><td>40.0</td><td>60.0</td><td>                                                                                                                                            </td><td>Vicky Gardner (Head of Accounts)                    </td><td>5000 to 19,999</td><td>ARC HOSPITALITY RECRUITMENT SOLUTIONS LTD                              </td><td>False</td><td>2023/04/05 00:00:00</td><td>2022/09/28 15:23:07</td></tr>\n",
              "\t<tr><td>ARCHANT COMMUNITY MEDIA LIMITED                                        </td><td> 1374</td><td>Loudwater Mill Station Road, Loudwater, High Wycombe, England, HP10 9TY                                       </td><td>HP10 9TY</td><td>00019300</td><td>58130,\n",
              "58190                </td><td> 14.5</td><td> 15.8</td><td>  21.8</td><td> 31.2</td><td>⋯</td><td>51.1</td><td>52.0</td><td>48.0</td><td>                                                                                                                                            </td><td>Alison Rich (Director of HR)                        </td><td>500 to 999    </td><td>ARCHANT COMMUNITY MEDIA LIMITED                                        </td><td>False</td><td>2023/04/05 00:00:00</td><td>2022/06/17 08:37:11</td></tr>\n",
              "\t<tr><td>ARDINGLY COLLEGE LIMITED                                               </td><td> 1390</td><td>Ardingly College, College Road, Ardingly, Haywards Heath, West Sussex, RH17 6SQ                               </td><td>RH17 6SQ</td><td>03779971</td><td>85200,\n",
              "85310,\n",
              "85590        </td><td>  5.6</td><td>  1.3</td><td>  13.0</td><td> 20.8</td><td>⋯</td><td>62.5</td><td>44.2</td><td>55.8</td><td>https://www.ardingly.com/staff-recruitment/gender-pay-gap/                                                                                  </td><td>Robert Haynes Brown (Chairman)                      </td><td>250 to 499    </td><td>ARDINGLY COLLEGE LIMITED                                               </td><td>False</td><td>2023/04/05 00:00:00</td><td>2022/08/12 12:56:19</td></tr>\n",
              "\t<tr><td><span style=white-space:pre-wrap>ARENA EVENT SERVICES GROUP LIMITED                                     </span></td><td> 1393</td><td><span style=white-space:pre-wrap>Needingworth Industrial Estate, Needingworth Road, St. Ives, England, PE27 4NB                                </span></td><td>PE27 4NB</td><td>04069053</td><td><span style=white-space:pre-wrap>93199                        </span></td><td> 22.9</td><td> 21.8</td><td><span style=white-space:pre-wrap>  88.9</span></td><td> 70.8</td><td>⋯</td><td>12.9</td><td>88.5</td><td>11.5</td><td><span style=white-space:pre-wrap>                                                                                                                                            </span></td><td>Oxana Vladimirskaya (Group HR Manager - UK &amp; Europe)</td><td><span style=white-space:pre-wrap>250 to 499    </span></td><td><span style=white-space:pre-wrap>ARENA EVENT SERVICES GROUP LIMITED                                     </span></td><td>False</td><td>2023/04/05 00:00:00</td><td>2022/08/23 12:28:00</td></tr>\n",
              "\t<tr><td>ARRK EUROPE LIMITED                                                    </td><td>   87</td><td>Caldwell Road, Nuneaton, Warwickshire, CV11 4NG                                                               </td><td>CV11 4NG</td><td>03418673</td><td>32990                        </td><td> -1.8</td><td> 12.9</td><td> -58.1</td><td>  0.0</td><td>⋯</td><td>12.1</td><td>81.8</td><td>18.2</td><td>https://www.arrkeurope.com/fileadmin/user_upload/Company/arrk-companys/arrk-europe-limited/ARRK_Europe_Ltd._Gender_Pay_Report_April_2022.pdf</td><td>Simon Holmes (Finance Director)                     </td><td>Less than 250 </td><td>ARRK EUROPE LIMITED                                                    </td><td>False</td><td>2023/04/05 00:00:00</td><td>2022/05/04 15:52:35</td></tr>\n",
              "\t<tr><td>ASPERS (STRATFORD CITY) LIMITED                                        </td><td> 1507</td><td>1 Hans Street, London, SW1X 0JD                                                                               </td><td>SW1X 0JD</td><td>07246090</td><td>92000                        </td><td> -1.6</td><td>  0.0</td><td>    NA</td><td>   NA</td><td>⋯</td><td>31.0</td><td>65.0</td><td>35.0</td><td>https://www.aspersstratford.co.uk/terms-conditions-policies.html#gender-pay-gap-report                                                      </td><td>Richard Noble (CEO)                                 </td><td>500 to 999    </td><td>ASPERS (STRATFORD CITY) LIMITED                                        </td><td>False</td><td>2023/04/05 00:00:00</td><td>2022/07/04 10:10:43</td></tr>\n",
              "\t<tr><td>ASSOCIATION FOR SPINAL INJURY RESEARCH REHABILITATION AND REINTEGRATION</td><td>21453</td><td>2nd Floor Regis House, 45 King William Street, London, United Kingdom, EC4R 9AN                               </td><td>EC4R 9AN</td><td>03744357</td><td>86900,\n",
              "93110,\n",
              "93130        </td><td>  4.2</td><td> -7.3</td><td>    NA</td><td>   NA</td><td>⋯</td><td>82.0</td><td>41.0</td><td>59.0</td><td>                                                                                                                                            </td><td>Tasha Webster (Director of Operations)              </td><td>Less than 250 </td><td>ASSOCIATION FOR SPINAL INJURY RESEARCH REHABILITATION AND REINTEGRATION</td><td>False</td><td>2023/04/05 00:00:00</td><td>2022/04/20 16:03:50</td></tr>\n",
              "\t<tr><td>ATLAS PROFESSIONALS UK LIMITED                                         </td><td>19368</td><td>10th Floor, Beacon Tower, Colston Street, Bristol, England, BS1 4XE                                           </td><td>BS1 4XE </td><td>05788965</td><td>78109                        </td><td>-10.0</td><td> 16.0</td><td>    NA</td><td>   NA</td><td>⋯</td><td> 1.0</td><td>97.0</td><td> 3.0</td><td>https://atlasprofessionals.com/static/files/Atlas%20Professionals%20UK%20Ltd%20Pay%20Gap%20Report%202021.pdf                                </td><td>Matt Riding (Group Commercial Director)             </td><td>250 to 499    </td><td>ATLAS PROFESSIONALS UK LIMITED                                         </td><td>False</td><td>2023/04/05 00:00:00</td><td>2022/06/13 14:56:19</td></tr>\n",
              "\t<tr><td>ATTIGO ACADEMY TRUST                                                   </td><td>19104</td><td>Worcesters Primary School, Goat Lane, Enfield, United Kingdom, EN1 4UF                                        </td><td>EN1 4UF </td><td>11420376</td><td>85200,\n",
              "85310                </td><td> 16.9</td><td> 40.9</td><td>    NA</td><td>   NA</td><td>⋯</td><td>84.3</td><td>14.1</td><td>85.9</td><td>https://www.attigoacademytrust.co.uk/                                                                                                       </td><td>Wendy Ochs (CFO/COO)                                </td><td>250 to 499    </td><td>ATTIGO ACADEMY TRUST                                                   </td><td>False</td><td>2023/04/05 00:00:00</td><td>2022/10/20 21:18:11</td></tr>\n",
              "\t<tr><td>AUTISM INITIATIVES (UK)                                                </td><td> 1601</td><td>Sefton House, Bridle Road, Bootle, Merseyside, England, L30 4XR                                               </td><td>L30 4XR </td><td>02436777</td><td>85200,\n",
              "85310,\n",
              "87300,\n",
              "88990</td><td> -1.7</td><td>  0.0</td><td>    NA</td><td>   NA</td><td>⋯</td><td>60.9</td><td>36.1</td><td>63.9</td><td>https://www.autisminitiatives.org                                                                                                           </td><td>Andrew Grainger (Chief Executive)                   </td><td>1000 to 4999  </td><td>AUTISM INITIATIVES (UK)                                                </td><td>False</td><td>2023/04/05 00:00:00</td><td>2022/09/22 11:00:08</td></tr>\n",
              "\t<tr><td>AUTODESK LIMITED                                                       </td><td> 1608</td><td>Talbot Way, Small Heath Business Park, Birmingham, England, B10 0HJ                                           </td><td>B10 0HJ </td><td>01839239</td><td>62012                        </td><td> 22.0</td><td> 29.1</td><td>  26.5</td><td> 45.5</td><td>⋯</td><td>14.7</td><td>83.2</td><td>16.8</td><td>                                                                                                                                            </td><td>Lisa Holroyd (Manager, People Services)             </td><td>500 to 999    </td><td>AUTODESK LIMITED                                                       </td><td>False</td><td>2023/04/05 00:00:00</td><td>2022/09/21 15:20:54</td></tr>\n",
              "\t<tr><td>AVIAGEN LIMITED                                                        </td><td> 1638</td><td>Stratford Hatchery Alscott Industrial Estate, Atherstone On Stour, Stratford-Upon-Avon, Warwickshire, CV37 8BH</td><td>CV37 8BH</td><td>01610943</td><td>1470                         </td><td> 13.4</td><td>  0.1</td><td>  50.0</td><td> 11.8</td><td>⋯</td><td>24.5</td><td>77.8</td><td>22.2</td><td>                                                                                                                                            </td><td>Debbie Watson (Head of HR)                          </td><td>250 to 499    </td><td>AVIAGEN LIMITED                                                        </td><td>False</td><td>2023/04/05 00:00:00</td><td>2022/06/30 11:28:48</td></tr>\n",
              "\t<tr><td>AVIAGEN UK LIMITED                                                     </td><td> 1639</td><td>AVIAGEN LTD, 11 Lochend Road, Ratho Station, Newbridge, Midlothian, EH28 8SZ                                  </td><td>EH28 8SZ</td><td>SC065463</td><td>1470                         </td><td> 13.4</td><td>  5.3</td><td>  32.2</td><td> 12.0</td><td>⋯</td><td>38.6</td><td>69.9</td><td>30.1</td><td>                                                                                                                                            </td><td>Debbie Watson (Head of HR)                          </td><td>250 to 499    </td><td>AVIAGEN UK LIMITED                                                     </td><td>False</td><td>2023/04/05 00:00:00</td><td>2022/06/30 11:30:44</td></tr>\n",
              "\t<tr><td>AVIOS GROUP (AGL) LIMITED                                              </td><td> 1640</td><td>Waterside (Hea3), PO BOX 365, Harmondsworth, United Kingdom, UB7 0GB                                          </td><td>UB7 0GB </td><td>02260073</td><td>82990                        </td><td> 22.0</td><td> 22.0</td><td>  34.0</td><td> 19.0</td><td>⋯</td><td>76.0</td><td>64.0</td><td>36.0</td><td>https://25102283.fs1.hubspotusercontent-eu1.net/hubfs/25102283/Website%20Assets/Downloads/Gender-Pay-Gap-report-2022-FINAL%20(1).pdf        </td><td>Helen Miller (Chief People Officer)                 </td><td>250 to 499    </td><td>AVIOS GROUP (AGL) LIMITED                                              </td><td>False</td><td>2023/04/05 00:00:00</td><td>2022/10/12 10:29:22</td></tr>\n",
              "\t<tr><td>Bank of England                                                        </td><td>14475</td><td>Threadneedle Street, London, EC2R 8AH                                                                         </td><td>EC2R 8AH</td><td>        </td><td>1,\n",
              "84110                    </td><td> 18.5</td><td> 20.1</td><td>  23.1</td><td> 24.8</td><td>⋯</td><td>40.0</td><td>67.0</td><td>33.0</td><td>https://www.bankofengland.co.uk/annual-report/2022                                                                                          </td><td>                                                    </td><td>1000 to 4999  </td><td>Bank of England                                                        </td><td>False</td><td>2023/03/31 00:00:00</td><td>2022/06/23 17:12:15</td></tr>\n",
              "\t<tr><td>BARKER CARE LIMITED                                                    </td><td> 1818</td><td>Mortimer House, Clifton Down Road, Bristol, England, BS8 4AE                                                  </td><td>BS8 4AE </td><td>01385930</td><td>86102                        </td><td> -7.5</td><td>  0.0</td><td>    NA</td><td>   NA</td><td>⋯</td><td>66.3</td><td>47.0</td><td>53.0</td><td>https://cedarcarehomes.co.uk/gender-pay-gap-2022/                                                                                           </td><td>Ganesh Gudka (Chief Finance Officer)                </td><td>250 to 499    </td><td>BARKER CARE LIMITED                                                    </td><td>False</td><td>2023/04/05 00:00:00</td><td>2022/06/06 17:08:32</td></tr>\n",
              "\t<tr><td><span style=white-space:pre-wrap>Barking &amp; Dagenham College                                             </span></td><td> 1819</td><td><span style=white-space:pre-wrap>Dagenham Road, Romford, Essex, United Kingdom, RM7 0XU                                                        </span></td><td>RM7 0XU </td><td><span style=white-space:pre-wrap>        </span></td><td><span style=white-space:pre-wrap>1,\n",
              "85320                    </span></td><td><span style=white-space:pre-wrap>  4.5</span></td><td><span style=white-space:pre-wrap>  9.9</span></td><td><span style=white-space:pre-wrap>   6.9</span></td><td>-15.2</td><td>⋯</td><td>54.0</td><td>44.0</td><td>56.0</td><td><span style=white-space:pre-wrap>http://www.barkingdagenhamcollege.ac.uk                                                                                                     </span></td><td><span style=white-space:pre-wrap>                                                    </span></td><td><span style=white-space:pre-wrap>250 to 499    </span></td><td><span style=white-space:pre-wrap>Barking &amp; Dagenham College                                             </span></td><td>False</td><td>2023/03/31 00:00:00</td><td>2022/09/28 15:21:29</td></tr>\n",
              "\t<tr><td>⋮</td><td>⋮</td><td>⋮</td><td>⋮</td><td>⋮</td><td>⋮</td><td>⋮</td><td>⋮</td><td>⋮</td><td>⋮</td><td>⋱</td><td>⋮</td><td>⋮</td><td>⋮</td><td>⋮</td><td>⋮</td><td>⋮</td><td>⋮</td><td>⋮</td><td>⋮</td><td>⋮</td></tr>\n",
              "\t<tr><td>THE TWO COUNTIES TRUST                          </td><td>12611</td><td>Ashfield School, Sutton Road, Kirby In Ashfield, Nottinghamshire, NG17 8HP                    </td><td>NG17 8HP</td><td>07972029</td><td>85310                        </td><td> 21.8</td><td> 44.8</td><td>   NA</td><td>   NA</td><td>⋯</td><td>68.0</td><td>42.0</td><td>58.0</td><td>https://www.ttct.co.uk/                                                                          </td><td>                                                   </td><td>1000 to 4999  </td><td>THE TWO COUNTIES TRUST                          </td><td>False</td><td>2023/03/31 00:00:00</td><td>2022/08/26 09:45:34</td></tr>\n",
              "\t<tr><td>The Weald School                                </td><td>18680</td><td>Station Road, Billingshurst, West Sussex, RH14 9RY                                            </td><td>RH14 9RY</td><td>        </td><td>1,\n",
              "85310                    </td><td>  8.4</td><td>  3.8</td><td>   NA</td><td>   NA</td><td>⋯</td><td>76.3</td><td>32.3</td><td>67.7</td><td>https://www.theweald.org.uk/abouttheweald                                                        </td><td>                                                   </td><td>250 to 499    </td><td>The Weald School                                </td><td>False</td><td>2023/03/31 00:00:00</td><td>2022/08/19 13:40:11</td></tr>\n",
              "\t<tr><td>THWAITES ENGINEERING CO LIMITED                 </td><td>21483</td><td>Welsh Road, Cubbington, Leamington Spa, Warwickshire, CV32 7NQ                                </td><td>CV32 7NQ</td><td>01569491</td><td>                             </td><td>  5.0</td><td>  8.5</td><td> 19.1</td><td>  0.0</td><td>⋯</td><td> 2.0</td><td>92.0</td><td> 8.0</td><td>                                                                                                 </td><td>Simon Hill (Managing Director)                     </td><td>250 to 499    </td><td>THWAITES ENGINEERING CO LIMITED                 </td><td>False</td><td>2023/04/05 00:00:00</td><td>2022/05/23 10:21:33</td></tr>\n",
              "\t<tr><td>THWAITES LIMITED                                </td><td>21487</td><td>Welsh Road, Cubbington, Leamington Spa, Warwickshire, CV32 7NQ                                </td><td>CV32 7NQ</td><td>00387579</td><td>28220                        </td><td>  5.0</td><td>  8.5</td><td> 19.1</td><td>  0.0</td><td>⋯</td><td> 2.0</td><td>92.0</td><td> 8.0</td><td>https://thwaitesdumpers.co.uk/company/policies/gender-pay-report/                                </td><td>Simon Hill (Managing Director)                     </td><td>250 to 499    </td><td>THWAITES LIMITED                                </td><td>False</td><td>2023/04/05 00:00:00</td><td>2022/05/27 08:51:00</td></tr>\n",
              "\t<tr><td>TILDA LIMITED                                   </td><td>17835</td><td>Coldharbour Lane, Rainham, Essex, RM13 9YQ                                                    </td><td>RM13 9YQ</td><td>00990202</td><td>10611                        </td><td> 12.6</td><td>  6.9</td><td> 11.4</td><td>  1.0</td><td>⋯</td><td>18.3</td><td>71.7</td><td>28.3</td><td>                                                                                                 </td><td>Jean-Philippe Laborde (Managing Director)          </td><td>250 to 499    </td><td>TILDA LIMITED                                   </td><td>False</td><td>2023/04/05 00:00:00</td><td>2022/04/05 21:01:12</td></tr>\n",
              "\t<tr><td>TPXIMPACT LIMITED                               </td><td>21519</td><td>20 St Thomas Street, Runway East (Second Floor), London, United Kingdom, SE1 9RG              </td><td>SE1 9RG </td><td>06472420</td><td>70229                        </td><td> 18.7</td><td> 18.5</td><td>   NA</td><td>   NA</td><td>⋯</td><td>42.0</td><td>63.0</td><td>37.0</td><td>                                                                                                 </td><td>Bryony Wilde (Purpose Director)                    </td><td>250 to 499    </td><td>TPXIMPACT LIMITED                               </td><td>False</td><td>2023/04/05 00:00:00</td><td>2022/08/17 14:34:06</td></tr>\n",
              "\t<tr><td>Transport for Wales Group                       </td><td>21296</td><td>3 Llys Cadwyn, Pontypridd, Rhondda Cynon Taff, CF37 4TH                                       </td><td>CF37 4TH</td><td>        </td><td>                             </td><td> 19.1</td><td> 32.8</td><td> 30.3</td><td>-83.1</td><td>⋯</td><td>35.0</td><td>76.0</td><td>24.0</td><td>                                                                                                 </td><td>                                                   </td><td>500 to 999    </td><td>Transport for Wales Group                       </td><td>False</td><td>2023/03/31 00:00:00</td><td>2022/10/18 10:44:07</td></tr>\n",
              "\t<tr><td>TRINITY HOSPICE AND PALLIATIVE CARE SERVICES LTD</td><td>19678</td><td>Trinity Hospice, Low Moor Road, Bispham, Blackpool, FY2 0BG                                   </td><td>FY2 0BG </td><td>01537498</td><td>86101,\n",
              "86220                </td><td> -4.5</td><td>-20.3</td><td> 50.0</td><td> 50.0</td><td>⋯</td><td>90.0</td><td>16.4</td><td>83.6</td><td>https://www.trinityhospice.co.uk/app/uploads/2022/09/2208-Gender-Pay-Gap-2021-2022.pdf           </td><td>Martin Clapperton (Interim Finance Director)       </td><td>250 to 499    </td><td>TRINITY HOSPICE AND PALLIATIVE CARE SERVICES LTD</td><td>False</td><td>2023/04/05 00:00:00</td><td>2022/09/01 10:54:04</td></tr>\n",
              "\t<tr><td><span style=white-space:pre-wrap>TUV SUD LIMITED                                 </span></td><td>13032</td><td><span style=white-space:pre-wrap>Napier Building, Scottish, Enterprise Technology Park, East Kilbride, Glasgow, G75 0QF        </span></td><td>G75 0QF </td><td>SC215164</td><td><span style=white-space:pre-wrap>74909                        </span></td><td> 20.8</td><td> 24.6</td><td> -3.2</td><td><span style=white-space:pre-wrap>  0.0</span></td><td>⋯</td><td>21.8</td><td>83.9</td><td>16.1</td><td><span style=white-space:pre-wrap>                                                                                                 </span></td><td><span style=white-space:pre-wrap>Christopher Guy (CEO, UK &amp; Ireland)                </span></td><td><span style=white-space:pre-wrap>250 to 499    </span></td><td><span style=white-space:pre-wrap>TUV SUD LIMITED                                 </span></td><td>False</td><td>2023/04/05 00:00:00</td><td>2022/08/01 14:32:04</td></tr>\n",
              "\t<tr><td>TWO SAINTS LIMITED                              </td><td>21516</td><td>                                                                                              </td><td>        </td><td>IP26511R</td><td>                             </td><td> -7.0</td><td> -8.6</td><td>  3.3</td><td> -5.7</td><td>⋯</td><td>72.3</td><td>22.0</td><td>78.0</td><td>                                                                                                 </td><td>Dawn Gold (HR Manager)                             </td><td>250 to 499    </td><td>TWO SAINTS LIMITED                              </td><td>False</td><td>2023/04/05 00:00:00</td><td>2022/10/05 16:13:40</td></tr>\n",
              "\t<tr><td>UK-NSI CO. LIMITED                              </td><td>13081</td><td>Merse Road North Moons Moat, Redditch, Worcestershire, B98 9HL                                </td><td>B98 9HL </td><td>02141243</td><td>29320                        </td><td> 19.2</td><td> 12.0</td><td>   NA</td><td>   NA</td><td>⋯</td><td>17.0</td><td>82.0</td><td>18.0</td><td>https://www.uk-nsi.co.uk/                                                                        </td><td>Victoria Powles (HR Operations Manager)            </td><td>Less than 250 </td><td>UK-NSI CO. LIMITED                              </td><td>False</td><td>2023/04/05 00:00:00</td><td>2022/04/21 11:56:48</td></tr>\n",
              "\t<tr><td>UKTV MEDIA LIMITED                              </td><td>13085</td><td>10 Hammersmith Grove, London, W6 7AP                                                          </td><td>W6 7AP  </td><td>04266373</td><td>60200                        </td><td> 16.1</td><td> 20.7</td><td>-33.3</td><td>-33.0</td><td>⋯</td><td>47.1</td><td>55.7</td><td>44.3</td><td>https://uktv-static.s3.amazonaws.com/fgprod/corporate/corporate_downloads/pay-gap-report-2022.pdf</td><td>Marcus Arthur (CEO)                                </td><td>250 to 499    </td><td>UKTV MEDIA LIMITED                              </td><td>False</td><td>2023/04/05 00:00:00</td><td>2022/07/13 18:44:18</td></tr>\n",
              "\t<tr><td>UL VS LIMITED                                   </td><td>20940</td><td>Unit 1-3 Horizon Wade Road, Kingsland Business Park, Basingstoke, Hampshire, England, RG24 8AH</td><td>RG24 8AH</td><td>02117901</td><td>71200                        </td><td> 10.5</td><td> 12.1</td><td> 18.8</td><td> 19.2</td><td>⋯</td><td>22.0</td><td>83.0</td><td>17.0</td><td>                                                                                                 </td><td>Gitte Schjotz (Director of UL VS Ltd)              </td><td>250 to 499    </td><td>UL VS LIMITED                                   </td><td>False</td><td>2023/04/05 00:00:00</td><td>2022/09/06 04:53:25</td></tr>\n",
              "\t<tr><td>UMBRELLA CONTRACTS LIMITED                      </td><td>18587</td><td>Mossknowe Steading Kirkpatrick Fleming, Nr Gretna, Lockerbie, Dumfriesshire, DG11 3BG         </td><td>DG11 3BG</td><td>SC192044</td><td>70229                        </td><td> 22.0</td><td>  0.0</td><td>   NA</td><td>   NA</td><td>⋯</td><td>26.0</td><td>68.0</td><td>32.0</td><td>https://paygap@equalityhumanrights.com                                                           </td><td>Helen Little (Finance Director)                    </td><td>250 to 499    </td><td>UMBRELLA CONTRACTS LIMITED                      </td><td>False</td><td>2023/04/05 00:00:00</td><td>2022/09/06 11:55:44</td></tr>\n",
              "\t<tr><td>University of the Arts, London                  </td><td>  192</td><td>272 High Holborn, London, London, United Kingdom, WC1V 7EY                                    </td><td>WC1V 7EY</td><td>        </td><td>1,\n",
              "85421                    </td><td>  0.0</td><td>  2.4</td><td>   NA</td><td>   NA</td><td>⋯</td><td>56.2</td><td>38.9</td><td>61.1</td><td>https://www.arts.ac.uk/about-ual/public-information/equality-objectives-and-reports              </td><td>                                                   </td><td>5000 to 19,999</td><td>University of the Arts, London                  </td><td>False</td><td>2023/03/31 00:00:00</td><td>2022/04/25 14:51:18</td></tr>\n",
              "\t<tr><td>Vale of Glamorgan Council                       </td><td>17954</td><td>Civic Offices, Holton Road, Barry, CF63 4RU                                                   </td><td>CF63 4RU</td><td>        </td><td>1,\n",
              "84110                    </td><td>  4.7</td><td>  5.7</td><td>   NA</td><td>   NA</td><td>⋯</td><td>66.0</td><td>36.0</td><td>64.0</td><td>                                                                                                 </td><td>                                                   </td><td>1000 to 4999  </td><td>Vale of Glamorgan Council                       </td><td>False</td><td>2023/03/31 00:00:00</td><td>2022/09/14 12:21:53</td></tr>\n",
              "\t<tr><td>VEGNER GROUP LIMITED                            </td><td>  391</td><td>9-11 The Quadrant, Richmond, Surrey, TW9 1BP                                                  </td><td>TW9 1BP </td><td>05728008</td><td>70100                        </td><td> 11.5</td><td>  5.7</td><td> 14.9</td><td>  5.9</td><td>⋯</td><td>53.0</td><td>64.0</td><td>36.0</td><td>https://vegnergroup.com/equal-opportunities/                                                     </td><td>Richard Scott (HR Director)                        </td><td>500 to 999    </td><td>VEGNER GROUP LIMITED                            </td><td>False</td><td>2023/04/05 00:00:00</td><td>2022/08/23 12:58:28</td></tr>\n",
              "\t<tr><td>VENTRICA LTD                                    </td><td>17545</td><td>4th Floor Tylers House, Tylers Avenue, Southend-On-Sea, Essex, SS1 2BB                        </td><td>SS1 2BB </td><td>06908560</td><td>82200                        </td><td> 18.1</td><td>  0.0</td><td> 59.3</td><td> 28.9</td><td>⋯</td><td>58.6</td><td>42.3</td><td>57.7</td><td>                                                                                                 </td><td>Stephen West (Chief Operating Officer)             </td><td>500 to 999    </td><td>VENTRICA LTD                                    </td><td>False</td><td>2023/04/05 00:00:00</td><td>2022/04/06 13:01:37</td></tr>\n",
              "\t<tr><td>VIVID HOUSING LIMITED                           </td><td>18325</td><td>HR Department, Peninsular House, Wharf Rd, Portsmouth, PO2 8HB                                </td><td>PO2 8HB </td><td>RS007544</td><td>                             </td><td>  2.9</td><td>  0.9</td><td> 32.5</td><td> 25.6</td><td>⋯</td><td>45.9</td><td>59.1</td><td>40.9</td><td>https://www.vividhomes.co.uk/about-us/transparency                                               </td><td>Duncan Short (Director of Resources)               </td><td>500 to 999    </td><td>VIVID HOUSING LIMITED                           </td><td>False</td><td>2023/04/05 00:00:00</td><td>2022/10/06 15:14:14</td></tr>\n",
              "\t<tr><td>VOYAGE 1 LIMITED                                </td><td>15600</td><td>Voyage Care Wall Island, Birmingham Road, Lichfield, Staffordshire, WS14 0QP                  </td><td>WS14 0QP</td><td>02215899</td><td>87200,\n",
              "88100                </td><td>  3.6</td><td>  0.4</td><td> 56.9</td><td>  0.0</td><td>⋯</td><td>75.0</td><td>25.0</td><td>75.0</td><td>http://www.voyagecare.com                                                                        </td><td>Laura Jordan (Legal Director and Company Secretary)</td><td>5000 to 19,999</td><td>VOYAGE 1 LIMITED                                </td><td>False</td><td>2023/04/05 00:00:00</td><td>2022/10/06 12:02:43</td></tr>\n",
              "\t<tr><td><span style=white-space:pre-wrap>W. LIDDY &amp; COMPANY LIMITED                      </span></td><td>13424</td><td><span style=white-space:pre-wrap>Unit 28 Apex Business Village, Cramlington, Northumberland, NE23 7BF                          </span></td><td>NE23 7BF</td><td>02860364</td><td><span style=white-space:pre-wrap>56102                        </span></td><td><span style=white-space:pre-wrap>  7.2</span></td><td><span style=white-space:pre-wrap>  0.3</span></td><td><span style=white-space:pre-wrap>  2.5</span></td><td><span style=white-space:pre-wrap>  2.9</span></td><td>⋯</td><td>42.0</td><td>54.6</td><td>45.4</td><td><span style=white-space:pre-wrap>                                                                                                 </span></td><td><span style=white-space:pre-wrap>SARA DAVIS (PAYROLL MANAGER)                       </span></td><td><span style=white-space:pre-wrap>500 to 999    </span></td><td><span style=white-space:pre-wrap>W. LIDDY &amp; COMPANY LIMITED                      </span></td><td>False</td><td>2023/04/05 00:00:00</td><td>2022/05/10 10:52:44</td></tr>\n",
              "\t<tr><td>WALLICH-CLIFFORD COMMUNITY                      </td><td>13465</td><td>The Wallich - Cardiff Hub, 18 Park Place, Cardiff, Wales, CF10 3DQ                            </td><td>CF10 3DQ</td><td>02642780</td><td>87200,\n",
              "88990                </td><td>  4.0</td><td>  0.0</td><td>  4.1</td><td>  0.0</td><td>⋯</td><td>63.7</td><td>38.0</td><td>62.0</td><td>https://thewallich.com/gender-pay-gap/                                                           </td><td>Lindsay Cordery-Bruce (Chief Executive Officer)    </td><td>250 to 499    </td><td>WALLICH-CLIFFORD COMMUNITY                      </td><td>False</td><td>2023/04/05 00:00:00</td><td>2022/07/04 13:56:12</td></tr>\n",
              "\t<tr><td>WELLS CATHEDRAL SCHOOL, LIMITED                 </td><td>13591</td><td>The Bursary, Wells Cathedral School, College Road, Wells, Somerset, BA5 2SX                   </td><td>BA5 2SX </td><td>00564883</td><td>85100,\n",
              "85200,\n",
              "85310,\n",
              "85520</td><td> 30.0</td><td> 57.0</td><td>   NA</td><td>   NA</td><td>⋯</td><td>63.0</td><td>42.0</td><td>58.0</td><td>                                                                                                 </td><td>Bethan Drake (PA to the Bursar)                    </td><td>250 to 499    </td><td>WELLS CATHEDRAL SCHOOL, LIMITED                 </td><td>False</td><td>2023/04/05 00:00:00</td><td>2022/05/17 11:24:01</td></tr>\n",
              "\t<tr><td>WESSEX EAGLE LIMITED                            </td><td>15245</td><td>Eagle Plant, Beeching Close, Chard, Somerset, TA20 1BB                                        </td><td>TA20 1BB</td><td>01540286</td><td>77320                        </td><td> 10.8</td><td>  9.2</td><td> 30.7</td><td> 31.8</td><td>⋯</td><td> 2.0</td><td>94.0</td><td> 6.0</td><td>                                                                                                 </td><td>Gary Parfoot (Director)                            </td><td>250 to 499    </td><td>WESSEX EAGLE LIMITED                            </td><td>False</td><td>2023/04/05 00:00:00</td><td>2022/04/08 14:37:21</td></tr>\n",
              "\t<tr><td>West Bromwich Building Society                  </td><td>16108</td><td>2 Providence Place, West Bromwich, West Midlands, B708AF                                      </td><td>B708AF  </td><td>        </td><td>64192                        </td><td> 39.1</td><td> 35.2</td><td> 75.8</td><td> 43.4</td><td>⋯</td><td>57.7</td><td>63.8</td><td>36.2</td><td>https://www.westbrom.co.uk/about-us/corporate-governance/gender-pay-reporting                    </td><td>Sophie Pazzaglia (Divisional Director HR)          </td><td>500 to 999    </td><td>West Bromwich Building Society                  </td><td>False</td><td>2023/04/05 00:00:00</td><td>2022/08/23 14:45:42</td></tr>\n",
              "\t<tr><td>WILLIAMS MOTOR CO.(HOLDINGS)LIMITED             </td><td>13803</td><td>2 Vincent Way, Raikes Lane, Bolton, BL3 2NB                                                   </td><td>BL3 2NB </td><td>00597708</td><td>45111,\n",
              "45112,\n",
              "45200,\n",
              "45320</td><td> 21.5</td><td> 23.0</td><td> 53.1</td><td> 78.9</td><td>⋯</td><td>11.0</td><td>92.0</td><td> 8.0</td><td>                                                                                                 </td><td>Andrew Seymour (Group Accountant)                  </td><td>500 to 999    </td><td>WILLIAMS MOTOR CO.(HOLDINGS)LIMITED             </td><td>False</td><td>2023/04/05 00:00:00</td><td>2022/08/02 17:30:00</td></tr>\n",
              "\t<tr><td><span style=white-space:pre-wrap>WINN SOLICITORS LIMITED                         </span></td><td>13839</td><td><span style=white-space:pre-wrap>Winn Solicitors, Brinkburn, Street, Byker, Newcastle Upon Tyne, Tyne &amp; Wear, NE6 1PL          </span></td><td>NE6 1PL </td><td>05084463</td><td><span style=white-space:pre-wrap>69102                        </span></td><td> 19.5</td><td><span style=white-space:pre-wrap>  3.7</span></td><td> 47.5</td><td> 35.0</td><td>⋯</td><td>56.6</td><td>51.3</td><td>48.7</td><td><span style=white-space:pre-wrap>https://winngroup.co.uk/working-at-winn-group/#equal-opportunities                               </span></td><td><span style=white-space:pre-wrap>Colette Gardner (Group Head of HR)                 </span></td><td><span style=white-space:pre-wrap>250 to 499    </span></td><td><span style=white-space:pre-wrap>WINN SOLICITORS LIMITED                         </span></td><td>False</td><td>2023/04/05 00:00:00</td><td>2022/10/19 14:01:38</td></tr>\n",
              "\t<tr><td>Worcester City Council                          </td><td>15444</td><td>High Street, Worcester, WR1 2EY                                                               </td><td>WR1 2EY </td><td>        </td><td>1,\n",
              "84110                    </td><td> -1.3</td><td> -6.1</td><td>   NA</td><td>   NA</td><td>⋯</td><td>57.0</td><td>42.5</td><td>57.5</td><td>https://www.worcester.gov.uk/jobs-careers/equality-inclusion                                     </td><td>                                                   </td><td>250 to 499    </td><td>Worcester City Council                          </td><td>False</td><td>2023/03/31 00:00:00</td><td>2022/07/07 15:43:10</td></tr>\n",
              "\t<tr><td><span style=white-space:pre-wrap>YOUR HOMES NEWCASTLE LIMITED                    </span></td><td>14040</td><td><span style=white-space:pre-wrap>Civic Centre, Barras Bridge, Newcastle Upon Tyne, Tyne &amp; Wear, NE1 8PR                        </span></td><td>NE1 8PR </td><td>05076256</td><td><span style=white-space:pre-wrap>68201                        </span></td><td> -3.7</td><td>-11.4</td><td><span style=white-space:pre-wrap>   NA</span></td><td><span style=white-space:pre-wrap>   NA</span></td><td>⋯</td><td>70.5</td><td>45.9</td><td>54.1</td><td><span style=white-space:pre-wrap>                                                                                                 </span></td><td><span style=white-space:pre-wrap>Tina Drury (YHN Managing Director)                 </span></td><td><span style=white-space:pre-wrap>500 to 999    </span></td><td><span style=white-space:pre-wrap>YOUR HOMES NEWCASTLE LIMITED                    </span></td><td>False</td><td>2023/04/05 00:00:00</td><td>2022/06/17 09:02:43</td></tr>\n",
              "\t<tr><td>YOUR LEISURE KENT LIMITED                       </td><td>14105</td><td>Northdown House, Northdown Park Road, Margate, CT9 3TP                                        </td><td>CT9 3TP </td><td>IP28889R</td><td>                             </td><td>-14.9</td><td>  9.6</td><td>   NA</td><td>   NA</td><td>⋯</td><td>51.7</td><td>28.3</td><td>71.7</td><td>https://yourleisure.uk.com/                                                                      </td><td>Debbie Barker (Head of HR)                         </td><td>Less than 250 </td><td>YOUR LEISURE KENT LIMITED                       </td><td>False</td><td>2023/04/05 00:00:00</td><td>2022/09/26 12:12:53</td></tr>\n",
              "</tbody>\n",
              "</table>\n"
            ],
            "text/markdown": "\nA data.frame: 331 × 27\n\n| EmployerName &lt;chr&gt; | EmployerId &lt;int&gt; | Location &lt;chr&gt; | ZipCode &lt;chr&gt; | CompanyID &lt;chr&gt; | SicCodes &lt;chr&gt; | DiffMeanHourlyPercent &lt;dbl&gt; | DiffMedianHourlyPercent &lt;dbl&gt; | DiffMeanBonusPercent &lt;dbl&gt; | DiffMedianBonusPercent &lt;dbl&gt; | ⋯ ⋯ | FemaleUpperMiddleQuartile &lt;dbl&gt; | MaleTopQuartile &lt;dbl&gt; | FemaleTopQuartile &lt;dbl&gt; | CompanyLinkToGPGInfo &lt;chr&gt; | ResponsiblePerson &lt;chr&gt; | EmployerSize &lt;chr&gt; | CurrentName &lt;chr&gt; | SubmittedAfterTheDeadline &lt;chr&gt; | DueDate &lt;chr&gt; | DateSubmitted &lt;chr&gt; |\n|---|---|---|---|---|---|---|---|---|---|---|---|---|---|---|---|---|---|---|---|---|\n| A.J.N. STEELSTOCK LTD.                                                  | 14835 | Icknield Way, Kentford, Newmarket, Suffolk, CB8 7QT                                                            | CB8 7QT  | 00689647 | 46720                         |  16.2 |   3.3 |  -20.0 |   0.0 | ⋯ | 10.8 | 87.1 | 12.9 | https://www.ajnsteelstock.co.uk/wp-content/uploads/2022/10/2022-Gender-Pay-Gap-Report.pdf                                                    | Courtney Bell (FD)                                   | 250 to 499     | A.J.N. STEELSTOCK LTD.                                                  | False | 2023/04/05 00:00:00 | 2022/10/11 15:34:17 |\n| AB WORLD FOODS LIMITED                                                  |   764 | Weston Centre, 10 Grosvenor Street, London, W1K 4QY                                                            | W1K 4QY  | 01400901 | 10890                         |  -8.6 | -12.3 |   10.3 | -20.8 | ⋯ | 33.7 | 44.6 | 55.4 | https://abworldfoods.com/documents/ABWF_Gender_Pay_Gap_Narrative_2022.pdf                                                                    | Andy Mayhew (Managing Director)                      | 250 to 499     | AB WORLD FOODS LIMITED                                                  | False | 2023/04/05 00:00:00 | 2022/09/30 09:45:25 |\n| ABACUS EMPLOYMENT SERVICES LIMITED                                      |   767 | 1 Chequers Road, Basingstoke, Hampshire, England, RG21 7PU                                                     | RG21 7PU | 02638307 | 78200                         |  -3.0 |   3.2 |     NA |    NA | ⋯ | 21.5 | 80.9 | 19.1 | http://www.abacus-employment.com                                                                                                             | Phil James (Finance Manager)                         | 250 to 499     | ABACUS EMPLOYMENT SERVICES LIMITED                                      | False | 2023/04/05 00:00:00 | 2022/04/13 14:57:04 |\n| Advisory, Conciliation and Arbitration Service                          |   496 | 8th Floor, Windsor House, 50 Victoria Street, London, London, United Kingdom, SW1H 0TL                         | SW1H 0TL | <!----> | 1,\n84110                     |   7.2 |   6.1 |   19.4 |   9.9 | ⋯ | 63.2 | 51.8 | 48.2 | https://www.acas.org.uk/acas-gender-pay-report/2021-to-2022-report                                                                           | <!----> | 1000 to 4999   | Advisory, Conciliation and Arbitration Service                          | False | 2023/03/31 00:00:00 | 2022/08/01 13:15:17 |\n| AFH INDEPENDENT FINANCIAL SERVICES LIMITED                              | 19364 | Afh House Buntsford Drive, Stoke Heath, Bromsgrove, Worcestershire, B60 4JE                                    | B60 4JE  | 04049180 | 64999                         |  25.0 |  32.0 |  -33.0 |  69.0 | ⋯ | 59.0 | 60.0 | 40.0 | <!----> | Alison Court (Senior HR Adviser)                     | 500 to 999     | AFH INDEPENDENT FINANCIAL SERVICES LIMITED                              | False | 2023/04/05 00:00:00 | 2022/05/20 11:24:09 |\n| AGE UK NORTHUMBERLAND                                                   | 19713 | The Round House, Lintonville Parkway, Ashington, Northumberland, NE63 9JZ                                      | NE63 9JZ | 03639406 | 88100                         |  -3.8 |   0.0 |     NA |    NA | ⋯ | 79.0 | 27.0 | 73.0 | https://www.ageuk.org.uk/northumberland/about-us/join-us/                                                                                    | Sarah Turner (Head of Finance)                       | 250 to 499     | AGE UK NORTHUMBERLAND                                                   | False | 2023/04/05 00:00:00 | 2022/09/26 08:29:12 |\n| All Saints Catholic Academy Trust                                       | 20895 | c/o St Joan of Arc Catholic School, High Street, Rickmansworth, Hertfordshire, United Kingdom, WD3 1HG         | WD3 1HG  | <!----> | <!----> |  25.0 |  49.0 |     NA |    NA | ⋯ | 74.0 | 26.0 | 74.0 | http://ascatonline.co.uk                                                                                                                     | <!----> | 250 to 499     | All Saints Catholic Academy Trust                                       | False | 2023/03/31 00:00:00 | 2022/07/05 10:48:22 |\n| Allerdale Borough Council                                               | 17194 | Allerdale House, Workington, CA14 3YJ                                                                          | CA14 3YJ | <!----> | 1,\n84110                     |   9.5 |  17.0 |     NA |    NA | ⋯ | 67.0 | 50.0 | 50.0 | https://www.allerdale.gov.uk/en/about-council/equality-duty/                                                                                 | <!----> | Less than 250  | Allerdale Borough Council                                               | False | 2023/03/31 00:00:00 | 2022/06/13 16:13:15 |\n| ALTRAD EMPLOYMENT SERVICES LIMITED                                      | 21061 | Building 2, Fields End Business Park Davey Road, Thurnscoe, Goldthorpe, Rotherham, England, S63 0JF            | S63 0JF  | 11631174 | 78300                         |  15.0 |  25.0 |   -1.0 | -23.0 | ⋯ |  0.6 | 96.7 |  3.3 | <!----> | Padraig Somers (CEO - UK &amp; Nordics)                  | 5000 to 19,999 | ALTRAD EMPLOYMENT SERVICES LIMITED                                      | False | 2023/04/05 00:00:00 | 2022/05/11 14:11:25 |\n| ANGLIAN COUNTRY INNS LIMITED                                            | 17754 | Fox Barn, Willian, Letchworth Garden City, Hertfordshire, SG6 2AE                                              | SG6 2AE  | 03214479 | 56101,\n56302                 |   9.2 |   0.0 |   25.0 |  12.5 | ⋯ | 60.2 | 68.6 | 31.4 | https://www.acinns.co.uk                                                                                                                     | Susanne McGregor (Payroll Manager)                   | 250 to 499     | ANGLIAN COUNTRY INNS LIMITED                                            | False | 2023/04/05 00:00:00 | 2022/10/03 14:02:45 |\n| ANGLIAN WINDOWS LIMITED                                                 |  1286 | Liberator Road, Liberator Road, Norwich, England, NR6 6EU                                                      | NR6 6EU  | 02540020 | 43342                         |  15.0 |  12.9 |   53.6 |  77.0 | ⋯ | 21.5 | 87.0 | 13.0 | https://www.anglianhome.co.uk/legal/gender-pay-gap-reporting                                                                                 | Lisa Walsh (Group HR Director)                       | 1000 to 4999   | ANGLIAN WINDOWS LIMITED                                                 | False | 2023/04/05 00:00:00 | 2022/10/20 12:52:59 |\n| APPH LIMITED                                                            |  1337 | 8 Pembroke Court, Chancellor Road, Manor Park, Runcorn, WA7 1TG                                                | WA7 1TG  | 01972451 | 28120,\n30300                 |   3.6 |  -6.4 | -199.9 | -29.1 | ⋯ | 14.3 | 90.0 | 10.0 | http://apph.com                                                                                                                              | Julie Andrew (Human Resources Director)              | 250 to 499     | APPH LIMITED                                                            | False | 2023/04/05 00:00:00 | 2022/09/12 09:24:36 |\n| APPLUS UK LTD                                                           |  1343 | Block 2 Units C And D, West Mains Industrial Estate, Grangemouth, Stirlingshire, FK3 8YE                       | FK3 8YE  | SC236136 | 71200                         |  50.6 |  56.0 |   26.6 |   0.0 | ⋯ |  1.3 | 98.7 |  1.3 | <!----> | Evelyn Grogan (Head of HR)                           | 250 to 499     | APPLUS UK LTD                                                           | False | 2023/04/05 00:00:00 | 2022/04/05 09:00:52 |\n| ARC HOSPITALITY RECRUITMENT SOLUTIONS LTD                               | 17877 | 61a Bold Street, Liverpool, England, L1 4EZ                                                                    | L1 4EZ   | 06626815 | 78300                         |   1.9 |   1.2 |    1.9 |   0.0 | ⋯ | 51.0 | 40.0 | 60.0 | <!----> | Vicky Gardner (Head of Accounts)                     | 5000 to 19,999 | ARC HOSPITALITY RECRUITMENT SOLUTIONS LTD                               | False | 2023/04/05 00:00:00 | 2022/09/28 15:23:07 |\n| ARCHANT COMMUNITY MEDIA LIMITED                                         |  1374 | Loudwater Mill Station Road, Loudwater, High Wycombe, England, HP10 9TY                                        | HP10 9TY | 00019300 | 58130,\n58190                 |  14.5 |  15.8 |   21.8 |  31.2 | ⋯ | 51.1 | 52.0 | 48.0 | <!----> | Alison Rich (Director of HR)                         | 500 to 999     | ARCHANT COMMUNITY MEDIA LIMITED                                         | False | 2023/04/05 00:00:00 | 2022/06/17 08:37:11 |\n| ARDINGLY COLLEGE LIMITED                                                |  1390 | Ardingly College, College Road, Ardingly, Haywards Heath, West Sussex, RH17 6SQ                                | RH17 6SQ | 03779971 | 85200,\n85310,\n85590         |   5.6 |   1.3 |   13.0 |  20.8 | ⋯ | 62.5 | 44.2 | 55.8 | https://www.ardingly.com/staff-recruitment/gender-pay-gap/                                                                                   | Robert Haynes Brown (Chairman)                       | 250 to 499     | ARDINGLY COLLEGE LIMITED                                                | False | 2023/04/05 00:00:00 | 2022/08/12 12:56:19 |\n| ARENA EVENT SERVICES GROUP LIMITED                                      |  1393 | Needingworth Industrial Estate, Needingworth Road, St. Ives, England, PE27 4NB                                 | PE27 4NB | 04069053 | 93199                         |  22.9 |  21.8 |   88.9 |  70.8 | ⋯ | 12.9 | 88.5 | 11.5 | <!----> | Oxana Vladimirskaya (Group HR Manager - UK &amp; Europe) | 250 to 499     | ARENA EVENT SERVICES GROUP LIMITED                                      | False | 2023/04/05 00:00:00 | 2022/08/23 12:28:00 |\n| ARRK EUROPE LIMITED                                                     |    87 | Caldwell Road, Nuneaton, Warwickshire, CV11 4NG                                                                | CV11 4NG | 03418673 | 32990                         |  -1.8 |  12.9 |  -58.1 |   0.0 | ⋯ | 12.1 | 81.8 | 18.2 | https://www.arrkeurope.com/fileadmin/user_upload/Company/arrk-companys/arrk-europe-limited/ARRK_Europe_Ltd._Gender_Pay_Report_April_2022.pdf | Simon Holmes (Finance Director)                      | Less than 250  | ARRK EUROPE LIMITED                                                     | False | 2023/04/05 00:00:00 | 2022/05/04 15:52:35 |\n| ASPERS (STRATFORD CITY) LIMITED                                         |  1507 | 1 Hans Street, London, SW1X 0JD                                                                                | SW1X 0JD | 07246090 | 92000                         |  -1.6 |   0.0 |     NA |    NA | ⋯ | 31.0 | 65.0 | 35.0 | https://www.aspersstratford.co.uk/terms-conditions-policies.html#gender-pay-gap-report                                                       | Richard Noble (CEO)                                  | 500 to 999     | ASPERS (STRATFORD CITY) LIMITED                                         | False | 2023/04/05 00:00:00 | 2022/07/04 10:10:43 |\n| ASSOCIATION FOR SPINAL INJURY RESEARCH REHABILITATION AND REINTEGRATION | 21453 | 2nd Floor Regis House, 45 King William Street, London, United Kingdom, EC4R 9AN                                | EC4R 9AN | 03744357 | 86900,\n93110,\n93130         |   4.2 |  -7.3 |     NA |    NA | ⋯ | 82.0 | 41.0 | 59.0 | <!----> | Tasha Webster (Director of Operations)               | Less than 250  | ASSOCIATION FOR SPINAL INJURY RESEARCH REHABILITATION AND REINTEGRATION | False | 2023/04/05 00:00:00 | 2022/04/20 16:03:50 |\n| ATLAS PROFESSIONALS UK LIMITED                                          | 19368 | 10th Floor, Beacon Tower, Colston Street, Bristol, England, BS1 4XE                                            | BS1 4XE  | 05788965 | 78109                         | -10.0 |  16.0 |     NA |    NA | ⋯ |  1.0 | 97.0 |  3.0 | https://atlasprofessionals.com/static/files/Atlas%20Professionals%20UK%20Ltd%20Pay%20Gap%20Report%202021.pdf                                 | Matt Riding (Group Commercial Director)              | 250 to 499     | ATLAS PROFESSIONALS UK LIMITED                                          | False | 2023/04/05 00:00:00 | 2022/06/13 14:56:19 |\n| ATTIGO ACADEMY TRUST                                                    | 19104 | Worcesters Primary School, Goat Lane, Enfield, United Kingdom, EN1 4UF                                         | EN1 4UF  | 11420376 | 85200,\n85310                 |  16.9 |  40.9 |     NA |    NA | ⋯ | 84.3 | 14.1 | 85.9 | https://www.attigoacademytrust.co.uk/                                                                                                        | Wendy Ochs (CFO/COO)                                 | 250 to 499     | ATTIGO ACADEMY TRUST                                                    | False | 2023/04/05 00:00:00 | 2022/10/20 21:18:11 |\n| AUTISM INITIATIVES (UK)                                                 |  1601 | Sefton House, Bridle Road, Bootle, Merseyside, England, L30 4XR                                                | L30 4XR  | 02436777 | 85200,\n85310,\n87300,\n88990 |  -1.7 |   0.0 |     NA |    NA | ⋯ | 60.9 | 36.1 | 63.9 | https://www.autisminitiatives.org                                                                                                            | Andrew Grainger (Chief Executive)                    | 1000 to 4999   | AUTISM INITIATIVES (UK)                                                 | False | 2023/04/05 00:00:00 | 2022/09/22 11:00:08 |\n| AUTODESK LIMITED                                                        |  1608 | Talbot Way, Small Heath Business Park, Birmingham, England, B10 0HJ                                            | B10 0HJ  | 01839239 | 62012                         |  22.0 |  29.1 |   26.5 |  45.5 | ⋯ | 14.7 | 83.2 | 16.8 | <!----> | Lisa Holroyd (Manager, People Services)              | 500 to 999     | AUTODESK LIMITED                                                        | False | 2023/04/05 00:00:00 | 2022/09/21 15:20:54 |\n| AVIAGEN LIMITED                                                         |  1638 | Stratford Hatchery Alscott Industrial Estate, Atherstone On Stour, Stratford-Upon-Avon, Warwickshire, CV37 8BH | CV37 8BH | 01610943 | 1470                          |  13.4 |   0.1 |   50.0 |  11.8 | ⋯ | 24.5 | 77.8 | 22.2 | <!----> | Debbie Watson (Head of HR)                           | 250 to 499     | AVIAGEN LIMITED                                                         | False | 2023/04/05 00:00:00 | 2022/06/30 11:28:48 |\n| AVIAGEN UK LIMITED                                                      |  1639 | AVIAGEN LTD, 11 Lochend Road, Ratho Station, Newbridge, Midlothian, EH28 8SZ                                   | EH28 8SZ | SC065463 | 1470                          |  13.4 |   5.3 |   32.2 |  12.0 | ⋯ | 38.6 | 69.9 | 30.1 | <!----> | Debbie Watson (Head of HR)                           | 250 to 499     | AVIAGEN UK LIMITED                                                      | False | 2023/04/05 00:00:00 | 2022/06/30 11:30:44 |\n| AVIOS GROUP (AGL) LIMITED                                               |  1640 | Waterside (Hea3), PO BOX 365, Harmondsworth, United Kingdom, UB7 0GB                                           | UB7 0GB  | 02260073 | 82990                         |  22.0 |  22.0 |   34.0 |  19.0 | ⋯ | 76.0 | 64.0 | 36.0 | https://25102283.fs1.hubspotusercontent-eu1.net/hubfs/25102283/Website%20Assets/Downloads/Gender-Pay-Gap-report-2022-FINAL%20(1).pdf         | Helen Miller (Chief People Officer)                  | 250 to 499     | AVIOS GROUP (AGL) LIMITED                                               | False | 2023/04/05 00:00:00 | 2022/10/12 10:29:22 |\n| Bank of England                                                         | 14475 | Threadneedle Street, London, EC2R 8AH                                                                          | EC2R 8AH | <!----> | 1,\n84110                     |  18.5 |  20.1 |   23.1 |  24.8 | ⋯ | 40.0 | 67.0 | 33.0 | https://www.bankofengland.co.uk/annual-report/2022                                                                                           | <!----> | 1000 to 4999   | Bank of England                                                         | False | 2023/03/31 00:00:00 | 2022/06/23 17:12:15 |\n| BARKER CARE LIMITED                                                     |  1818 | Mortimer House, Clifton Down Road, Bristol, England, BS8 4AE                                                   | BS8 4AE  | 01385930 | 86102                         |  -7.5 |   0.0 |     NA |    NA | ⋯ | 66.3 | 47.0 | 53.0 | https://cedarcarehomes.co.uk/gender-pay-gap-2022/                                                                                            | Ganesh Gudka (Chief Finance Officer)                 | 250 to 499     | BARKER CARE LIMITED                                                     | False | 2023/04/05 00:00:00 | 2022/06/06 17:08:32 |\n| Barking &amp; Dagenham College                                              |  1819 | Dagenham Road, Romford, Essex, United Kingdom, RM7 0XU                                                         | RM7 0XU  | <!----> | 1,\n85320                     |   4.5 |   9.9 |    6.9 | -15.2 | ⋯ | 54.0 | 44.0 | 56.0 | http://www.barkingdagenhamcollege.ac.uk                                                                                                      | <!----> | 250 to 499     | Barking &amp; Dagenham College                                              | False | 2023/03/31 00:00:00 | 2022/09/28 15:21:29 |\n| ⋮ | ⋮ | ⋮ | ⋮ | ⋮ | ⋮ | ⋮ | ⋮ | ⋮ | ⋮ | ⋱ | ⋮ | ⋮ | ⋮ | ⋮ | ⋮ | ⋮ | ⋮ | ⋮ | ⋮ | ⋮ |\n| THE TWO COUNTIES TRUST                           | 12611 | Ashfield School, Sutton Road, Kirby In Ashfield, Nottinghamshire, NG17 8HP                     | NG17 8HP | 07972029 | 85310                         |  21.8 |  44.8 |    NA |    NA | ⋯ | 68.0 | 42.0 | 58.0 | https://www.ttct.co.uk/                                                                           | <!----> | 1000 to 4999   | THE TWO COUNTIES TRUST                           | False | 2023/03/31 00:00:00 | 2022/08/26 09:45:34 |\n| The Weald School                                 | 18680 | Station Road, Billingshurst, West Sussex, RH14 9RY                                             | RH14 9RY | <!----> | 1,\n85310                     |   8.4 |   3.8 |    NA |    NA | ⋯ | 76.3 | 32.3 | 67.7 | https://www.theweald.org.uk/abouttheweald                                                         | <!----> | 250 to 499     | The Weald School                                 | False | 2023/03/31 00:00:00 | 2022/08/19 13:40:11 |\n| THWAITES ENGINEERING CO LIMITED                  | 21483 | Welsh Road, Cubbington, Leamington Spa, Warwickshire, CV32 7NQ                                 | CV32 7NQ | 01569491 | <!----> |   5.0 |   8.5 |  19.1 |   0.0 | ⋯ |  2.0 | 92.0 |  8.0 | <!----> | Simon Hill (Managing Director)                      | 250 to 499     | THWAITES ENGINEERING CO LIMITED                  | False | 2023/04/05 00:00:00 | 2022/05/23 10:21:33 |\n| THWAITES LIMITED                                 | 21487 | Welsh Road, Cubbington, Leamington Spa, Warwickshire, CV32 7NQ                                 | CV32 7NQ | 00387579 | 28220                         |   5.0 |   8.5 |  19.1 |   0.0 | ⋯ |  2.0 | 92.0 |  8.0 | https://thwaitesdumpers.co.uk/company/policies/gender-pay-report/                                 | Simon Hill (Managing Director)                      | 250 to 499     | THWAITES LIMITED                                 | False | 2023/04/05 00:00:00 | 2022/05/27 08:51:00 |\n| TILDA LIMITED                                    | 17835 | Coldharbour Lane, Rainham, Essex, RM13 9YQ                                                     | RM13 9YQ | 00990202 | 10611                         |  12.6 |   6.9 |  11.4 |   1.0 | ⋯ | 18.3 | 71.7 | 28.3 | <!----> | Jean-Philippe Laborde (Managing Director)           | 250 to 499     | TILDA LIMITED                                    | False | 2023/04/05 00:00:00 | 2022/04/05 21:01:12 |\n| TPXIMPACT LIMITED                                | 21519 | 20 St Thomas Street, Runway East (Second Floor), London, United Kingdom, SE1 9RG               | SE1 9RG  | 06472420 | 70229                         |  18.7 |  18.5 |    NA |    NA | ⋯ | 42.0 | 63.0 | 37.0 | <!----> | Bryony Wilde (Purpose Director)                     | 250 to 499     | TPXIMPACT LIMITED                                | False | 2023/04/05 00:00:00 | 2022/08/17 14:34:06 |\n| Transport for Wales Group                        | 21296 | 3 Llys Cadwyn, Pontypridd, Rhondda Cynon Taff, CF37 4TH                                        | CF37 4TH | <!----> | <!----> |  19.1 |  32.8 |  30.3 | -83.1 | ⋯ | 35.0 | 76.0 | 24.0 | <!----> | <!----> | 500 to 999     | Transport for Wales Group                        | False | 2023/03/31 00:00:00 | 2022/10/18 10:44:07 |\n| TRINITY HOSPICE AND PALLIATIVE CARE SERVICES LTD | 19678 | Trinity Hospice, Low Moor Road, Bispham, Blackpool, FY2 0BG                                    | FY2 0BG  | 01537498 | 86101,\n86220                 |  -4.5 | -20.3 |  50.0 |  50.0 | ⋯ | 90.0 | 16.4 | 83.6 | https://www.trinityhospice.co.uk/app/uploads/2022/09/2208-Gender-Pay-Gap-2021-2022.pdf            | Martin Clapperton (Interim Finance Director)        | 250 to 499     | TRINITY HOSPICE AND PALLIATIVE CARE SERVICES LTD | False | 2023/04/05 00:00:00 | 2022/09/01 10:54:04 |\n| TUV SUD LIMITED                                  | 13032 | Napier Building, Scottish, Enterprise Technology Park, East Kilbride, Glasgow, G75 0QF         | G75 0QF  | SC215164 | 74909                         |  20.8 |  24.6 |  -3.2 |   0.0 | ⋯ | 21.8 | 83.9 | 16.1 | <!----> | Christopher Guy (CEO, UK &amp; Ireland)                 | 250 to 499     | TUV SUD LIMITED                                  | False | 2023/04/05 00:00:00 | 2022/08/01 14:32:04 |\n| TWO SAINTS LIMITED                               | 21516 | <!----> | <!----> | IP26511R | <!----> |  -7.0 |  -8.6 |   3.3 |  -5.7 | ⋯ | 72.3 | 22.0 | 78.0 | <!----> | Dawn Gold (HR Manager)                              | 250 to 499     | TWO SAINTS LIMITED                               | False | 2023/04/05 00:00:00 | 2022/10/05 16:13:40 |\n| UK-NSI CO. LIMITED                               | 13081 | Merse Road North Moons Moat, Redditch, Worcestershire, B98 9HL                                 | B98 9HL  | 02141243 | 29320                         |  19.2 |  12.0 |    NA |    NA | ⋯ | 17.0 | 82.0 | 18.0 | https://www.uk-nsi.co.uk/                                                                         | Victoria Powles (HR Operations Manager)             | Less than 250  | UK-NSI CO. LIMITED                               | False | 2023/04/05 00:00:00 | 2022/04/21 11:56:48 |\n| UKTV MEDIA LIMITED                               | 13085 | 10 Hammersmith Grove, London, W6 7AP                                                           | W6 7AP   | 04266373 | 60200                         |  16.1 |  20.7 | -33.3 | -33.0 | ⋯ | 47.1 | 55.7 | 44.3 | https://uktv-static.s3.amazonaws.com/fgprod/corporate/corporate_downloads/pay-gap-report-2022.pdf | Marcus Arthur (CEO)                                 | 250 to 499     | UKTV MEDIA LIMITED                               | False | 2023/04/05 00:00:00 | 2022/07/13 18:44:18 |\n| UL VS LIMITED                                    | 20940 | Unit 1-3 Horizon Wade Road, Kingsland Business Park, Basingstoke, Hampshire, England, RG24 8AH | RG24 8AH | 02117901 | 71200                         |  10.5 |  12.1 |  18.8 |  19.2 | ⋯ | 22.0 | 83.0 | 17.0 | <!----> | Gitte Schjotz (Director of UL VS Ltd)               | 250 to 499     | UL VS LIMITED                                    | False | 2023/04/05 00:00:00 | 2022/09/06 04:53:25 |\n| UMBRELLA CONTRACTS LIMITED                       | 18587 | Mossknowe Steading Kirkpatrick Fleming, Nr Gretna, Lockerbie, Dumfriesshire, DG11 3BG          | DG11 3BG | SC192044 | 70229                         |  22.0 |   0.0 |    NA |    NA | ⋯ | 26.0 | 68.0 | 32.0 | https://paygap@equalityhumanrights.com                                                            | Helen Little (Finance Director)                     | 250 to 499     | UMBRELLA CONTRACTS LIMITED                       | False | 2023/04/05 00:00:00 | 2022/09/06 11:55:44 |\n| University of the Arts, London                   |   192 | 272 High Holborn, London, London, United Kingdom, WC1V 7EY                                     | WC1V 7EY | <!----> | 1,\n85421                     |   0.0 |   2.4 |    NA |    NA | ⋯ | 56.2 | 38.9 | 61.1 | https://www.arts.ac.uk/about-ual/public-information/equality-objectives-and-reports               | <!----> | 5000 to 19,999 | University of the Arts, London                   | False | 2023/03/31 00:00:00 | 2022/04/25 14:51:18 |\n| Vale of Glamorgan Council                        | 17954 | Civic Offices, Holton Road, Barry, CF63 4RU                                                    | CF63 4RU | <!----> | 1,\n84110                     |   4.7 |   5.7 |    NA |    NA | ⋯ | 66.0 | 36.0 | 64.0 | <!----> | <!----> | 1000 to 4999   | Vale of Glamorgan Council                        | False | 2023/03/31 00:00:00 | 2022/09/14 12:21:53 |\n| VEGNER GROUP LIMITED                             |   391 | 9-11 The Quadrant, Richmond, Surrey, TW9 1BP                                                   | TW9 1BP  | 05728008 | 70100                         |  11.5 |   5.7 |  14.9 |   5.9 | ⋯ | 53.0 | 64.0 | 36.0 | https://vegnergroup.com/equal-opportunities/                                                      | Richard Scott (HR Director)                         | 500 to 999     | VEGNER GROUP LIMITED                             | False | 2023/04/05 00:00:00 | 2022/08/23 12:58:28 |\n| VENTRICA LTD                                     | 17545 | 4th Floor Tylers House, Tylers Avenue, Southend-On-Sea, Essex, SS1 2BB                         | SS1 2BB  | 06908560 | 82200                         |  18.1 |   0.0 |  59.3 |  28.9 | ⋯ | 58.6 | 42.3 | 57.7 | <!----> | Stephen West (Chief Operating Officer)              | 500 to 999     | VENTRICA LTD                                     | False | 2023/04/05 00:00:00 | 2022/04/06 13:01:37 |\n| VIVID HOUSING LIMITED                            | 18325 | HR Department, Peninsular House, Wharf Rd, Portsmouth, PO2 8HB                                 | PO2 8HB  | RS007544 | <!----> |   2.9 |   0.9 |  32.5 |  25.6 | ⋯ | 45.9 | 59.1 | 40.9 | https://www.vividhomes.co.uk/about-us/transparency                                                | Duncan Short (Director of Resources)                | 500 to 999     | VIVID HOUSING LIMITED                            | False | 2023/04/05 00:00:00 | 2022/10/06 15:14:14 |\n| VOYAGE 1 LIMITED                                 | 15600 | Voyage Care Wall Island, Birmingham Road, Lichfield, Staffordshire, WS14 0QP                   | WS14 0QP | 02215899 | 87200,\n88100                 |   3.6 |   0.4 |  56.9 |   0.0 | ⋯ | 75.0 | 25.0 | 75.0 | http://www.voyagecare.com                                                                         | Laura Jordan (Legal Director and Company Secretary) | 5000 to 19,999 | VOYAGE 1 LIMITED                                 | False | 2023/04/05 00:00:00 | 2022/10/06 12:02:43 |\n| W. LIDDY &amp; COMPANY LIMITED                       | 13424 | Unit 28 Apex Business Village, Cramlington, Northumberland, NE23 7BF                           | NE23 7BF | 02860364 | 56102                         |   7.2 |   0.3 |   2.5 |   2.9 | ⋯ | 42.0 | 54.6 | 45.4 | <!----> | SARA DAVIS (PAYROLL MANAGER)                        | 500 to 999     | W. LIDDY &amp; COMPANY LIMITED                       | False | 2023/04/05 00:00:00 | 2022/05/10 10:52:44 |\n| WALLICH-CLIFFORD COMMUNITY                       | 13465 | The Wallich - Cardiff Hub, 18 Park Place, Cardiff, Wales, CF10 3DQ                             | CF10 3DQ | 02642780 | 87200,\n88990                 |   4.0 |   0.0 |   4.1 |   0.0 | ⋯ | 63.7 | 38.0 | 62.0 | https://thewallich.com/gender-pay-gap/                                                            | Lindsay Cordery-Bruce (Chief Executive Officer)     | 250 to 499     | WALLICH-CLIFFORD COMMUNITY                       | False | 2023/04/05 00:00:00 | 2022/07/04 13:56:12 |\n| WELLS CATHEDRAL SCHOOL, LIMITED                  | 13591 | The Bursary, Wells Cathedral School, College Road, Wells, Somerset, BA5 2SX                    | BA5 2SX  | 00564883 | 85100,\n85200,\n85310,\n85520 |  30.0 |  57.0 |    NA |    NA | ⋯ | 63.0 | 42.0 | 58.0 | <!----> | Bethan Drake (PA to the Bursar)                     | 250 to 499     | WELLS CATHEDRAL SCHOOL, LIMITED                  | False | 2023/04/05 00:00:00 | 2022/05/17 11:24:01 |\n| WESSEX EAGLE LIMITED                             | 15245 | Eagle Plant, Beeching Close, Chard, Somerset, TA20 1BB                                         | TA20 1BB | 01540286 | 77320                         |  10.8 |   9.2 |  30.7 |  31.8 | ⋯ |  2.0 | 94.0 |  6.0 | <!----> | Gary Parfoot (Director)                             | 250 to 499     | WESSEX EAGLE LIMITED                             | False | 2023/04/05 00:00:00 | 2022/04/08 14:37:21 |\n| West Bromwich Building Society                   | 16108 | 2 Providence Place, West Bromwich, West Midlands, B708AF                                       | B708AF   | <!----> | 64192                         |  39.1 |  35.2 |  75.8 |  43.4 | ⋯ | 57.7 | 63.8 | 36.2 | https://www.westbrom.co.uk/about-us/corporate-governance/gender-pay-reporting                     | Sophie Pazzaglia (Divisional Director HR)           | 500 to 999     | West Bromwich Building Society                   | False | 2023/04/05 00:00:00 | 2022/08/23 14:45:42 |\n| WILLIAMS MOTOR CO.(HOLDINGS)LIMITED              | 13803 | 2 Vincent Way, Raikes Lane, Bolton, BL3 2NB                                                    | BL3 2NB  | 00597708 | 45111,\n45112,\n45200,\n45320 |  21.5 |  23.0 |  53.1 |  78.9 | ⋯ | 11.0 | 92.0 |  8.0 | <!----> | Andrew Seymour (Group Accountant)                   | 500 to 999     | WILLIAMS MOTOR CO.(HOLDINGS)LIMITED              | False | 2023/04/05 00:00:00 | 2022/08/02 17:30:00 |\n| WINN SOLICITORS LIMITED                          | 13839 | Winn Solicitors, Brinkburn, Street, Byker, Newcastle Upon Tyne, Tyne &amp; Wear, NE6 1PL           | NE6 1PL  | 05084463 | 69102                         |  19.5 |   3.7 |  47.5 |  35.0 | ⋯ | 56.6 | 51.3 | 48.7 | https://winngroup.co.uk/working-at-winn-group/#equal-opportunities                                | Colette Gardner (Group Head of HR)                  | 250 to 499     | WINN SOLICITORS LIMITED                          | False | 2023/04/05 00:00:00 | 2022/10/19 14:01:38 |\n| Worcester City Council                           | 15444 | High Street, Worcester, WR1 2EY                                                                | WR1 2EY  | <!----> | 1,\n84110                     |  -1.3 |  -6.1 |    NA |    NA | ⋯ | 57.0 | 42.5 | 57.5 | https://www.worcester.gov.uk/jobs-careers/equality-inclusion                                      | <!----> | 250 to 499     | Worcester City Council                           | False | 2023/03/31 00:00:00 | 2022/07/07 15:43:10 |\n| YOUR HOMES NEWCASTLE LIMITED                     | 14040 | Civic Centre, Barras Bridge, Newcastle Upon Tyne, Tyne &amp; Wear, NE1 8PR                         | NE1 8PR  | 05076256 | 68201                         |  -3.7 | -11.4 |    NA |    NA | ⋯ | 70.5 | 45.9 | 54.1 | <!----> | Tina Drury (YHN Managing Director)                  | 500 to 999     | YOUR HOMES NEWCASTLE LIMITED                     | False | 2023/04/05 00:00:00 | 2022/06/17 09:02:43 |\n| YOUR LEISURE KENT LIMITED                        | 14105 | Northdown House, Northdown Park Road, Margate, CT9 3TP                                         | CT9 3TP  | IP28889R | <!----> | -14.9 |   9.6 |    NA |    NA | ⋯ | 51.7 | 28.3 | 71.7 | https://yourleisure.uk.com/                                                                       | Debbie Barker (Head of HR)                          | Less than 250  | YOUR LEISURE KENT LIMITED                        | False | 2023/04/05 00:00:00 | 2022/09/26 12:12:53 |\n\n",
            "text/latex": "A data.frame: 331 × 27\n\\begin{tabular}{lllllllllllllllllllll}\n EmployerName & EmployerId & Location & ZipCode & CompanyID & SicCodes & DiffMeanHourlyPercent & DiffMedianHourlyPercent & DiffMeanBonusPercent & DiffMedianBonusPercent & ⋯ & FemaleUpperMiddleQuartile & MaleTopQuartile & FemaleTopQuartile & CompanyLinkToGPGInfo & ResponsiblePerson & EmployerSize & CurrentName & SubmittedAfterTheDeadline & DueDate & DateSubmitted\\\\\n <chr> & <int> & <chr> & <chr> & <chr> & <chr> & <dbl> & <dbl> & <dbl> & <dbl> & ⋯ & <dbl> & <dbl> & <dbl> & <chr> & <chr> & <chr> & <chr> & <chr> & <chr> & <chr>\\\\\n\\hline\n\t A.J.N. STEELSTOCK LTD.                                                  & 14835 & Icknield Way, Kentford, Newmarket, Suffolk, CB8 7QT                                                            & CB8 7QT  & 00689647 & 46720                         &  16.2 &   3.3 &  -20.0 &   0.0 & ⋯ & 10.8 & 87.1 & 12.9 & https://www.ajnsteelstock.co.uk/wp-content/uploads/2022/10/2022-Gender-Pay-Gap-Report.pdf                                                    & Courtney Bell (FD)                                   & 250 to 499     & A.J.N. STEELSTOCK LTD.                                                  & False & 2023/04/05 00:00:00 & 2022/10/11 15:34:17\\\\\n\t AB WORLD FOODS LIMITED                                                  &   764 & Weston Centre, 10 Grosvenor Street, London, W1K 4QY                                                            & W1K 4QY  & 01400901 & 10890                         &  -8.6 & -12.3 &   10.3 & -20.8 & ⋯ & 33.7 & 44.6 & 55.4 & https://abworldfoods.com/documents/ABWF\\_Gender\\_Pay\\_Gap\\_Narrative\\_2022.pdf                                                                    & Andy Mayhew (Managing Director)                      & 250 to 499     & AB WORLD FOODS LIMITED                                                  & False & 2023/04/05 00:00:00 & 2022/09/30 09:45:25\\\\\n\t ABACUS EMPLOYMENT SERVICES LIMITED                                      &   767 & 1 Chequers Road, Basingstoke, Hampshire, England, RG21 7PU                                                     & RG21 7PU & 02638307 & 78200                         &  -3.0 &   3.2 &     NA &    NA & ⋯ & 21.5 & 80.9 & 19.1 & http://www.abacus-employment.com                                                                                                             & Phil James (Finance Manager)                         & 250 to 499     & ABACUS EMPLOYMENT SERVICES LIMITED                                      & False & 2023/04/05 00:00:00 & 2022/04/13 14:57:04\\\\\n\t Advisory, Conciliation and Arbitration Service                          &   496 & 8th Floor, Windsor House, 50 Victoria Street, London, London, United Kingdom, SW1H 0TL                         & SW1H 0TL &          & 1,\n84110                     &   7.2 &   6.1 &   19.4 &   9.9 & ⋯ & 63.2 & 51.8 & 48.2 & https://www.acas.org.uk/acas-gender-pay-report/2021-to-2022-report                                                                           &                                                      & 1000 to 4999   & Advisory, Conciliation and Arbitration Service                          & False & 2023/03/31 00:00:00 & 2022/08/01 13:15:17\\\\\n\t AFH INDEPENDENT FINANCIAL SERVICES LIMITED                              & 19364 & Afh House Buntsford Drive, Stoke Heath, Bromsgrove, Worcestershire, B60 4JE                                    & B60 4JE  & 04049180 & 64999                         &  25.0 &  32.0 &  -33.0 &  69.0 & ⋯ & 59.0 & 60.0 & 40.0 &                                                                                                                                              & Alison Court (Senior HR Adviser)                     & 500 to 999     & AFH INDEPENDENT FINANCIAL SERVICES LIMITED                              & False & 2023/04/05 00:00:00 & 2022/05/20 11:24:09\\\\\n\t AGE UK NORTHUMBERLAND                                                   & 19713 & The Round House, Lintonville Parkway, Ashington, Northumberland, NE63 9JZ                                      & NE63 9JZ & 03639406 & 88100                         &  -3.8 &   0.0 &     NA &    NA & ⋯ & 79.0 & 27.0 & 73.0 & https://www.ageuk.org.uk/northumberland/about-us/join-us/                                                                                    & Sarah Turner (Head of Finance)                       & 250 to 499     & AGE UK NORTHUMBERLAND                                                   & False & 2023/04/05 00:00:00 & 2022/09/26 08:29:12\\\\\n\t All Saints Catholic Academy Trust                                       & 20895 & c/o St Joan of Arc Catholic School, High Street, Rickmansworth, Hertfordshire, United Kingdom, WD3 1HG         & WD3 1HG  &          &                               &  25.0 &  49.0 &     NA &    NA & ⋯ & 74.0 & 26.0 & 74.0 & http://ascatonline.co.uk                                                                                                                     &                                                      & 250 to 499     & All Saints Catholic Academy Trust                                       & False & 2023/03/31 00:00:00 & 2022/07/05 10:48:22\\\\\n\t Allerdale Borough Council                                               & 17194 & Allerdale House, Workington, CA14 3YJ                                                                          & CA14 3YJ &          & 1,\n84110                     &   9.5 &  17.0 &     NA &    NA & ⋯ & 67.0 & 50.0 & 50.0 & https://www.allerdale.gov.uk/en/about-council/equality-duty/                                                                                 &                                                      & Less than 250  & Allerdale Borough Council                                               & False & 2023/03/31 00:00:00 & 2022/06/13 16:13:15\\\\\n\t ALTRAD EMPLOYMENT SERVICES LIMITED                                      & 21061 & Building 2, Fields End Business Park Davey Road, Thurnscoe, Goldthorpe, Rotherham, England, S63 0JF            & S63 0JF  & 11631174 & 78300                         &  15.0 &  25.0 &   -1.0 & -23.0 & ⋯ &  0.6 & 96.7 &  3.3 &                                                                                                                                              & Padraig Somers (CEO - UK \\& Nordics)                  & 5000 to 19,999 & ALTRAD EMPLOYMENT SERVICES LIMITED                                      & False & 2023/04/05 00:00:00 & 2022/05/11 14:11:25\\\\\n\t ANGLIAN COUNTRY INNS LIMITED                                            & 17754 & Fox Barn, Willian, Letchworth Garden City, Hertfordshire, SG6 2AE                                              & SG6 2AE  & 03214479 & 56101,\n56302                 &   9.2 &   0.0 &   25.0 &  12.5 & ⋯ & 60.2 & 68.6 & 31.4 & https://www.acinns.co.uk                                                                                                                     & Susanne McGregor (Payroll Manager)                   & 250 to 499     & ANGLIAN COUNTRY INNS LIMITED                                            & False & 2023/04/05 00:00:00 & 2022/10/03 14:02:45\\\\\n\t ANGLIAN WINDOWS LIMITED                                                 &  1286 & Liberator Road, Liberator Road, Norwich, England, NR6 6EU                                                      & NR6 6EU  & 02540020 & 43342                         &  15.0 &  12.9 &   53.6 &  77.0 & ⋯ & 21.5 & 87.0 & 13.0 & https://www.anglianhome.co.uk/legal/gender-pay-gap-reporting                                                                                 & Lisa Walsh (Group HR Director)                       & 1000 to 4999   & ANGLIAN WINDOWS LIMITED                                                 & False & 2023/04/05 00:00:00 & 2022/10/20 12:52:59\\\\\n\t APPH LIMITED                                                            &  1337 & 8 Pembroke Court, Chancellor Road, Manor Park, Runcorn, WA7 1TG                                                & WA7 1TG  & 01972451 & 28120,\n30300                 &   3.6 &  -6.4 & -199.9 & -29.1 & ⋯ & 14.3 & 90.0 & 10.0 & http://apph.com                                                                                                                              & Julie Andrew (Human Resources Director)              & 250 to 499     & APPH LIMITED                                                            & False & 2023/04/05 00:00:00 & 2022/09/12 09:24:36\\\\\n\t APPLUS UK LTD                                                           &  1343 & Block 2 Units C And D, West Mains Industrial Estate, Grangemouth, Stirlingshire, FK3 8YE                       & FK3 8YE  & SC236136 & 71200                         &  50.6 &  56.0 &   26.6 &   0.0 & ⋯ &  1.3 & 98.7 &  1.3 &                                                                                                                                              & Evelyn Grogan (Head of HR)                           & 250 to 499     & APPLUS UK LTD                                                           & False & 2023/04/05 00:00:00 & 2022/04/05 09:00:52\\\\\n\t ARC HOSPITALITY RECRUITMENT SOLUTIONS LTD                               & 17877 & 61a Bold Street, Liverpool, England, L1 4EZ                                                                    & L1 4EZ   & 06626815 & 78300                         &   1.9 &   1.2 &    1.9 &   0.0 & ⋯ & 51.0 & 40.0 & 60.0 &                                                                                                                                              & Vicky Gardner (Head of Accounts)                     & 5000 to 19,999 & ARC HOSPITALITY RECRUITMENT SOLUTIONS LTD                               & False & 2023/04/05 00:00:00 & 2022/09/28 15:23:07\\\\\n\t ARCHANT COMMUNITY MEDIA LIMITED                                         &  1374 & Loudwater Mill Station Road, Loudwater, High Wycombe, England, HP10 9TY                                        & HP10 9TY & 00019300 & 58130,\n58190                 &  14.5 &  15.8 &   21.8 &  31.2 & ⋯ & 51.1 & 52.0 & 48.0 &                                                                                                                                              & Alison Rich (Director of HR)                         & 500 to 999     & ARCHANT COMMUNITY MEDIA LIMITED                                         & False & 2023/04/05 00:00:00 & 2022/06/17 08:37:11\\\\\n\t ARDINGLY COLLEGE LIMITED                                                &  1390 & Ardingly College, College Road, Ardingly, Haywards Heath, West Sussex, RH17 6SQ                                & RH17 6SQ & 03779971 & 85200,\n85310,\n85590         &   5.6 &   1.3 &   13.0 &  20.8 & ⋯ & 62.5 & 44.2 & 55.8 & https://www.ardingly.com/staff-recruitment/gender-pay-gap/                                                                                   & Robert Haynes Brown (Chairman)                       & 250 to 499     & ARDINGLY COLLEGE LIMITED                                                & False & 2023/04/05 00:00:00 & 2022/08/12 12:56:19\\\\\n\t ARENA EVENT SERVICES GROUP LIMITED                                      &  1393 & Needingworth Industrial Estate, Needingworth Road, St. Ives, England, PE27 4NB                                 & PE27 4NB & 04069053 & 93199                         &  22.9 &  21.8 &   88.9 &  70.8 & ⋯ & 12.9 & 88.5 & 11.5 &                                                                                                                                              & Oxana Vladimirskaya (Group HR Manager - UK \\& Europe) & 250 to 499     & ARENA EVENT SERVICES GROUP LIMITED                                      & False & 2023/04/05 00:00:00 & 2022/08/23 12:28:00\\\\\n\t ARRK EUROPE LIMITED                                                     &    87 & Caldwell Road, Nuneaton, Warwickshire, CV11 4NG                                                                & CV11 4NG & 03418673 & 32990                         &  -1.8 &  12.9 &  -58.1 &   0.0 & ⋯ & 12.1 & 81.8 & 18.2 & https://www.arrkeurope.com/fileadmin/user\\_upload/Company/arrk-companys/arrk-europe-limited/ARRK\\_Europe\\_Ltd.\\_Gender\\_Pay\\_Report\\_April\\_2022.pdf & Simon Holmes (Finance Director)                      & Less than 250  & ARRK EUROPE LIMITED                                                     & False & 2023/04/05 00:00:00 & 2022/05/04 15:52:35\\\\\n\t ASPERS (STRATFORD CITY) LIMITED                                         &  1507 & 1 Hans Street, London, SW1X 0JD                                                                                & SW1X 0JD & 07246090 & 92000                         &  -1.6 &   0.0 &     NA &    NA & ⋯ & 31.0 & 65.0 & 35.0 & https://www.aspersstratford.co.uk/terms-conditions-policies.html\\#gender-pay-gap-report                                                       & Richard Noble (CEO)                                  & 500 to 999     & ASPERS (STRATFORD CITY) LIMITED                                         & False & 2023/04/05 00:00:00 & 2022/07/04 10:10:43\\\\\n\t ASSOCIATION FOR SPINAL INJURY RESEARCH REHABILITATION AND REINTEGRATION & 21453 & 2nd Floor Regis House, 45 King William Street, London, United Kingdom, EC4R 9AN                                & EC4R 9AN & 03744357 & 86900,\n93110,\n93130         &   4.2 &  -7.3 &     NA &    NA & ⋯ & 82.0 & 41.0 & 59.0 &                                                                                                                                              & Tasha Webster (Director of Operations)               & Less than 250  & ASSOCIATION FOR SPINAL INJURY RESEARCH REHABILITATION AND REINTEGRATION & False & 2023/04/05 00:00:00 & 2022/04/20 16:03:50\\\\\n\t ATLAS PROFESSIONALS UK LIMITED                                          & 19368 & 10th Floor, Beacon Tower, Colston Street, Bristol, England, BS1 4XE                                            & BS1 4XE  & 05788965 & 78109                         & -10.0 &  16.0 &     NA &    NA & ⋯ &  1.0 & 97.0 &  3.0 & https://atlasprofessionals.com/static/files/Atlas\\%20Professionals\\%20UK\\%20Ltd\\%20Pay\\%20Gap\\%20Report\\%202021.pdf                                 & Matt Riding (Group Commercial Director)              & 250 to 499     & ATLAS PROFESSIONALS UK LIMITED                                          & False & 2023/04/05 00:00:00 & 2022/06/13 14:56:19\\\\\n\t ATTIGO ACADEMY TRUST                                                    & 19104 & Worcesters Primary School, Goat Lane, Enfield, United Kingdom, EN1 4UF                                         & EN1 4UF  & 11420376 & 85200,\n85310                 &  16.9 &  40.9 &     NA &    NA & ⋯ & 84.3 & 14.1 & 85.9 & https://www.attigoacademytrust.co.uk/                                                                                                        & Wendy Ochs (CFO/COO)                                 & 250 to 499     & ATTIGO ACADEMY TRUST                                                    & False & 2023/04/05 00:00:00 & 2022/10/20 21:18:11\\\\\n\t AUTISM INITIATIVES (UK)                                                 &  1601 & Sefton House, Bridle Road, Bootle, Merseyside, England, L30 4XR                                                & L30 4XR  & 02436777 & 85200,\n85310,\n87300,\n88990 &  -1.7 &   0.0 &     NA &    NA & ⋯ & 60.9 & 36.1 & 63.9 & https://www.autisminitiatives.org                                                                                                            & Andrew Grainger (Chief Executive)                    & 1000 to 4999   & AUTISM INITIATIVES (UK)                                                 & False & 2023/04/05 00:00:00 & 2022/09/22 11:00:08\\\\\n\t AUTODESK LIMITED                                                        &  1608 & Talbot Way, Small Heath Business Park, Birmingham, England, B10 0HJ                                            & B10 0HJ  & 01839239 & 62012                         &  22.0 &  29.1 &   26.5 &  45.5 & ⋯ & 14.7 & 83.2 & 16.8 &                                                                                                                                              & Lisa Holroyd (Manager, People Services)              & 500 to 999     & AUTODESK LIMITED                                                        & False & 2023/04/05 00:00:00 & 2022/09/21 15:20:54\\\\\n\t AVIAGEN LIMITED                                                         &  1638 & Stratford Hatchery Alscott Industrial Estate, Atherstone On Stour, Stratford-Upon-Avon, Warwickshire, CV37 8BH & CV37 8BH & 01610943 & 1470                          &  13.4 &   0.1 &   50.0 &  11.8 & ⋯ & 24.5 & 77.8 & 22.2 &                                                                                                                                              & Debbie Watson (Head of HR)                           & 250 to 499     & AVIAGEN LIMITED                                                         & False & 2023/04/05 00:00:00 & 2022/06/30 11:28:48\\\\\n\t AVIAGEN UK LIMITED                                                      &  1639 & AVIAGEN LTD, 11 Lochend Road, Ratho Station, Newbridge, Midlothian, EH28 8SZ                                   & EH28 8SZ & SC065463 & 1470                          &  13.4 &   5.3 &   32.2 &  12.0 & ⋯ & 38.6 & 69.9 & 30.1 &                                                                                                                                              & Debbie Watson (Head of HR)                           & 250 to 499     & AVIAGEN UK LIMITED                                                      & False & 2023/04/05 00:00:00 & 2022/06/30 11:30:44\\\\\n\t AVIOS GROUP (AGL) LIMITED                                               &  1640 & Waterside (Hea3), PO BOX 365, Harmondsworth, United Kingdom, UB7 0GB                                           & UB7 0GB  & 02260073 & 82990                         &  22.0 &  22.0 &   34.0 &  19.0 & ⋯ & 76.0 & 64.0 & 36.0 & https://25102283.fs1.hubspotusercontent-eu1.net/hubfs/25102283/Website\\%20Assets/Downloads/Gender-Pay-Gap-report-2022-FINAL\\%20(1).pdf         & Helen Miller (Chief People Officer)                  & 250 to 499     & AVIOS GROUP (AGL) LIMITED                                               & False & 2023/04/05 00:00:00 & 2022/10/12 10:29:22\\\\\n\t Bank of England                                                         & 14475 & Threadneedle Street, London, EC2R 8AH                                                                          & EC2R 8AH &          & 1,\n84110                     &  18.5 &  20.1 &   23.1 &  24.8 & ⋯ & 40.0 & 67.0 & 33.0 & https://www.bankofengland.co.uk/annual-report/2022                                                                                           &                                                      & 1000 to 4999   & Bank of England                                                         & False & 2023/03/31 00:00:00 & 2022/06/23 17:12:15\\\\\n\t BARKER CARE LIMITED                                                     &  1818 & Mortimer House, Clifton Down Road, Bristol, England, BS8 4AE                                                   & BS8 4AE  & 01385930 & 86102                         &  -7.5 &   0.0 &     NA &    NA & ⋯ & 66.3 & 47.0 & 53.0 & https://cedarcarehomes.co.uk/gender-pay-gap-2022/                                                                                            & Ganesh Gudka (Chief Finance Officer)                 & 250 to 499     & BARKER CARE LIMITED                                                     & False & 2023/04/05 00:00:00 & 2022/06/06 17:08:32\\\\\n\t Barking \\& Dagenham College                                              &  1819 & Dagenham Road, Romford, Essex, United Kingdom, RM7 0XU                                                         & RM7 0XU  &          & 1,\n85320                     &   4.5 &   9.9 &    6.9 & -15.2 & ⋯ & 54.0 & 44.0 & 56.0 & http://www.barkingdagenhamcollege.ac.uk                                                                                                      &                                                      & 250 to 499     & Barking \\& Dagenham College                                              & False & 2023/03/31 00:00:00 & 2022/09/28 15:21:29\\\\\n\t ⋮ & ⋮ & ⋮ & ⋮ & ⋮ & ⋮ & ⋮ & ⋮ & ⋮ & ⋮ & ⋱ & ⋮ & ⋮ & ⋮ & ⋮ & ⋮ & ⋮ & ⋮ & ⋮ & ⋮ & ⋮\\\\\n\t THE TWO COUNTIES TRUST                           & 12611 & Ashfield School, Sutton Road, Kirby In Ashfield, Nottinghamshire, NG17 8HP                     & NG17 8HP & 07972029 & 85310                         &  21.8 &  44.8 &    NA &    NA & ⋯ & 68.0 & 42.0 & 58.0 & https://www.ttct.co.uk/                                                                           &                                                     & 1000 to 4999   & THE TWO COUNTIES TRUST                           & False & 2023/03/31 00:00:00 & 2022/08/26 09:45:34\\\\\n\t The Weald School                                 & 18680 & Station Road, Billingshurst, West Sussex, RH14 9RY                                             & RH14 9RY &          & 1,\n85310                     &   8.4 &   3.8 &    NA &    NA & ⋯ & 76.3 & 32.3 & 67.7 & https://www.theweald.org.uk/abouttheweald                                                         &                                                     & 250 to 499     & The Weald School                                 & False & 2023/03/31 00:00:00 & 2022/08/19 13:40:11\\\\\n\t THWAITES ENGINEERING CO LIMITED                  & 21483 & Welsh Road, Cubbington, Leamington Spa, Warwickshire, CV32 7NQ                                 & CV32 7NQ & 01569491 &                               &   5.0 &   8.5 &  19.1 &   0.0 & ⋯ &  2.0 & 92.0 &  8.0 &                                                                                                   & Simon Hill (Managing Director)                      & 250 to 499     & THWAITES ENGINEERING CO LIMITED                  & False & 2023/04/05 00:00:00 & 2022/05/23 10:21:33\\\\\n\t THWAITES LIMITED                                 & 21487 & Welsh Road, Cubbington, Leamington Spa, Warwickshire, CV32 7NQ                                 & CV32 7NQ & 00387579 & 28220                         &   5.0 &   8.5 &  19.1 &   0.0 & ⋯ &  2.0 & 92.0 &  8.0 & https://thwaitesdumpers.co.uk/company/policies/gender-pay-report/                                 & Simon Hill (Managing Director)                      & 250 to 499     & THWAITES LIMITED                                 & False & 2023/04/05 00:00:00 & 2022/05/27 08:51:00\\\\\n\t TILDA LIMITED                                    & 17835 & Coldharbour Lane, Rainham, Essex, RM13 9YQ                                                     & RM13 9YQ & 00990202 & 10611                         &  12.6 &   6.9 &  11.4 &   1.0 & ⋯ & 18.3 & 71.7 & 28.3 &                                                                                                   & Jean-Philippe Laborde (Managing Director)           & 250 to 499     & TILDA LIMITED                                    & False & 2023/04/05 00:00:00 & 2022/04/05 21:01:12\\\\\n\t TPXIMPACT LIMITED                                & 21519 & 20 St Thomas Street, Runway East (Second Floor), London, United Kingdom, SE1 9RG               & SE1 9RG  & 06472420 & 70229                         &  18.7 &  18.5 &    NA &    NA & ⋯ & 42.0 & 63.0 & 37.0 &                                                                                                   & Bryony Wilde (Purpose Director)                     & 250 to 499     & TPXIMPACT LIMITED                                & False & 2023/04/05 00:00:00 & 2022/08/17 14:34:06\\\\\n\t Transport for Wales Group                        & 21296 & 3 Llys Cadwyn, Pontypridd, Rhondda Cynon Taff, CF37 4TH                                        & CF37 4TH &          &                               &  19.1 &  32.8 &  30.3 & -83.1 & ⋯ & 35.0 & 76.0 & 24.0 &                                                                                                   &                                                     & 500 to 999     & Transport for Wales Group                        & False & 2023/03/31 00:00:00 & 2022/10/18 10:44:07\\\\\n\t TRINITY HOSPICE AND PALLIATIVE CARE SERVICES LTD & 19678 & Trinity Hospice, Low Moor Road, Bispham, Blackpool, FY2 0BG                                    & FY2 0BG  & 01537498 & 86101,\n86220                 &  -4.5 & -20.3 &  50.0 &  50.0 & ⋯ & 90.0 & 16.4 & 83.6 & https://www.trinityhospice.co.uk/app/uploads/2022/09/2208-Gender-Pay-Gap-2021-2022.pdf            & Martin Clapperton (Interim Finance Director)        & 250 to 499     & TRINITY HOSPICE AND PALLIATIVE CARE SERVICES LTD & False & 2023/04/05 00:00:00 & 2022/09/01 10:54:04\\\\\n\t TUV SUD LIMITED                                  & 13032 & Napier Building, Scottish, Enterprise Technology Park, East Kilbride, Glasgow, G75 0QF         & G75 0QF  & SC215164 & 74909                         &  20.8 &  24.6 &  -3.2 &   0.0 & ⋯ & 21.8 & 83.9 & 16.1 &                                                                                                   & Christopher Guy (CEO, UK \\& Ireland)                 & 250 to 499     & TUV SUD LIMITED                                  & False & 2023/04/05 00:00:00 & 2022/08/01 14:32:04\\\\\n\t TWO SAINTS LIMITED                               & 21516 &                                                                                                &          & IP26511R &                               &  -7.0 &  -8.6 &   3.3 &  -5.7 & ⋯ & 72.3 & 22.0 & 78.0 &                                                                                                   & Dawn Gold (HR Manager)                              & 250 to 499     & TWO SAINTS LIMITED                               & False & 2023/04/05 00:00:00 & 2022/10/05 16:13:40\\\\\n\t UK-NSI CO. LIMITED                               & 13081 & Merse Road North Moons Moat, Redditch, Worcestershire, B98 9HL                                 & B98 9HL  & 02141243 & 29320                         &  19.2 &  12.0 &    NA &    NA & ⋯ & 17.0 & 82.0 & 18.0 & https://www.uk-nsi.co.uk/                                                                         & Victoria Powles (HR Operations Manager)             & Less than 250  & UK-NSI CO. LIMITED                               & False & 2023/04/05 00:00:00 & 2022/04/21 11:56:48\\\\\n\t UKTV MEDIA LIMITED                               & 13085 & 10 Hammersmith Grove, London, W6 7AP                                                           & W6 7AP   & 04266373 & 60200                         &  16.1 &  20.7 & -33.3 & -33.0 & ⋯ & 47.1 & 55.7 & 44.3 & https://uktv-static.s3.amazonaws.com/fgprod/corporate/corporate\\_downloads/pay-gap-report-2022.pdf & Marcus Arthur (CEO)                                 & 250 to 499     & UKTV MEDIA LIMITED                               & False & 2023/04/05 00:00:00 & 2022/07/13 18:44:18\\\\\n\t UL VS LIMITED                                    & 20940 & Unit 1-3 Horizon Wade Road, Kingsland Business Park, Basingstoke, Hampshire, England, RG24 8AH & RG24 8AH & 02117901 & 71200                         &  10.5 &  12.1 &  18.8 &  19.2 & ⋯ & 22.0 & 83.0 & 17.0 &                                                                                                   & Gitte Schjotz (Director of UL VS Ltd)               & 250 to 499     & UL VS LIMITED                                    & False & 2023/04/05 00:00:00 & 2022/09/06 04:53:25\\\\\n\t UMBRELLA CONTRACTS LIMITED                       & 18587 & Mossknowe Steading Kirkpatrick Fleming, Nr Gretna, Lockerbie, Dumfriesshire, DG11 3BG          & DG11 3BG & SC192044 & 70229                         &  22.0 &   0.0 &    NA &    NA & ⋯ & 26.0 & 68.0 & 32.0 & https://paygap@equalityhumanrights.com                                                            & Helen Little (Finance Director)                     & 250 to 499     & UMBRELLA CONTRACTS LIMITED                       & False & 2023/04/05 00:00:00 & 2022/09/06 11:55:44\\\\\n\t University of the Arts, London                   &   192 & 272 High Holborn, London, London, United Kingdom, WC1V 7EY                                     & WC1V 7EY &          & 1,\n85421                     &   0.0 &   2.4 &    NA &    NA & ⋯ & 56.2 & 38.9 & 61.1 & https://www.arts.ac.uk/about-ual/public-information/equality-objectives-and-reports               &                                                     & 5000 to 19,999 & University of the Arts, London                   & False & 2023/03/31 00:00:00 & 2022/04/25 14:51:18\\\\\n\t Vale of Glamorgan Council                        & 17954 & Civic Offices, Holton Road, Barry, CF63 4RU                                                    & CF63 4RU &          & 1,\n84110                     &   4.7 &   5.7 &    NA &    NA & ⋯ & 66.0 & 36.0 & 64.0 &                                                                                                   &                                                     & 1000 to 4999   & Vale of Glamorgan Council                        & False & 2023/03/31 00:00:00 & 2022/09/14 12:21:53\\\\\n\t VEGNER GROUP LIMITED                             &   391 & 9-11 The Quadrant, Richmond, Surrey, TW9 1BP                                                   & TW9 1BP  & 05728008 & 70100                         &  11.5 &   5.7 &  14.9 &   5.9 & ⋯ & 53.0 & 64.0 & 36.0 & https://vegnergroup.com/equal-opportunities/                                                      & Richard Scott (HR Director)                         & 500 to 999     & VEGNER GROUP LIMITED                             & False & 2023/04/05 00:00:00 & 2022/08/23 12:58:28\\\\\n\t VENTRICA LTD                                     & 17545 & 4th Floor Tylers House, Tylers Avenue, Southend-On-Sea, Essex, SS1 2BB                         & SS1 2BB  & 06908560 & 82200                         &  18.1 &   0.0 &  59.3 &  28.9 & ⋯ & 58.6 & 42.3 & 57.7 &                                                                                                   & Stephen West (Chief Operating Officer)              & 500 to 999     & VENTRICA LTD                                     & False & 2023/04/05 00:00:00 & 2022/04/06 13:01:37\\\\\n\t VIVID HOUSING LIMITED                            & 18325 & HR Department, Peninsular House, Wharf Rd, Portsmouth, PO2 8HB                                 & PO2 8HB  & RS007544 &                               &   2.9 &   0.9 &  32.5 &  25.6 & ⋯ & 45.9 & 59.1 & 40.9 & https://www.vividhomes.co.uk/about-us/transparency                                                & Duncan Short (Director of Resources)                & 500 to 999     & VIVID HOUSING LIMITED                            & False & 2023/04/05 00:00:00 & 2022/10/06 15:14:14\\\\\n\t VOYAGE 1 LIMITED                                 & 15600 & Voyage Care Wall Island, Birmingham Road, Lichfield, Staffordshire, WS14 0QP                   & WS14 0QP & 02215899 & 87200,\n88100                 &   3.6 &   0.4 &  56.9 &   0.0 & ⋯ & 75.0 & 25.0 & 75.0 & http://www.voyagecare.com                                                                         & Laura Jordan (Legal Director and Company Secretary) & 5000 to 19,999 & VOYAGE 1 LIMITED                                 & False & 2023/04/05 00:00:00 & 2022/10/06 12:02:43\\\\\n\t W. LIDDY \\& COMPANY LIMITED                       & 13424 & Unit 28 Apex Business Village, Cramlington, Northumberland, NE23 7BF                           & NE23 7BF & 02860364 & 56102                         &   7.2 &   0.3 &   2.5 &   2.9 & ⋯ & 42.0 & 54.6 & 45.4 &                                                                                                   & SARA DAVIS (PAYROLL MANAGER)                        & 500 to 999     & W. LIDDY \\& COMPANY LIMITED                       & False & 2023/04/05 00:00:00 & 2022/05/10 10:52:44\\\\\n\t WALLICH-CLIFFORD COMMUNITY                       & 13465 & The Wallich - Cardiff Hub, 18 Park Place, Cardiff, Wales, CF10 3DQ                             & CF10 3DQ & 02642780 & 87200,\n88990                 &   4.0 &   0.0 &   4.1 &   0.0 & ⋯ & 63.7 & 38.0 & 62.0 & https://thewallich.com/gender-pay-gap/                                                            & Lindsay Cordery-Bruce (Chief Executive Officer)     & 250 to 499     & WALLICH-CLIFFORD COMMUNITY                       & False & 2023/04/05 00:00:00 & 2022/07/04 13:56:12\\\\\n\t WELLS CATHEDRAL SCHOOL, LIMITED                  & 13591 & The Bursary, Wells Cathedral School, College Road, Wells, Somerset, BA5 2SX                    & BA5 2SX  & 00564883 & 85100,\n85200,\n85310,\n85520 &  30.0 &  57.0 &    NA &    NA & ⋯ & 63.0 & 42.0 & 58.0 &                                                                                                   & Bethan Drake (PA to the Bursar)                     & 250 to 499     & WELLS CATHEDRAL SCHOOL, LIMITED                  & False & 2023/04/05 00:00:00 & 2022/05/17 11:24:01\\\\\n\t WESSEX EAGLE LIMITED                             & 15245 & Eagle Plant, Beeching Close, Chard, Somerset, TA20 1BB                                         & TA20 1BB & 01540286 & 77320                         &  10.8 &   9.2 &  30.7 &  31.8 & ⋯ &  2.0 & 94.0 &  6.0 &                                                                                                   & Gary Parfoot (Director)                             & 250 to 499     & WESSEX EAGLE LIMITED                             & False & 2023/04/05 00:00:00 & 2022/04/08 14:37:21\\\\\n\t West Bromwich Building Society                   & 16108 & 2 Providence Place, West Bromwich, West Midlands, B708AF                                       & B708AF   &          & 64192                         &  39.1 &  35.2 &  75.8 &  43.4 & ⋯ & 57.7 & 63.8 & 36.2 & https://www.westbrom.co.uk/about-us/corporate-governance/gender-pay-reporting                     & Sophie Pazzaglia (Divisional Director HR)           & 500 to 999     & West Bromwich Building Society                   & False & 2023/04/05 00:00:00 & 2022/08/23 14:45:42\\\\\n\t WILLIAMS MOTOR CO.(HOLDINGS)LIMITED              & 13803 & 2 Vincent Way, Raikes Lane, Bolton, BL3 2NB                                                    & BL3 2NB  & 00597708 & 45111,\n45112,\n45200,\n45320 &  21.5 &  23.0 &  53.1 &  78.9 & ⋯ & 11.0 & 92.0 &  8.0 &                                                                                                   & Andrew Seymour (Group Accountant)                   & 500 to 999     & WILLIAMS MOTOR CO.(HOLDINGS)LIMITED              & False & 2023/04/05 00:00:00 & 2022/08/02 17:30:00\\\\\n\t WINN SOLICITORS LIMITED                          & 13839 & Winn Solicitors, Brinkburn, Street, Byker, Newcastle Upon Tyne, Tyne \\& Wear, NE6 1PL           & NE6 1PL  & 05084463 & 69102                         &  19.5 &   3.7 &  47.5 &  35.0 & ⋯ & 56.6 & 51.3 & 48.7 & https://winngroup.co.uk/working-at-winn-group/\\#equal-opportunities                                & Colette Gardner (Group Head of HR)                  & 250 to 499     & WINN SOLICITORS LIMITED                          & False & 2023/04/05 00:00:00 & 2022/10/19 14:01:38\\\\\n\t Worcester City Council                           & 15444 & High Street, Worcester, WR1 2EY                                                                & WR1 2EY  &          & 1,\n84110                     &  -1.3 &  -6.1 &    NA &    NA & ⋯ & 57.0 & 42.5 & 57.5 & https://www.worcester.gov.uk/jobs-careers/equality-inclusion                                      &                                                     & 250 to 499     & Worcester City Council                           & False & 2023/03/31 00:00:00 & 2022/07/07 15:43:10\\\\\n\t YOUR HOMES NEWCASTLE LIMITED                     & 14040 & Civic Centre, Barras Bridge, Newcastle Upon Tyne, Tyne \\& Wear, NE1 8PR                         & NE1 8PR  & 05076256 & 68201                         &  -3.7 & -11.4 &    NA &    NA & ⋯ & 70.5 & 45.9 & 54.1 &                                                                                                   & Tina Drury (YHN Managing Director)                  & 500 to 999     & YOUR HOMES NEWCASTLE LIMITED                     & False & 2023/04/05 00:00:00 & 2022/06/17 09:02:43\\\\\n\t YOUR LEISURE KENT LIMITED                        & 14105 & Northdown House, Northdown Park Road, Margate, CT9 3TP                                         & CT9 3TP  & IP28889R &                               & -14.9 &   9.6 &    NA &    NA & ⋯ & 51.7 & 28.3 & 71.7 & https://yourleisure.uk.com/                                                                       & Debbie Barker (Head of HR)                          & Less than 250  & YOUR LEISURE KENT LIMITED                        & False & 2023/04/05 00:00:00 & 2022/09/26 12:12:53\\\\\n\\end{tabular}\n",
            "text/plain": [
              "    EmployerName                                                           \n",
              "1   A.J.N. STEELSTOCK LTD.                                                 \n",
              "2   AB WORLD FOODS LIMITED                                                 \n",
              "3   ABACUS EMPLOYMENT SERVICES LIMITED                                     \n",
              "4   Advisory, Conciliation and Arbitration Service                         \n",
              "5   AFH INDEPENDENT FINANCIAL SERVICES LIMITED                             \n",
              "6   AGE UK NORTHUMBERLAND                                                  \n",
              "7   All Saints Catholic Academy Trust                                      \n",
              "8   Allerdale Borough Council                                              \n",
              "9   ALTRAD EMPLOYMENT SERVICES LIMITED                                     \n",
              "10  ANGLIAN COUNTRY INNS LIMITED                                           \n",
              "11  ANGLIAN WINDOWS LIMITED                                                \n",
              "12  APPH LIMITED                                                           \n",
              "13  APPLUS UK LTD                                                          \n",
              "14  ARC HOSPITALITY RECRUITMENT SOLUTIONS LTD                              \n",
              "15  ARCHANT COMMUNITY MEDIA LIMITED                                        \n",
              "16  ARDINGLY COLLEGE LIMITED                                               \n",
              "17  ARENA EVENT SERVICES GROUP LIMITED                                     \n",
              "18  ARRK EUROPE LIMITED                                                    \n",
              "19  ASPERS (STRATFORD CITY) LIMITED                                        \n",
              "20  ASSOCIATION FOR SPINAL INJURY RESEARCH REHABILITATION AND REINTEGRATION\n",
              "21  ATLAS PROFESSIONALS UK LIMITED                                         \n",
              "22  ATTIGO ACADEMY TRUST                                                   \n",
              "23  AUTISM INITIATIVES (UK)                                                \n",
              "24  AUTODESK LIMITED                                                       \n",
              "25  AVIAGEN LIMITED                                                        \n",
              "26  AVIAGEN UK LIMITED                                                     \n",
              "27  AVIOS GROUP (AGL) LIMITED                                              \n",
              "28  Bank of England                                                        \n",
              "29  BARKER CARE LIMITED                                                    \n",
              "30  Barking & Dagenham College                                             \n",
              "⋮   ⋮                                                                      \n",
              "302 THE TWO COUNTIES TRUST                                                 \n",
              "303 The Weald School                                                       \n",
              "304 THWAITES ENGINEERING CO LIMITED                                        \n",
              "305 THWAITES LIMITED                                                       \n",
              "306 TILDA LIMITED                                                          \n",
              "307 TPXIMPACT LIMITED                                                      \n",
              "308 Transport for Wales Group                                              \n",
              "309 TRINITY HOSPICE AND PALLIATIVE CARE SERVICES LTD                       \n",
              "310 TUV SUD LIMITED                                                        \n",
              "311 TWO SAINTS LIMITED                                                     \n",
              "312 UK-NSI CO. LIMITED                                                     \n",
              "313 UKTV MEDIA LIMITED                                                     \n",
              "314 UL VS LIMITED                                                          \n",
              "315 UMBRELLA CONTRACTS LIMITED                                             \n",
              "316 University of the Arts, London                                         \n",
              "317 Vale of Glamorgan Council                                              \n",
              "318 VEGNER GROUP LIMITED                                                   \n",
              "319 VENTRICA LTD                                                           \n",
              "320 VIVID HOUSING LIMITED                                                  \n",
              "321 VOYAGE 1 LIMITED                                                       \n",
              "322 W. LIDDY & COMPANY LIMITED                                             \n",
              "323 WALLICH-CLIFFORD COMMUNITY                                             \n",
              "324 WELLS CATHEDRAL SCHOOL, LIMITED                                        \n",
              "325 WESSEX EAGLE LIMITED                                                   \n",
              "326 West Bromwich Building Society                                         \n",
              "327 WILLIAMS MOTOR CO.(HOLDINGS)LIMITED                                    \n",
              "328 WINN SOLICITORS LIMITED                                                \n",
              "329 Worcester City Council                                                 \n",
              "330 YOUR HOMES NEWCASTLE LIMITED                                           \n",
              "331 YOUR LEISURE KENT LIMITED                                              \n",
              "    EmployerId\n",
              "1   14835     \n",
              "2     764     \n",
              "3     767     \n",
              "4     496     \n",
              "5   19364     \n",
              "6   19713     \n",
              "7   20895     \n",
              "8   17194     \n",
              "9   21061     \n",
              "10  17754     \n",
              "11   1286     \n",
              "12   1337     \n",
              "13   1343     \n",
              "14  17877     \n",
              "15   1374     \n",
              "16   1390     \n",
              "17   1393     \n",
              "18     87     \n",
              "19   1507     \n",
              "20  21453     \n",
              "21  19368     \n",
              "22  19104     \n",
              "23   1601     \n",
              "24   1608     \n",
              "25   1638     \n",
              "26   1639     \n",
              "27   1640     \n",
              "28  14475     \n",
              "29   1818     \n",
              "30   1819     \n",
              "⋮   ⋮         \n",
              "302 12611     \n",
              "303 18680     \n",
              "304 21483     \n",
              "305 21487     \n",
              "306 17835     \n",
              "307 21519     \n",
              "308 21296     \n",
              "309 19678     \n",
              "310 13032     \n",
              "311 21516     \n",
              "312 13081     \n",
              "313 13085     \n",
              "314 20940     \n",
              "315 18587     \n",
              "316   192     \n",
              "317 17954     \n",
              "318   391     \n",
              "319 17545     \n",
              "320 18325     \n",
              "321 15600     \n",
              "322 13424     \n",
              "323 13465     \n",
              "324 13591     \n",
              "325 15245     \n",
              "326 16108     \n",
              "327 13803     \n",
              "328 13839     \n",
              "329 15444     \n",
              "330 14040     \n",
              "331 14105     \n",
              "    Location                                                                                                      \n",
              "1   Icknield Way, Kentford, Newmarket, Suffolk, CB8 7QT                                                           \n",
              "2   Weston Centre, 10 Grosvenor Street, London, W1K 4QY                                                           \n",
              "3   1 Chequers Road, Basingstoke, Hampshire, England, RG21 7PU                                                    \n",
              "4   8th Floor, Windsor House, 50 Victoria Street, London, London, United Kingdom, SW1H 0TL                        \n",
              "5   Afh House Buntsford Drive, Stoke Heath, Bromsgrove, Worcestershire, B60 4JE                                   \n",
              "6   The Round House, Lintonville Parkway, Ashington, Northumberland, NE63 9JZ                                     \n",
              "7   c/o St Joan of Arc Catholic School, High Street, Rickmansworth, Hertfordshire, United Kingdom, WD3 1HG        \n",
              "8   Allerdale House, Workington, CA14 3YJ                                                                         \n",
              "9   Building 2, Fields End Business Park Davey Road, Thurnscoe, Goldthorpe, Rotherham, England, S63 0JF           \n",
              "10  Fox Barn, Willian, Letchworth Garden City, Hertfordshire, SG6 2AE                                             \n",
              "11  Liberator Road, Liberator Road, Norwich, England, NR6 6EU                                                     \n",
              "12  8 Pembroke Court, Chancellor Road, Manor Park, Runcorn, WA7 1TG                                               \n",
              "13  Block 2 Units C And D, West Mains Industrial Estate, Grangemouth, Stirlingshire, FK3 8YE                      \n",
              "14  61a Bold Street, Liverpool, England, L1 4EZ                                                                   \n",
              "15  Loudwater Mill Station Road, Loudwater, High Wycombe, England, HP10 9TY                                       \n",
              "16  Ardingly College, College Road, Ardingly, Haywards Heath, West Sussex, RH17 6SQ                               \n",
              "17  Needingworth Industrial Estate, Needingworth Road, St. Ives, England, PE27 4NB                                \n",
              "18  Caldwell Road, Nuneaton, Warwickshire, CV11 4NG                                                               \n",
              "19  1 Hans Street, London, SW1X 0JD                                                                               \n",
              "20  2nd Floor Regis House, 45 King William Street, London, United Kingdom, EC4R 9AN                               \n",
              "21  10th Floor, Beacon Tower, Colston Street, Bristol, England, BS1 4XE                                           \n",
              "22  Worcesters Primary School, Goat Lane, Enfield, United Kingdom, EN1 4UF                                        \n",
              "23  Sefton House, Bridle Road, Bootle, Merseyside, England, L30 4XR                                               \n",
              "24  Talbot Way, Small Heath Business Park, Birmingham, England, B10 0HJ                                           \n",
              "25  Stratford Hatchery Alscott Industrial Estate, Atherstone On Stour, Stratford-Upon-Avon, Warwickshire, CV37 8BH\n",
              "26  AVIAGEN LTD, 11 Lochend Road, Ratho Station, Newbridge, Midlothian, EH28 8SZ                                  \n",
              "27  Waterside (Hea3), PO BOX 365, Harmondsworth, United Kingdom, UB7 0GB                                          \n",
              "28  Threadneedle Street, London, EC2R 8AH                                                                         \n",
              "29  Mortimer House, Clifton Down Road, Bristol, England, BS8 4AE                                                  \n",
              "30  Dagenham Road, Romford, Essex, United Kingdom, RM7 0XU                                                        \n",
              "⋮   ⋮                                                                                                             \n",
              "302 Ashfield School, Sutton Road, Kirby In Ashfield, Nottinghamshire, NG17 8HP                                    \n",
              "303 Station Road, Billingshurst, West Sussex, RH14 9RY                                                            \n",
              "304 Welsh Road, Cubbington, Leamington Spa, Warwickshire, CV32 7NQ                                                \n",
              "305 Welsh Road, Cubbington, Leamington Spa, Warwickshire, CV32 7NQ                                                \n",
              "306 Coldharbour Lane, Rainham, Essex, RM13 9YQ                                                                    \n",
              "307 20 St Thomas Street, Runway East (Second Floor), London, United Kingdom, SE1 9RG                              \n",
              "308 3 Llys Cadwyn, Pontypridd, Rhondda Cynon Taff, CF37 4TH                                                       \n",
              "309 Trinity Hospice, Low Moor Road, Bispham, Blackpool, FY2 0BG                                                   \n",
              "310 Napier Building, Scottish, Enterprise Technology Park, East Kilbride, Glasgow, G75 0QF                        \n",
              "311                                                                                                               \n",
              "312 Merse Road North Moons Moat, Redditch, Worcestershire, B98 9HL                                                \n",
              "313 10 Hammersmith Grove, London, W6 7AP                                                                          \n",
              "314 Unit 1-3 Horizon Wade Road, Kingsland Business Park, Basingstoke, Hampshire, England, RG24 8AH                \n",
              "315 Mossknowe Steading Kirkpatrick Fleming, Nr Gretna, Lockerbie, Dumfriesshire, DG11 3BG                         \n",
              "316 272 High Holborn, London, London, United Kingdom, WC1V 7EY                                                    \n",
              "317 Civic Offices, Holton Road, Barry, CF63 4RU                                                                   \n",
              "318 9-11 The Quadrant, Richmond, Surrey, TW9 1BP                                                                  \n",
              "319 4th Floor Tylers House, Tylers Avenue, Southend-On-Sea, Essex, SS1 2BB                                        \n",
              "320 HR Department, Peninsular House, Wharf Rd, Portsmouth, PO2 8HB                                                \n",
              "321 Voyage Care Wall Island, Birmingham Road, Lichfield, Staffordshire, WS14 0QP                                  \n",
              "322 Unit 28 Apex Business Village, Cramlington, Northumberland, NE23 7BF                                          \n",
              "323 The Wallich - Cardiff Hub, 18 Park Place, Cardiff, Wales, CF10 3DQ                                            \n",
              "324 The Bursary, Wells Cathedral School, College Road, Wells, Somerset, BA5 2SX                                   \n",
              "325 Eagle Plant, Beeching Close, Chard, Somerset, TA20 1BB                                                        \n",
              "326 2 Providence Place, West Bromwich, West Midlands, B708AF                                                      \n",
              "327 2 Vincent Way, Raikes Lane, Bolton, BL3 2NB                                                                   \n",
              "328 Winn Solicitors, Brinkburn, Street, Byker, Newcastle Upon Tyne, Tyne & Wear, NE6 1PL                          \n",
              "329 High Street, Worcester, WR1 2EY                                                                               \n",
              "330 Civic Centre, Barras Bridge, Newcastle Upon Tyne, Tyne & Wear, NE1 8PR                                        \n",
              "331 Northdown House, Northdown Park Road, Margate, CT9 3TP                                                        \n",
              "    ZipCode  CompanyID SicCodes                      DiffMeanHourlyPercent\n",
              "1   CB8 7QT  00689647  46720                          16.2                \n",
              "2   W1K 4QY  01400901  10890                          -8.6                \n",
              "3   RG21 7PU 02638307  78200                          -3.0                \n",
              "4   SW1H 0TL           1,\\n84110                       7.2                \n",
              "5   B60 4JE  04049180  64999                          25.0                \n",
              "6   NE63 9JZ 03639406  88100                          -3.8                \n",
              "7   WD3 1HG                                           25.0                \n",
              "8   CA14 3YJ           1,\\n84110                       9.5                \n",
              "9   S63 0JF  11631174  78300                          15.0                \n",
              "10  SG6 2AE  03214479  56101,\\n56302                   9.2                \n",
              "11  NR6 6EU  02540020  43342                          15.0                \n",
              "12  WA7 1TG  01972451  28120,\\n30300                   3.6                \n",
              "13  FK3 8YE  SC236136  71200                          50.6                \n",
              "14  L1 4EZ   06626815  78300                           1.9                \n",
              "15  HP10 9TY 00019300  58130,\\n58190                  14.5                \n",
              "16  RH17 6SQ 03779971  85200,\\n85310,\\n85590           5.6                \n",
              "17  PE27 4NB 04069053  93199                          22.9                \n",
              "18  CV11 4NG 03418673  32990                          -1.8                \n",
              "19  SW1X 0JD 07246090  92000                          -1.6                \n",
              "20  EC4R 9AN 03744357  86900,\\n93110,\\n93130           4.2                \n",
              "21  BS1 4XE  05788965  78109                         -10.0                \n",
              "22  EN1 4UF  11420376  85200,\\n85310                  16.9                \n",
              "23  L30 4XR  02436777  85200,\\n85310,\\n87300,\\n88990  -1.7                \n",
              "24  B10 0HJ  01839239  62012                          22.0                \n",
              "25  CV37 8BH 01610943  1470                           13.4                \n",
              "26  EH28 8SZ SC065463  1470                           13.4                \n",
              "27  UB7 0GB  02260073  82990                          22.0                \n",
              "28  EC2R 8AH           1,\\n84110                      18.5                \n",
              "29  BS8 4AE  01385930  86102                          -7.5                \n",
              "30  RM7 0XU            1,\\n85320                       4.5                \n",
              "⋮   ⋮        ⋮         ⋮                             ⋮                    \n",
              "302 NG17 8HP 07972029  85310                          21.8                \n",
              "303 RH14 9RY           1,\\n85310                       8.4                \n",
              "304 CV32 7NQ 01569491                                  5.0                \n",
              "305 CV32 7NQ 00387579  28220                           5.0                \n",
              "306 RM13 9YQ 00990202  10611                          12.6                \n",
              "307 SE1 9RG  06472420  70229                          18.7                \n",
              "308 CF37 4TH                                          19.1                \n",
              "309 FY2 0BG  01537498  86101,\\n86220                  -4.5                \n",
              "310 G75 0QF  SC215164  74909                          20.8                \n",
              "311          IP26511R                                 -7.0                \n",
              "312 B98 9HL  02141243  29320                          19.2                \n",
              "313 W6 7AP   04266373  60200                          16.1                \n",
              "314 RG24 8AH 02117901  71200                          10.5                \n",
              "315 DG11 3BG SC192044  70229                          22.0                \n",
              "316 WC1V 7EY           1,\\n85421                       0.0                \n",
              "317 CF63 4RU           1,\\n84110                       4.7                \n",
              "318 TW9 1BP  05728008  70100                          11.5                \n",
              "319 SS1 2BB  06908560  82200                          18.1                \n",
              "320 PO2 8HB  RS007544                                  2.9                \n",
              "321 WS14 0QP 02215899  87200,\\n88100                   3.6                \n",
              "322 NE23 7BF 02860364  56102                           7.2                \n",
              "323 CF10 3DQ 02642780  87200,\\n88990                   4.0                \n",
              "324 BA5 2SX  00564883  85100,\\n85200,\\n85310,\\n85520  30.0                \n",
              "325 TA20 1BB 01540286  77320                          10.8                \n",
              "326 B708AF             64192                          39.1                \n",
              "327 BL3 2NB  00597708  45111,\\n45112,\\n45200,\\n45320  21.5                \n",
              "328 NE6 1PL  05084463  69102                          19.5                \n",
              "329 WR1 2EY            1,\\n84110                      -1.3                \n",
              "330 NE1 8PR  05076256  68201                          -3.7                \n",
              "331 CT9 3TP  IP28889R                                -14.9                \n",
              "    DiffMedianHourlyPercent DiffMeanBonusPercent DiffMedianBonusPercent ⋯\n",
              "1     3.3                    -20.0                 0.0                  ⋯\n",
              "2   -12.3                     10.3               -20.8                  ⋯\n",
              "3     3.2                       NA                  NA                  ⋯\n",
              "4     6.1                     19.4                 9.9                  ⋯\n",
              "5    32.0                    -33.0                69.0                  ⋯\n",
              "6     0.0                       NA                  NA                  ⋯\n",
              "7    49.0                       NA                  NA                  ⋯\n",
              "8    17.0                       NA                  NA                  ⋯\n",
              "9    25.0                     -1.0               -23.0                  ⋯\n",
              "10    0.0                     25.0                12.5                  ⋯\n",
              "11   12.9                     53.6                77.0                  ⋯\n",
              "12   -6.4                   -199.9               -29.1                  ⋯\n",
              "13   56.0                     26.6                 0.0                  ⋯\n",
              "14    1.2                      1.9                 0.0                  ⋯\n",
              "15   15.8                     21.8                31.2                  ⋯\n",
              "16    1.3                     13.0                20.8                  ⋯\n",
              "17   21.8                     88.9                70.8                  ⋯\n",
              "18   12.9                    -58.1                 0.0                  ⋯\n",
              "19    0.0                       NA                  NA                  ⋯\n",
              "20   -7.3                       NA                  NA                  ⋯\n",
              "21   16.0                       NA                  NA                  ⋯\n",
              "22   40.9                       NA                  NA                  ⋯\n",
              "23    0.0                       NA                  NA                  ⋯\n",
              "24   29.1                     26.5                45.5                  ⋯\n",
              "25    0.1                     50.0                11.8                  ⋯\n",
              "26    5.3                     32.2                12.0                  ⋯\n",
              "27   22.0                     34.0                19.0                  ⋯\n",
              "28   20.1                     23.1                24.8                  ⋯\n",
              "29    0.0                       NA                  NA                  ⋯\n",
              "30    9.9                      6.9               -15.2                  ⋯\n",
              "⋮   ⋮                       ⋮                    ⋮                      ⋱\n",
              "302  44.8                      NA                   NA                  ⋯\n",
              "303   3.8                      NA                   NA                  ⋯\n",
              "304   8.5                    19.1                  0.0                  ⋯\n",
              "305   8.5                    19.1                  0.0                  ⋯\n",
              "306   6.9                    11.4                  1.0                  ⋯\n",
              "307  18.5                      NA                   NA                  ⋯\n",
              "308  32.8                    30.3                -83.1                  ⋯\n",
              "309 -20.3                    50.0                 50.0                  ⋯\n",
              "310  24.6                    -3.2                  0.0                  ⋯\n",
              "311  -8.6                     3.3                 -5.7                  ⋯\n",
              "312  12.0                      NA                   NA                  ⋯\n",
              "313  20.7                   -33.3                -33.0                  ⋯\n",
              "314  12.1                    18.8                 19.2                  ⋯\n",
              "315   0.0                      NA                   NA                  ⋯\n",
              "316   2.4                      NA                   NA                  ⋯\n",
              "317   5.7                      NA                   NA                  ⋯\n",
              "318   5.7                    14.9                  5.9                  ⋯\n",
              "319   0.0                    59.3                 28.9                  ⋯\n",
              "320   0.9                    32.5                 25.6                  ⋯\n",
              "321   0.4                    56.9                  0.0                  ⋯\n",
              "322   0.3                     2.5                  2.9                  ⋯\n",
              "323   0.0                     4.1                  0.0                  ⋯\n",
              "324  57.0                      NA                   NA                  ⋯\n",
              "325   9.2                    30.7                 31.8                  ⋯\n",
              "326  35.2                    75.8                 43.4                  ⋯\n",
              "327  23.0                    53.1                 78.9                  ⋯\n",
              "328   3.7                    47.5                 35.0                  ⋯\n",
              "329  -6.1                      NA                   NA                  ⋯\n",
              "330 -11.4                      NA                   NA                  ⋯\n",
              "331   9.6                      NA                   NA                  ⋯\n",
              "    FemaleUpperMiddleQuartile MaleTopQuartile FemaleTopQuartile\n",
              "1   10.8                      87.1            12.9             \n",
              "2   33.7                      44.6            55.4             \n",
              "3   21.5                      80.9            19.1             \n",
              "4   63.2                      51.8            48.2             \n",
              "5   59.0                      60.0            40.0             \n",
              "6   79.0                      27.0            73.0             \n",
              "7   74.0                      26.0            74.0             \n",
              "8   67.0                      50.0            50.0             \n",
              "9    0.6                      96.7             3.3             \n",
              "10  60.2                      68.6            31.4             \n",
              "11  21.5                      87.0            13.0             \n",
              "12  14.3                      90.0            10.0             \n",
              "13   1.3                      98.7             1.3             \n",
              "14  51.0                      40.0            60.0             \n",
              "15  51.1                      52.0            48.0             \n",
              "16  62.5                      44.2            55.8             \n",
              "17  12.9                      88.5            11.5             \n",
              "18  12.1                      81.8            18.2             \n",
              "19  31.0                      65.0            35.0             \n",
              "20  82.0                      41.0            59.0             \n",
              "21   1.0                      97.0             3.0             \n",
              "22  84.3                      14.1            85.9             \n",
              "23  60.9                      36.1            63.9             \n",
              "24  14.7                      83.2            16.8             \n",
              "25  24.5                      77.8            22.2             \n",
              "26  38.6                      69.9            30.1             \n",
              "27  76.0                      64.0            36.0             \n",
              "28  40.0                      67.0            33.0             \n",
              "29  66.3                      47.0            53.0             \n",
              "30  54.0                      44.0            56.0             \n",
              "⋮   ⋮                         ⋮               ⋮                \n",
              "302 68.0                      42.0            58.0             \n",
              "303 76.3                      32.3            67.7             \n",
              "304  2.0                      92.0             8.0             \n",
              "305  2.0                      92.0             8.0             \n",
              "306 18.3                      71.7            28.3             \n",
              "307 42.0                      63.0            37.0             \n",
              "308 35.0                      76.0            24.0             \n",
              "309 90.0                      16.4            83.6             \n",
              "310 21.8                      83.9            16.1             \n",
              "311 72.3                      22.0            78.0             \n",
              "312 17.0                      82.0            18.0             \n",
              "313 47.1                      55.7            44.3             \n",
              "314 22.0                      83.0            17.0             \n",
              "315 26.0                      68.0            32.0             \n",
              "316 56.2                      38.9            61.1             \n",
              "317 66.0                      36.0            64.0             \n",
              "318 53.0                      64.0            36.0             \n",
              "319 58.6                      42.3            57.7             \n",
              "320 45.9                      59.1            40.9             \n",
              "321 75.0                      25.0            75.0             \n",
              "322 42.0                      54.6            45.4             \n",
              "323 63.7                      38.0            62.0             \n",
              "324 63.0                      42.0            58.0             \n",
              "325  2.0                      94.0             6.0             \n",
              "326 57.7                      63.8            36.2             \n",
              "327 11.0                      92.0             8.0             \n",
              "328 56.6                      51.3            48.7             \n",
              "329 57.0                      42.5            57.5             \n",
              "330 70.5                      45.9            54.1             \n",
              "331 51.7                      28.3            71.7             \n",
              "    CompanyLinkToGPGInfo                                                                                                                        \n",
              "1   https://www.ajnsteelstock.co.uk/wp-content/uploads/2022/10/2022-Gender-Pay-Gap-Report.pdf                                                   \n",
              "2   https://abworldfoods.com/documents/ABWF_Gender_Pay_Gap_Narrative_2022.pdf                                                                   \n",
              "3   http://www.abacus-employment.com                                                                                                            \n",
              "4   https://www.acas.org.uk/acas-gender-pay-report/2021-to-2022-report                                                                          \n",
              "5                                                                                                                                               \n",
              "6   https://www.ageuk.org.uk/northumberland/about-us/join-us/                                                                                   \n",
              "7   http://ascatonline.co.uk                                                                                                                    \n",
              "8   https://www.allerdale.gov.uk/en/about-council/equality-duty/                                                                                \n",
              "9                                                                                                                                               \n",
              "10  https://www.acinns.co.uk                                                                                                                    \n",
              "11  https://www.anglianhome.co.uk/legal/gender-pay-gap-reporting                                                                                \n",
              "12  http://apph.com                                                                                                                             \n",
              "13                                                                                                                                              \n",
              "14                                                                                                                                              \n",
              "15                                                                                                                                              \n",
              "16  https://www.ardingly.com/staff-recruitment/gender-pay-gap/                                                                                  \n",
              "17                                                                                                                                              \n",
              "18  https://www.arrkeurope.com/fileadmin/user_upload/Company/arrk-companys/arrk-europe-limited/ARRK_Europe_Ltd._Gender_Pay_Report_April_2022.pdf\n",
              "19  https://www.aspersstratford.co.uk/terms-conditions-policies.html#gender-pay-gap-report                                                      \n",
              "20                                                                                                                                              \n",
              "21  https://atlasprofessionals.com/static/files/Atlas%20Professionals%20UK%20Ltd%20Pay%20Gap%20Report%202021.pdf                                \n",
              "22  https://www.attigoacademytrust.co.uk/                                                                                                       \n",
              "23  https://www.autisminitiatives.org                                                                                                           \n",
              "24                                                                                                                                              \n",
              "25                                                                                                                                              \n",
              "26                                                                                                                                              \n",
              "27  https://25102283.fs1.hubspotusercontent-eu1.net/hubfs/25102283/Website%20Assets/Downloads/Gender-Pay-Gap-report-2022-FINAL%20(1).pdf        \n",
              "28  https://www.bankofengland.co.uk/annual-report/2022                                                                                          \n",
              "29  https://cedarcarehomes.co.uk/gender-pay-gap-2022/                                                                                           \n",
              "30  http://www.barkingdagenhamcollege.ac.uk                                                                                                     \n",
              "⋮   ⋮                                                                                                                                           \n",
              "302 https://www.ttct.co.uk/                                                                                                                     \n",
              "303 https://www.theweald.org.uk/abouttheweald                                                                                                   \n",
              "304                                                                                                                                             \n",
              "305 https://thwaitesdumpers.co.uk/company/policies/gender-pay-report/                                                                           \n",
              "306                                                                                                                                             \n",
              "307                                                                                                                                             \n",
              "308                                                                                                                                             \n",
              "309 https://www.trinityhospice.co.uk/app/uploads/2022/09/2208-Gender-Pay-Gap-2021-2022.pdf                                                      \n",
              "310                                                                                                                                             \n",
              "311                                                                                                                                             \n",
              "312 https://www.uk-nsi.co.uk/                                                                                                                   \n",
              "313 https://uktv-static.s3.amazonaws.com/fgprod/corporate/corporate_downloads/pay-gap-report-2022.pdf                                           \n",
              "314                                                                                                                                             \n",
              "315 https://paygap@equalityhumanrights.com                                                                                                      \n",
              "316 https://www.arts.ac.uk/about-ual/public-information/equality-objectives-and-reports                                                         \n",
              "317                                                                                                                                             \n",
              "318 https://vegnergroup.com/equal-opportunities/                                                                                                \n",
              "319                                                                                                                                             \n",
              "320 https://www.vividhomes.co.uk/about-us/transparency                                                                                          \n",
              "321 http://www.voyagecare.com                                                                                                                   \n",
              "322                                                                                                                                             \n",
              "323 https://thewallich.com/gender-pay-gap/                                                                                                      \n",
              "324                                                                                                                                             \n",
              "325                                                                                                                                             \n",
              "326 https://www.westbrom.co.uk/about-us/corporate-governance/gender-pay-reporting                                                               \n",
              "327                                                                                                                                             \n",
              "328 https://winngroup.co.uk/working-at-winn-group/#equal-opportunities                                                                          \n",
              "329 https://www.worcester.gov.uk/jobs-careers/equality-inclusion                                                                                \n",
              "330                                                                                                                                             \n",
              "331 https://yourleisure.uk.com/                                                                                                                 \n",
              "    ResponsiblePerson                                    EmployerSize  \n",
              "1   Courtney Bell (FD)                                   250 to 499    \n",
              "2   Andy Mayhew (Managing Director)                      250 to 499    \n",
              "3   Phil James (Finance Manager)                         250 to 499    \n",
              "4                                                        1000 to 4999  \n",
              "5   Alison Court (Senior HR Adviser)                     500 to 999    \n",
              "6   Sarah Turner (Head of Finance)                       250 to 499    \n",
              "7                                                        250 to 499    \n",
              "8                                                        Less than 250 \n",
              "9   Padraig Somers (CEO - UK & Nordics)                  5000 to 19,999\n",
              "10  Susanne McGregor (Payroll Manager)                   250 to 499    \n",
              "11  Lisa Walsh (Group HR Director)                       1000 to 4999  \n",
              "12  Julie Andrew (Human Resources Director)              250 to 499    \n",
              "13  Evelyn Grogan (Head of HR)                           250 to 499    \n",
              "14  Vicky Gardner (Head of Accounts)                     5000 to 19,999\n",
              "15  Alison Rich (Director of HR)                         500 to 999    \n",
              "16  Robert Haynes Brown (Chairman)                       250 to 499    \n",
              "17  Oxana Vladimirskaya (Group HR Manager - UK & Europe) 250 to 499    \n",
              "18  Simon Holmes (Finance Director)                      Less than 250 \n",
              "19  Richard Noble (CEO)                                  500 to 999    \n",
              "20  Tasha Webster (Director of Operations)               Less than 250 \n",
              "21  Matt Riding (Group Commercial Director)              250 to 499    \n",
              "22  Wendy Ochs (CFO/COO)                                 250 to 499    \n",
              "23  Andrew Grainger (Chief Executive)                    1000 to 4999  \n",
              "24  Lisa Holroyd (Manager, People Services)              500 to 999    \n",
              "25  Debbie Watson (Head of HR)                           250 to 499    \n",
              "26  Debbie Watson (Head of HR)                           250 to 499    \n",
              "27  Helen Miller (Chief People Officer)                  250 to 499    \n",
              "28                                                       1000 to 4999  \n",
              "29  Ganesh Gudka (Chief Finance Officer)                 250 to 499    \n",
              "30                                                       250 to 499    \n",
              "⋮   ⋮                                                    ⋮             \n",
              "302                                                      1000 to 4999  \n",
              "303                                                      250 to 499    \n",
              "304 Simon Hill (Managing Director)                       250 to 499    \n",
              "305 Simon Hill (Managing Director)                       250 to 499    \n",
              "306 Jean-Philippe Laborde (Managing Director)            250 to 499    \n",
              "307 Bryony Wilde (Purpose Director)                      250 to 499    \n",
              "308                                                      500 to 999    \n",
              "309 Martin Clapperton (Interim Finance Director)         250 to 499    \n",
              "310 Christopher Guy (CEO, UK & Ireland)                  250 to 499    \n",
              "311 Dawn Gold (HR Manager)                               250 to 499    \n",
              "312 Victoria Powles (HR Operations Manager)              Less than 250 \n",
              "313 Marcus Arthur (CEO)                                  250 to 499    \n",
              "314 Gitte Schjotz (Director of UL VS Ltd)                250 to 499    \n",
              "315 Helen Little (Finance Director)                      250 to 499    \n",
              "316                                                      5000 to 19,999\n",
              "317                                                      1000 to 4999  \n",
              "318 Richard Scott (HR Director)                          500 to 999    \n",
              "319 Stephen West (Chief Operating Officer)               500 to 999    \n",
              "320 Duncan Short (Director of Resources)                 500 to 999    \n",
              "321 Laura Jordan (Legal Director and Company Secretary)  5000 to 19,999\n",
              "322 SARA DAVIS (PAYROLL MANAGER)                         500 to 999    \n",
              "323 Lindsay Cordery-Bruce (Chief Executive Officer)      250 to 499    \n",
              "324 Bethan Drake (PA to the Bursar)                      250 to 499    \n",
              "325 Gary Parfoot (Director)                              250 to 499    \n",
              "326 Sophie Pazzaglia (Divisional Director HR)            500 to 999    \n",
              "327 Andrew Seymour (Group Accountant)                    500 to 999    \n",
              "328 Colette Gardner (Group Head of HR)                   250 to 499    \n",
              "329                                                      250 to 499    \n",
              "330 Tina Drury (YHN Managing Director)                   500 to 999    \n",
              "331 Debbie Barker (Head of HR)                           Less than 250 \n",
              "    CurrentName                                                            \n",
              "1   A.J.N. STEELSTOCK LTD.                                                 \n",
              "2   AB WORLD FOODS LIMITED                                                 \n",
              "3   ABACUS EMPLOYMENT SERVICES LIMITED                                     \n",
              "4   Advisory, Conciliation and Arbitration Service                         \n",
              "5   AFH INDEPENDENT FINANCIAL SERVICES LIMITED                             \n",
              "6   AGE UK NORTHUMBERLAND                                                  \n",
              "7   All Saints Catholic Academy Trust                                      \n",
              "8   Allerdale Borough Council                                              \n",
              "9   ALTRAD EMPLOYMENT SERVICES LIMITED                                     \n",
              "10  ANGLIAN COUNTRY INNS LIMITED                                           \n",
              "11  ANGLIAN WINDOWS LIMITED                                                \n",
              "12  APPH LIMITED                                                           \n",
              "13  APPLUS UK LTD                                                          \n",
              "14  ARC HOSPITALITY RECRUITMENT SOLUTIONS LTD                              \n",
              "15  ARCHANT COMMUNITY MEDIA LIMITED                                        \n",
              "16  ARDINGLY COLLEGE LIMITED                                               \n",
              "17  ARENA EVENT SERVICES GROUP LIMITED                                     \n",
              "18  ARRK EUROPE LIMITED                                                    \n",
              "19  ASPERS (STRATFORD CITY) LIMITED                                        \n",
              "20  ASSOCIATION FOR SPINAL INJURY RESEARCH REHABILITATION AND REINTEGRATION\n",
              "21  ATLAS PROFESSIONALS UK LIMITED                                         \n",
              "22  ATTIGO ACADEMY TRUST                                                   \n",
              "23  AUTISM INITIATIVES (UK)                                                \n",
              "24  AUTODESK LIMITED                                                       \n",
              "25  AVIAGEN LIMITED                                                        \n",
              "26  AVIAGEN UK LIMITED                                                     \n",
              "27  AVIOS GROUP (AGL) LIMITED                                              \n",
              "28  Bank of England                                                        \n",
              "29  BARKER CARE LIMITED                                                    \n",
              "30  Barking & Dagenham College                                             \n",
              "⋮   ⋮                                                                      \n",
              "302 THE TWO COUNTIES TRUST                                                 \n",
              "303 The Weald School                                                       \n",
              "304 THWAITES ENGINEERING CO LIMITED                                        \n",
              "305 THWAITES LIMITED                                                       \n",
              "306 TILDA LIMITED                                                          \n",
              "307 TPXIMPACT LIMITED                                                      \n",
              "308 Transport for Wales Group                                              \n",
              "309 TRINITY HOSPICE AND PALLIATIVE CARE SERVICES LTD                       \n",
              "310 TUV SUD LIMITED                                                        \n",
              "311 TWO SAINTS LIMITED                                                     \n",
              "312 UK-NSI CO. LIMITED                                                     \n",
              "313 UKTV MEDIA LIMITED                                                     \n",
              "314 UL VS LIMITED                                                          \n",
              "315 UMBRELLA CONTRACTS LIMITED                                             \n",
              "316 University of the Arts, London                                         \n",
              "317 Vale of Glamorgan Council                                              \n",
              "318 VEGNER GROUP LIMITED                                                   \n",
              "319 VENTRICA LTD                                                           \n",
              "320 VIVID HOUSING LIMITED                                                  \n",
              "321 VOYAGE 1 LIMITED                                                       \n",
              "322 W. LIDDY & COMPANY LIMITED                                             \n",
              "323 WALLICH-CLIFFORD COMMUNITY                                             \n",
              "324 WELLS CATHEDRAL SCHOOL, LIMITED                                        \n",
              "325 WESSEX EAGLE LIMITED                                                   \n",
              "326 West Bromwich Building Society                                         \n",
              "327 WILLIAMS MOTOR CO.(HOLDINGS)LIMITED                                    \n",
              "328 WINN SOLICITORS LIMITED                                                \n",
              "329 Worcester City Council                                                 \n",
              "330 YOUR HOMES NEWCASTLE LIMITED                                           \n",
              "331 YOUR LEISURE KENT LIMITED                                              \n",
              "    SubmittedAfterTheDeadline DueDate             DateSubmitted      \n",
              "1   False                     2023/04/05 00:00:00 2022/10/11 15:34:17\n",
              "2   False                     2023/04/05 00:00:00 2022/09/30 09:45:25\n",
              "3   False                     2023/04/05 00:00:00 2022/04/13 14:57:04\n",
              "4   False                     2023/03/31 00:00:00 2022/08/01 13:15:17\n",
              "5   False                     2023/04/05 00:00:00 2022/05/20 11:24:09\n",
              "6   False                     2023/04/05 00:00:00 2022/09/26 08:29:12\n",
              "7   False                     2023/03/31 00:00:00 2022/07/05 10:48:22\n",
              "8   False                     2023/03/31 00:00:00 2022/06/13 16:13:15\n",
              "9   False                     2023/04/05 00:00:00 2022/05/11 14:11:25\n",
              "10  False                     2023/04/05 00:00:00 2022/10/03 14:02:45\n",
              "11  False                     2023/04/05 00:00:00 2022/10/20 12:52:59\n",
              "12  False                     2023/04/05 00:00:00 2022/09/12 09:24:36\n",
              "13  False                     2023/04/05 00:00:00 2022/04/05 09:00:52\n",
              "14  False                     2023/04/05 00:00:00 2022/09/28 15:23:07\n",
              "15  False                     2023/04/05 00:00:00 2022/06/17 08:37:11\n",
              "16  False                     2023/04/05 00:00:00 2022/08/12 12:56:19\n",
              "17  False                     2023/04/05 00:00:00 2022/08/23 12:28:00\n",
              "18  False                     2023/04/05 00:00:00 2022/05/04 15:52:35\n",
              "19  False                     2023/04/05 00:00:00 2022/07/04 10:10:43\n",
              "20  False                     2023/04/05 00:00:00 2022/04/20 16:03:50\n",
              "21  False                     2023/04/05 00:00:00 2022/06/13 14:56:19\n",
              "22  False                     2023/04/05 00:00:00 2022/10/20 21:18:11\n",
              "23  False                     2023/04/05 00:00:00 2022/09/22 11:00:08\n",
              "24  False                     2023/04/05 00:00:00 2022/09/21 15:20:54\n",
              "25  False                     2023/04/05 00:00:00 2022/06/30 11:28:48\n",
              "26  False                     2023/04/05 00:00:00 2022/06/30 11:30:44\n",
              "27  False                     2023/04/05 00:00:00 2022/10/12 10:29:22\n",
              "28  False                     2023/03/31 00:00:00 2022/06/23 17:12:15\n",
              "29  False                     2023/04/05 00:00:00 2022/06/06 17:08:32\n",
              "30  False                     2023/03/31 00:00:00 2022/09/28 15:21:29\n",
              "⋮   ⋮                         ⋮                   ⋮                  \n",
              "302 False                     2023/03/31 00:00:00 2022/08/26 09:45:34\n",
              "303 False                     2023/03/31 00:00:00 2022/08/19 13:40:11\n",
              "304 False                     2023/04/05 00:00:00 2022/05/23 10:21:33\n",
              "305 False                     2023/04/05 00:00:00 2022/05/27 08:51:00\n",
              "306 False                     2023/04/05 00:00:00 2022/04/05 21:01:12\n",
              "307 False                     2023/04/05 00:00:00 2022/08/17 14:34:06\n",
              "308 False                     2023/03/31 00:00:00 2022/10/18 10:44:07\n",
              "309 False                     2023/04/05 00:00:00 2022/09/01 10:54:04\n",
              "310 False                     2023/04/05 00:00:00 2022/08/01 14:32:04\n",
              "311 False                     2023/04/05 00:00:00 2022/10/05 16:13:40\n",
              "312 False                     2023/04/05 00:00:00 2022/04/21 11:56:48\n",
              "313 False                     2023/04/05 00:00:00 2022/07/13 18:44:18\n",
              "314 False                     2023/04/05 00:00:00 2022/09/06 04:53:25\n",
              "315 False                     2023/04/05 00:00:00 2022/09/06 11:55:44\n",
              "316 False                     2023/03/31 00:00:00 2022/04/25 14:51:18\n",
              "317 False                     2023/03/31 00:00:00 2022/09/14 12:21:53\n",
              "318 False                     2023/04/05 00:00:00 2022/08/23 12:58:28\n",
              "319 False                     2023/04/05 00:00:00 2022/04/06 13:01:37\n",
              "320 False                     2023/04/05 00:00:00 2022/10/06 15:14:14\n",
              "321 False                     2023/04/05 00:00:00 2022/10/06 12:02:43\n",
              "322 False                     2023/04/05 00:00:00 2022/05/10 10:52:44\n",
              "323 False                     2023/04/05 00:00:00 2022/07/04 13:56:12\n",
              "324 False                     2023/04/05 00:00:00 2022/05/17 11:24:01\n",
              "325 False                     2023/04/05 00:00:00 2022/04/08 14:37:21\n",
              "326 False                     2023/04/05 00:00:00 2022/08/23 14:45:42\n",
              "327 False                     2023/04/05 00:00:00 2022/08/02 17:30:00\n",
              "328 False                     2023/04/05 00:00:00 2022/10/19 14:01:38\n",
              "329 False                     2023/03/31 00:00:00 2022/07/07 15:43:10\n",
              "330 False                     2023/04/05 00:00:00 2022/06/17 09:02:43\n",
              "331 False                     2023/04/05 00:00:00 2022/09/26 12:12:53"
            ]
          },
          "metadata": {}
        }
      ]
    },
    {
      "cell_type": "markdown",
      "source": [
        "# 3.1.7 Piping\n",
        "The pipe operator, `[%>%]`, is useful for performing functions simultaneously.\n",
        "\n",
        "Theoretically: say you have an object, x, and you want to perform three functions on it: `f()`,` g()`, and `h()`. You could do:\n",
        "\n",
        "- `f(x)`\n",
        "- `g(x)`\n",
        "- `h(x)`\n",
        "\n",
        "\n",
        "Running these three lines of code sequentially would the run x through f(), then run the result through g(), then run that result through h(). A cleaner way to do this is by running it all in one ‘pipe’:\n",
        "\n",
        "`x %>% f() %>% g() %>% h()`\n"
      ],
      "metadata": {
        "id": "Smi9NSkeI6JV"
      }
    },
    {
      "cell_type": "code",
      "source": [
        "# E.g. say you want to take the paygap, filter for False in SubmittedAfterTheDeadline, change EmployerSize column\n",
        "paygap <- paygap %>%\n",
        "  filter(SubmittedAfterTheDeadline == \"False\") %>%\n",
        "  select(-EmployerSize) %>%\n",
        "  mutate(paygap, EmployerSize = ifelse(\"EmployerSize\" == \"250 to 499\", 'Small', NA))"
      ],
      "metadata": {
        "id": "ECbWM1dBAK1F"
      },
      "execution_count": 191,
      "outputs": []
    },
    {
      "cell_type": "code",
      "source": [
        "head(paygap, head=10)"
      ],
      "metadata": {
        "colab": {
          "base_uri": "https://localhost:8080/",
          "height": 810
        },
        "id": "jUob8iOULbcD",
        "outputId": "061cbadc-dcd4-4adb-8400-a9489b98add1"
      },
      "execution_count": 190,
      "outputs": [
        {
          "output_type": "display_data",
          "data": {
            "text/html": [
              "<table class=\"dataframe\">\n",
              "<caption>A data.frame: 6 × 27</caption>\n",
              "<thead>\n",
              "\t<tr><th></th><th scope=col>EmployerName</th><th scope=col>EmployerId</th><th scope=col>Location</th><th scope=col>ZipCode</th><th scope=col>CompanyID</th><th scope=col>SicCodes</th><th scope=col>DiffMeanHourlyPercent</th><th scope=col>DiffMedianHourlyPercent</th><th scope=col>DiffMeanBonusPercent</th><th scope=col>DiffMedianBonusPercent</th><th scope=col>⋯</th><th scope=col>FemaleUpperMiddleQuartile</th><th scope=col>MaleTopQuartile</th><th scope=col>FemaleTopQuartile</th><th scope=col>CompanyLinkToGPGInfo</th><th scope=col>ResponsiblePerson</th><th scope=col>CurrentName</th><th scope=col>SubmittedAfterTheDeadline</th><th scope=col>DueDate</th><th scope=col>DateSubmitted</th><th scope=col>EmployerSize</th></tr>\n",
              "\t<tr><th></th><th scope=col>&lt;chr&gt;</th><th scope=col>&lt;int&gt;</th><th scope=col>&lt;chr&gt;</th><th scope=col>&lt;chr&gt;</th><th scope=col>&lt;chr&gt;</th><th scope=col>&lt;chr&gt;</th><th scope=col>&lt;dbl&gt;</th><th scope=col>&lt;dbl&gt;</th><th scope=col>&lt;dbl&gt;</th><th scope=col>&lt;dbl&gt;</th><th scope=col>⋯</th><th scope=col>&lt;dbl&gt;</th><th scope=col>&lt;dbl&gt;</th><th scope=col>&lt;dbl&gt;</th><th scope=col>&lt;chr&gt;</th><th scope=col>&lt;chr&gt;</th><th scope=col>&lt;chr&gt;</th><th scope=col>&lt;chr&gt;</th><th scope=col>&lt;chr&gt;</th><th scope=col>&lt;chr&gt;</th><th scope=col>&lt;lgl&gt;</th></tr>\n",
              "</thead>\n",
              "<tbody>\n",
              "\t<tr><th scope=row>1</th><td>A.J.N. STEELSTOCK LTD.                        </td><td>14835</td><td>Icknield Way, Kentford, Newmarket, Suffolk, CB8 7QT                                   </td><td>CB8 7QT </td><td>00689647</td><td>46720    </td><td>16.2</td><td>  3.3</td><td>-20.0</td><td>  0.0</td><td>⋯</td><td>10.8</td><td>87.1</td><td>12.9</td><td>https://www.ajnsteelstock.co.uk/wp-content/uploads/2022/10/2022-Gender-Pay-Gap-Report.pdf</td><td>Courtney Bell (FD)              </td><td>A.J.N. STEELSTOCK LTD.                        </td><td>False</td><td>2023/04/05 00:00:00</td><td>2022/10/11 15:34:17</td><td>NA</td></tr>\n",
              "\t<tr><th scope=row>2</th><td>AB WORLD FOODS LIMITED                        </td><td>  764</td><td>Weston Centre, 10 Grosvenor Street, London, W1K 4QY                                   </td><td>W1K 4QY </td><td>01400901</td><td>10890    </td><td>-8.6</td><td>-12.3</td><td> 10.3</td><td>-20.8</td><td>⋯</td><td>33.7</td><td>44.6</td><td>55.4</td><td>https://abworldfoods.com/documents/ABWF_Gender_Pay_Gap_Narrative_2022.pdf                </td><td>Andy Mayhew (Managing Director) </td><td>AB WORLD FOODS LIMITED                        </td><td>False</td><td>2023/04/05 00:00:00</td><td>2022/09/30 09:45:25</td><td>NA</td></tr>\n",
              "\t<tr><th scope=row>3</th><td>ABACUS EMPLOYMENT SERVICES LIMITED            </td><td>  767</td><td>1 Chequers Road, Basingstoke, Hampshire, England, RG21 7PU                            </td><td>RG21 7PU</td><td>02638307</td><td>78200    </td><td>-3.0</td><td>  3.2</td><td>   NA</td><td>   NA</td><td>⋯</td><td>21.5</td><td>80.9</td><td>19.1</td><td>http://www.abacus-employment.com                                                         </td><td>Phil James (Finance Manager)    </td><td>ABACUS EMPLOYMENT SERVICES LIMITED            </td><td>False</td><td>2023/04/05 00:00:00</td><td>2022/04/13 14:57:04</td><td>NA</td></tr>\n",
              "\t<tr><th scope=row>4</th><td>Advisory, Conciliation and Arbitration Service</td><td>  496</td><td>8th Floor, Windsor House, 50 Victoria Street, London, London, United Kingdom, SW1H 0TL</td><td>SW1H 0TL</td><td>        </td><td>1,\n",
              "84110</td><td> 7.2</td><td>  6.1</td><td> 19.4</td><td>  9.9</td><td>⋯</td><td>63.2</td><td>51.8</td><td>48.2</td><td>https://www.acas.org.uk/acas-gender-pay-report/2021-to-2022-report                       </td><td>                                </td><td>Advisory, Conciliation and Arbitration Service</td><td>False</td><td>2023/03/31 00:00:00</td><td>2022/08/01 13:15:17</td><td>NA</td></tr>\n",
              "\t<tr><th scope=row>5</th><td>AFH INDEPENDENT FINANCIAL SERVICES LIMITED    </td><td>19364</td><td>Afh House Buntsford Drive, Stoke Heath, Bromsgrove, Worcestershire, B60 4JE           </td><td>B60 4JE </td><td>04049180</td><td>64999    </td><td>25.0</td><td> 32.0</td><td>-33.0</td><td> 69.0</td><td>⋯</td><td>59.0</td><td>60.0</td><td>40.0</td><td>                                                                                         </td><td>Alison Court (Senior HR Adviser)</td><td>AFH INDEPENDENT FINANCIAL SERVICES LIMITED    </td><td>False</td><td>2023/04/05 00:00:00</td><td>2022/05/20 11:24:09</td><td>NA</td></tr>\n",
              "\t<tr><th scope=row>6</th><td>AGE UK NORTHUMBERLAND                         </td><td>19713</td><td>The Round House, Lintonville Parkway, Ashington, Northumberland, NE63 9JZ             </td><td>NE63 9JZ</td><td>03639406</td><td>88100    </td><td>-3.8</td><td>  0.0</td><td>   NA</td><td>   NA</td><td>⋯</td><td>79.0</td><td>27.0</td><td>73.0</td><td>https://www.ageuk.org.uk/northumberland/about-us/join-us/                                </td><td>Sarah Turner (Head of Finance)  </td><td>AGE UK NORTHUMBERLAND                         </td><td>False</td><td>2023/04/05 00:00:00</td><td>2022/09/26 08:29:12</td><td>NA</td></tr>\n",
              "</tbody>\n",
              "</table>\n"
            ],
            "text/markdown": "\nA data.frame: 6 × 27\n\n| <!--/--> | EmployerName &lt;chr&gt; | EmployerId &lt;int&gt; | Location &lt;chr&gt; | ZipCode &lt;chr&gt; | CompanyID &lt;chr&gt; | SicCodes &lt;chr&gt; | DiffMeanHourlyPercent &lt;dbl&gt; | DiffMedianHourlyPercent &lt;dbl&gt; | DiffMeanBonusPercent &lt;dbl&gt; | DiffMedianBonusPercent &lt;dbl&gt; | ⋯ ⋯ | FemaleUpperMiddleQuartile &lt;dbl&gt; | MaleTopQuartile &lt;dbl&gt; | FemaleTopQuartile &lt;dbl&gt; | CompanyLinkToGPGInfo &lt;chr&gt; | ResponsiblePerson &lt;chr&gt; | CurrentName &lt;chr&gt; | SubmittedAfterTheDeadline &lt;chr&gt; | DueDate &lt;chr&gt; | DateSubmitted &lt;chr&gt; | EmployerSize &lt;lgl&gt; |\n|---|---|---|---|---|---|---|---|---|---|---|---|---|---|---|---|---|---|---|---|---|---|\n| 1 | A.J.N. STEELSTOCK LTD.                         | 14835 | Icknield Way, Kentford, Newmarket, Suffolk, CB8 7QT                                    | CB8 7QT  | 00689647 | 46720     | 16.2 |   3.3 | -20.0 |   0.0 | ⋯ | 10.8 | 87.1 | 12.9 | https://www.ajnsteelstock.co.uk/wp-content/uploads/2022/10/2022-Gender-Pay-Gap-Report.pdf | Courtney Bell (FD)               | A.J.N. STEELSTOCK LTD.                         | False | 2023/04/05 00:00:00 | 2022/10/11 15:34:17 | NA |\n| 2 | AB WORLD FOODS LIMITED                         |   764 | Weston Centre, 10 Grosvenor Street, London, W1K 4QY                                    | W1K 4QY  | 01400901 | 10890     | -8.6 | -12.3 |  10.3 | -20.8 | ⋯ | 33.7 | 44.6 | 55.4 | https://abworldfoods.com/documents/ABWF_Gender_Pay_Gap_Narrative_2022.pdf                 | Andy Mayhew (Managing Director)  | AB WORLD FOODS LIMITED                         | False | 2023/04/05 00:00:00 | 2022/09/30 09:45:25 | NA |\n| 3 | ABACUS EMPLOYMENT SERVICES LIMITED             |   767 | 1 Chequers Road, Basingstoke, Hampshire, England, RG21 7PU                             | RG21 7PU | 02638307 | 78200     | -3.0 |   3.2 |    NA |    NA | ⋯ | 21.5 | 80.9 | 19.1 | http://www.abacus-employment.com                                                          | Phil James (Finance Manager)     | ABACUS EMPLOYMENT SERVICES LIMITED             | False | 2023/04/05 00:00:00 | 2022/04/13 14:57:04 | NA |\n| 4 | Advisory, Conciliation and Arbitration Service |   496 | 8th Floor, Windsor House, 50 Victoria Street, London, London, United Kingdom, SW1H 0TL | SW1H 0TL | <!----> | 1,\n84110 |  7.2 |   6.1 |  19.4 |   9.9 | ⋯ | 63.2 | 51.8 | 48.2 | https://www.acas.org.uk/acas-gender-pay-report/2021-to-2022-report                        | <!----> | Advisory, Conciliation and Arbitration Service | False | 2023/03/31 00:00:00 | 2022/08/01 13:15:17 | NA |\n| 5 | AFH INDEPENDENT FINANCIAL SERVICES LIMITED     | 19364 | Afh House Buntsford Drive, Stoke Heath, Bromsgrove, Worcestershire, B60 4JE            | B60 4JE  | 04049180 | 64999     | 25.0 |  32.0 | -33.0 |  69.0 | ⋯ | 59.0 | 60.0 | 40.0 | <!----> | Alison Court (Senior HR Adviser) | AFH INDEPENDENT FINANCIAL SERVICES LIMITED     | False | 2023/04/05 00:00:00 | 2022/05/20 11:24:09 | NA |\n| 6 | AGE UK NORTHUMBERLAND                          | 19713 | The Round House, Lintonville Parkway, Ashington, Northumberland, NE63 9JZ              | NE63 9JZ | 03639406 | 88100     | -3.8 |   0.0 |    NA |    NA | ⋯ | 79.0 | 27.0 | 73.0 | https://www.ageuk.org.uk/northumberland/about-us/join-us/                                 | Sarah Turner (Head of Finance)   | AGE UK NORTHUMBERLAND                          | False | 2023/04/05 00:00:00 | 2022/09/26 08:29:12 | NA |\n\n",
            "text/latex": "A data.frame: 6 × 27\n\\begin{tabular}{r|lllllllllllllllllllll}\n  & EmployerName & EmployerId & Location & ZipCode & CompanyID & SicCodes & DiffMeanHourlyPercent & DiffMedianHourlyPercent & DiffMeanBonusPercent & DiffMedianBonusPercent & ⋯ & FemaleUpperMiddleQuartile & MaleTopQuartile & FemaleTopQuartile & CompanyLinkToGPGInfo & ResponsiblePerson & CurrentName & SubmittedAfterTheDeadline & DueDate & DateSubmitted & EmployerSize\\\\\n  & <chr> & <int> & <chr> & <chr> & <chr> & <chr> & <dbl> & <dbl> & <dbl> & <dbl> & ⋯ & <dbl> & <dbl> & <dbl> & <chr> & <chr> & <chr> & <chr> & <chr> & <chr> & <lgl>\\\\\n\\hline\n\t1 & A.J.N. STEELSTOCK LTD.                         & 14835 & Icknield Way, Kentford, Newmarket, Suffolk, CB8 7QT                                    & CB8 7QT  & 00689647 & 46720     & 16.2 &   3.3 & -20.0 &   0.0 & ⋯ & 10.8 & 87.1 & 12.9 & https://www.ajnsteelstock.co.uk/wp-content/uploads/2022/10/2022-Gender-Pay-Gap-Report.pdf & Courtney Bell (FD)               & A.J.N. STEELSTOCK LTD.                         & False & 2023/04/05 00:00:00 & 2022/10/11 15:34:17 & NA\\\\\n\t2 & AB WORLD FOODS LIMITED                         &   764 & Weston Centre, 10 Grosvenor Street, London, W1K 4QY                                    & W1K 4QY  & 01400901 & 10890     & -8.6 & -12.3 &  10.3 & -20.8 & ⋯ & 33.7 & 44.6 & 55.4 & https://abworldfoods.com/documents/ABWF\\_Gender\\_Pay\\_Gap\\_Narrative\\_2022.pdf                 & Andy Mayhew (Managing Director)  & AB WORLD FOODS LIMITED                         & False & 2023/04/05 00:00:00 & 2022/09/30 09:45:25 & NA\\\\\n\t3 & ABACUS EMPLOYMENT SERVICES LIMITED             &   767 & 1 Chequers Road, Basingstoke, Hampshire, England, RG21 7PU                             & RG21 7PU & 02638307 & 78200     & -3.0 &   3.2 &    NA &    NA & ⋯ & 21.5 & 80.9 & 19.1 & http://www.abacus-employment.com                                                          & Phil James (Finance Manager)     & ABACUS EMPLOYMENT SERVICES LIMITED             & False & 2023/04/05 00:00:00 & 2022/04/13 14:57:04 & NA\\\\\n\t4 & Advisory, Conciliation and Arbitration Service &   496 & 8th Floor, Windsor House, 50 Victoria Street, London, London, United Kingdom, SW1H 0TL & SW1H 0TL &          & 1,\n84110 &  7.2 &   6.1 &  19.4 &   9.9 & ⋯ & 63.2 & 51.8 & 48.2 & https://www.acas.org.uk/acas-gender-pay-report/2021-to-2022-report                        &                                  & Advisory, Conciliation and Arbitration Service & False & 2023/03/31 00:00:00 & 2022/08/01 13:15:17 & NA\\\\\n\t5 & AFH INDEPENDENT FINANCIAL SERVICES LIMITED     & 19364 & Afh House Buntsford Drive, Stoke Heath, Bromsgrove, Worcestershire, B60 4JE            & B60 4JE  & 04049180 & 64999     & 25.0 &  32.0 & -33.0 &  69.0 & ⋯ & 59.0 & 60.0 & 40.0 &                                                                                           & Alison Court (Senior HR Adviser) & AFH INDEPENDENT FINANCIAL SERVICES LIMITED     & False & 2023/04/05 00:00:00 & 2022/05/20 11:24:09 & NA\\\\\n\t6 & AGE UK NORTHUMBERLAND                          & 19713 & The Round House, Lintonville Parkway, Ashington, Northumberland, NE63 9JZ              & NE63 9JZ & 03639406 & 88100     & -3.8 &   0.0 &    NA &    NA & ⋯ & 79.0 & 27.0 & 73.0 & https://www.ageuk.org.uk/northumberland/about-us/join-us/                                 & Sarah Turner (Head of Finance)   & AGE UK NORTHUMBERLAND                          & False & 2023/04/05 00:00:00 & 2022/09/26 08:29:12 & NA\\\\\n\\end{tabular}\n",
            "text/plain": [
              "  EmployerName                                   EmployerId\n",
              "1 A.J.N. STEELSTOCK LTD.                         14835     \n",
              "2 AB WORLD FOODS LIMITED                           764     \n",
              "3 ABACUS EMPLOYMENT SERVICES LIMITED               767     \n",
              "4 Advisory, Conciliation and Arbitration Service   496     \n",
              "5 AFH INDEPENDENT FINANCIAL SERVICES LIMITED     19364     \n",
              "6 AGE UK NORTHUMBERLAND                          19713     \n",
              "  Location                                                                              \n",
              "1 Icknield Way, Kentford, Newmarket, Suffolk, CB8 7QT                                   \n",
              "2 Weston Centre, 10 Grosvenor Street, London, W1K 4QY                                   \n",
              "3 1 Chequers Road, Basingstoke, Hampshire, England, RG21 7PU                            \n",
              "4 8th Floor, Windsor House, 50 Victoria Street, London, London, United Kingdom, SW1H 0TL\n",
              "5 Afh House Buntsford Drive, Stoke Heath, Bromsgrove, Worcestershire, B60 4JE           \n",
              "6 The Round House, Lintonville Parkway, Ashington, Northumberland, NE63 9JZ             \n",
              "  ZipCode  CompanyID SicCodes  DiffMeanHourlyPercent DiffMedianHourlyPercent\n",
              "1 CB8 7QT  00689647  46720     16.2                    3.3                  \n",
              "2 W1K 4QY  01400901  10890     -8.6                  -12.3                  \n",
              "3 RG21 7PU 02638307  78200     -3.0                    3.2                  \n",
              "4 SW1H 0TL           1,\\n84110  7.2                    6.1                  \n",
              "5 B60 4JE  04049180  64999     25.0                   32.0                  \n",
              "6 NE63 9JZ 03639406  88100     -3.8                    0.0                  \n",
              "  DiffMeanBonusPercent DiffMedianBonusPercent ⋯ FemaleUpperMiddleQuartile\n",
              "1 -20.0                  0.0                  ⋯ 10.8                     \n",
              "2  10.3                -20.8                  ⋯ 33.7                     \n",
              "3    NA                   NA                  ⋯ 21.5                     \n",
              "4  19.4                  9.9                  ⋯ 63.2                     \n",
              "5 -33.0                 69.0                  ⋯ 59.0                     \n",
              "6    NA                   NA                  ⋯ 79.0                     \n",
              "  MaleTopQuartile FemaleTopQuartile\n",
              "1 87.1            12.9             \n",
              "2 44.6            55.4             \n",
              "3 80.9            19.1             \n",
              "4 51.8            48.2             \n",
              "5 60.0            40.0             \n",
              "6 27.0            73.0             \n",
              "  CompanyLinkToGPGInfo                                                                     \n",
              "1 https://www.ajnsteelstock.co.uk/wp-content/uploads/2022/10/2022-Gender-Pay-Gap-Report.pdf\n",
              "2 https://abworldfoods.com/documents/ABWF_Gender_Pay_Gap_Narrative_2022.pdf                \n",
              "3 http://www.abacus-employment.com                                                         \n",
              "4 https://www.acas.org.uk/acas-gender-pay-report/2021-to-2022-report                       \n",
              "5                                                                                          \n",
              "6 https://www.ageuk.org.uk/northumberland/about-us/join-us/                                \n",
              "  ResponsiblePerson               \n",
              "1 Courtney Bell (FD)              \n",
              "2 Andy Mayhew (Managing Director) \n",
              "3 Phil James (Finance Manager)    \n",
              "4                                 \n",
              "5 Alison Court (Senior HR Adviser)\n",
              "6 Sarah Turner (Head of Finance)  \n",
              "  CurrentName                                    SubmittedAfterTheDeadline\n",
              "1 A.J.N. STEELSTOCK LTD.                         False                    \n",
              "2 AB WORLD FOODS LIMITED                         False                    \n",
              "3 ABACUS EMPLOYMENT SERVICES LIMITED             False                    \n",
              "4 Advisory, Conciliation and Arbitration Service False                    \n",
              "5 AFH INDEPENDENT FINANCIAL SERVICES LIMITED     False                    \n",
              "6 AGE UK NORTHUMBERLAND                          False                    \n",
              "  DueDate             DateSubmitted       EmployerSize\n",
              "1 2023/04/05 00:00:00 2022/10/11 15:34:17 NA          \n",
              "2 2023/04/05 00:00:00 2022/09/30 09:45:25 NA          \n",
              "3 2023/04/05 00:00:00 2022/04/13 14:57:04 NA          \n",
              "4 2023/03/31 00:00:00 2022/08/01 13:15:17 NA          \n",
              "5 2023/04/05 00:00:00 2022/05/20 11:24:09 NA          \n",
              "6 2023/04/05 00:00:00 2022/09/26 08:29:12 NA          "
            ]
          },
          "metadata": {}
        }
      ]
    },
    {
      "cell_type": "markdown",
      "source": [
        "# 3.1.8 Aggregating data\n",
        "\n",
        "Aggregating data is useful if you want to find summary statistics across particular categories in the data. When aggregating data you must specify your grouping variable (which should be categorical), and you must perform some function (usually a sum or mean) on the non-grouping variables (which should be numeric).\n",
        "\n",
        "There are many ways to aggregate data. One way is using group_by() to specify the grouping variable(s) and summarize() to specify the function you want to perform on the non-grouping variable(s)."
      ],
      "metadata": {
        "id": "hicz0SdXMHeX"
      }
    },
    {
      "cell_type": "code",
      "source": [
        "# E.g. to compare averages across gender, use gender as the grouping variable and calculate means for the other variables:\n",
        "\n",
        "paygap_byCompanySize <- paygap %>%\n",
        "  group_by(Location) %>%                                  # group by 'EmployerName'\n",
        "  summarize(avg_MeanBonusPercent = mean(DiffMeanBonusPercent),    # aggregate using means\n",
        "            avg_MedianHourlyPay = mean(DiffMedianHourlyPercent), \n",
        "            avg_HourlyPay = mean(DiffMeanHourlyPercent))  \n",
        "\n",
        "paygap_byCompanySize # view output"
      ],
      "metadata": {
        "colab": {
          "base_uri": "https://localhost:8080/",
          "height": 129
        },
        "id": "8j2KTE8zMQnM",
        "outputId": "53cd51c4-f27f-4cf4-8718-5911c8f0b923"
      },
      "execution_count": 201,
      "outputs": [
        {
          "output_type": "display_data",
          "data": {
            "text/html": [
              "<table class=\"dataframe\">\n",
              "<caption>A data.frame: 1 × 3</caption>\n",
              "<thead>\n",
              "\t<tr><th scope=col>avg_MeanBonusPercent</th><th scope=col>avg_MedianHourlyPay</th><th scope=col>avg_HourlyPay</th></tr>\n",
              "\t<tr><th scope=col>&lt;dbl&gt;</th><th scope=col>&lt;dbl&gt;</th><th scope=col>&lt;dbl&gt;</th></tr>\n",
              "</thead>\n",
              "<tbody>\n",
              "\t<tr><td>NA</td><td>10.92538</td><td>12.20755</td></tr>\n",
              "</tbody>\n",
              "</table>\n"
            ],
            "text/markdown": "\nA data.frame: 1 × 3\n\n| avg_MeanBonusPercent &lt;dbl&gt; | avg_MedianHourlyPay &lt;dbl&gt; | avg_HourlyPay &lt;dbl&gt; |\n|---|---|---|\n| NA | 10.92538 | 12.20755 |\n\n",
            "text/latex": "A data.frame: 1 × 3\n\\begin{tabular}{lll}\n avg\\_MeanBonusPercent & avg\\_MedianHourlyPay & avg\\_HourlyPay\\\\\n <dbl> & <dbl> & <dbl>\\\\\n\\hline\n\t NA & 10.92538 & 12.20755\\\\\n\\end{tabular}\n",
            "text/plain": [
              "  avg_MeanBonusPercent avg_MedianHourlyPay avg_HourlyPay\n",
              "1 NA                   10.92538            12.20755     "
            ]
          },
          "metadata": {}
        }
      ]
    },
    {
      "cell_type": "markdown",
      "source": [
        "# 3.1.9 Dealing with missing data\n",
        "\n",
        "If your data contains missing values (NA values), some functions may not run as expected:"
      ],
      "metadata": {
        "id": "uotxJ9OgOmeP"
      }
    },
    {
      "cell_type": "code",
      "source": [
        "some_numbers <- c(4,5,6,7,NA,8)\n",
        "mean(some_numbers)\n",
        "\n",
        "mean(some_numbers, na.rm = TRUE)"
      ],
      "metadata": {
        "colab": {
          "base_uri": "https://localhost:8080/",
          "height": 52
        },
        "id": "KIr7-ubqOmJ8",
        "outputId": "06c46701-8e6c-43f4-8829-6a80523a5fa0"
      },
      "execution_count": 204,
      "outputs": [
        {
          "output_type": "display_data",
          "data": {
            "text/html": [
              "&lt;NA&gt;"
            ],
            "text/markdown": "&lt;NA&gt;",
            "text/latex": "<NA>",
            "text/plain": [
              "[1] NA"
            ]
          },
          "metadata": {}
        },
        {
          "output_type": "display_data",
          "data": {
            "text/html": [
              "6"
            ],
            "text/markdown": "6",
            "text/latex": "6",
            "text/plain": [
              "[1] 6"
            ]
          },
          "metadata": {}
        }
      ]
    },
    {
      "cell_type": "markdown",
      "source": [
        "# 3.2 Visualizing Data\n",
        "-`ggplot2` is the main plotting library in R. Note although the package name is -`ggplot2`, the function call is simply `ggplot()`. To make a plot you need to provide `ggplot()` with two arguments, data and mapping:\n",
        "\n",
        "- `data` – the data frame you want to plot\n",
        "- `mapping` – an aesthetic mapping for variable(s) go on which axes\n",
        "\n",
        "The following examples will demonstrate how to use ggplot()."
      ],
      "metadata": {
        "id": "5Zo49tVPOtww"
      }
    },
    {
      "cell_type": "markdown",
      "source": [
        "# 3.2.1 Histograms\n",
        "\n",
        "Histograms are a good way to visualize the distribution of data, since they display the frequency (or relative frequency) of observations within specified intervals or ‘bins’.\n",
        "\n",
        "To plot a histogram you must specify + geom_histogram() after the main function call. Histograms only require one variable (for the  \n",
        "x\n",
        " -axis; the  \n",
        "y\n",
        " -axis is simply frequency).\n",
        "\n",
        "The following code plots a histogram of the variable body temperature:"
      ],
      "metadata": {
        "id": "tE-cKAH_O3m4"
      }
    },
    {
      "cell_type": "code",
      "source": [
        "# using IRIS dataset \n",
        "\n",
        "download.file('https://datahub.io/machine-learning/iris/r/iris.csv','iris.csv')\n",
        "iris <- read.csv('/content/iris.csv')"
      ],
      "metadata": {
        "id": "D410wpiwO1oU"
      },
      "execution_count": 209,
      "outputs": []
    },
    {
      "cell_type": "code",
      "source": [
        "head(iris, head=10)"
      ],
      "metadata": {
        "colab": {
          "base_uri": "https://localhost:8080/",
          "height": 286
        },
        "id": "ZMrlFj67QErD",
        "outputId": "a41d8674-85d6-40e6-89ab-1eb8c538a580"
      },
      "execution_count": 210,
      "outputs": [
        {
          "output_type": "display_data",
          "data": {
            "text/html": [
              "<table class=\"dataframe\">\n",
              "<caption>A data.frame: 6 × 5</caption>\n",
              "<thead>\n",
              "\t<tr><th></th><th scope=col>sepallength</th><th scope=col>sepalwidth</th><th scope=col>petallength</th><th scope=col>petalwidth</th><th scope=col>class</th></tr>\n",
              "\t<tr><th></th><th scope=col>&lt;dbl&gt;</th><th scope=col>&lt;dbl&gt;</th><th scope=col>&lt;dbl&gt;</th><th scope=col>&lt;dbl&gt;</th><th scope=col>&lt;chr&gt;</th></tr>\n",
              "</thead>\n",
              "<tbody>\n",
              "\t<tr><th scope=row>1</th><td>5.1</td><td>3.5</td><td>1.4</td><td>0.2</td><td>Iris-setosa</td></tr>\n",
              "\t<tr><th scope=row>2</th><td>4.9</td><td>3.0</td><td>1.4</td><td>0.2</td><td>Iris-setosa</td></tr>\n",
              "\t<tr><th scope=row>3</th><td>4.7</td><td>3.2</td><td>1.3</td><td>0.2</td><td>Iris-setosa</td></tr>\n",
              "\t<tr><th scope=row>4</th><td>4.6</td><td>3.1</td><td>1.5</td><td>0.2</td><td>Iris-setosa</td></tr>\n",
              "\t<tr><th scope=row>5</th><td>5.0</td><td>3.6</td><td>1.4</td><td>0.2</td><td>Iris-setosa</td></tr>\n",
              "\t<tr><th scope=row>6</th><td>5.4</td><td>3.9</td><td>1.7</td><td>0.4</td><td>Iris-setosa</td></tr>\n",
              "</tbody>\n",
              "</table>\n"
            ],
            "text/markdown": "\nA data.frame: 6 × 5\n\n| <!--/--> | sepallength &lt;dbl&gt; | sepalwidth &lt;dbl&gt; | petallength &lt;dbl&gt; | petalwidth &lt;dbl&gt; | class &lt;chr&gt; |\n|---|---|---|---|---|---|\n| 1 | 5.1 | 3.5 | 1.4 | 0.2 | Iris-setosa |\n| 2 | 4.9 | 3.0 | 1.4 | 0.2 | Iris-setosa |\n| 3 | 4.7 | 3.2 | 1.3 | 0.2 | Iris-setosa |\n| 4 | 4.6 | 3.1 | 1.5 | 0.2 | Iris-setosa |\n| 5 | 5.0 | 3.6 | 1.4 | 0.2 | Iris-setosa |\n| 6 | 5.4 | 3.9 | 1.7 | 0.4 | Iris-setosa |\n\n",
            "text/latex": "A data.frame: 6 × 5\n\\begin{tabular}{r|lllll}\n  & sepallength & sepalwidth & petallength & petalwidth & class\\\\\n  & <dbl> & <dbl> & <dbl> & <dbl> & <chr>\\\\\n\\hline\n\t1 & 5.1 & 3.5 & 1.4 & 0.2 & Iris-setosa\\\\\n\t2 & 4.9 & 3.0 & 1.4 & 0.2 & Iris-setosa\\\\\n\t3 & 4.7 & 3.2 & 1.3 & 0.2 & Iris-setosa\\\\\n\t4 & 4.6 & 3.1 & 1.5 & 0.2 & Iris-setosa\\\\\n\t5 & 5.0 & 3.6 & 1.4 & 0.2 & Iris-setosa\\\\\n\t6 & 5.4 & 3.9 & 1.7 & 0.4 & Iris-setosa\\\\\n\\end{tabular}\n",
            "text/plain": [
              "  sepallength sepalwidth petallength petalwidth class      \n",
              "1 5.1         3.5        1.4         0.2        Iris-setosa\n",
              "2 4.9         3.0        1.4         0.2        Iris-setosa\n",
              "3 4.7         3.2        1.3         0.2        Iris-setosa\n",
              "4 4.6         3.1        1.5         0.2        Iris-setosa\n",
              "5 5.0         3.6        1.4         0.2        Iris-setosa\n",
              "6 5.4         3.9        1.7         0.4        Iris-setosa"
            ]
          },
          "metadata": {}
        }
      ]
    },
    {
      "cell_type": "code",
      "source": [
        "ggplot(data = iris, mapping = aes(x = sepallength)) + \n",
        "  geom_histogram(bins = 20)"
      ],
      "metadata": {
        "colab": {
          "base_uri": "https://localhost:8080/",
          "height": 437
        },
        "id": "qex-ZfZnP9b1",
        "outputId": "a1e4f807-7362-4dfd-aff5-d8fe300cbc07"
      },
      "execution_count": 211,
      "outputs": [
        {
          "output_type": "display_data",
          "data": {
            "text/plain": [
              "plot without title"
            ],
            "image/png": "[encoded data removed]"
          },
          "metadata": {
            "image/png": {
              "width": 420,
              "height": 420
            }
          }
        }
      ]
    },
    {
      "cell_type": "code",
      "source": [
        "# You can make the plot prettier by adding axis labels and changing the colors and theme:\n",
        "# If you want relative frequency on the  y-axis (a density plot) you can specify the aesthetic mapping y = ..density.. in geom_histogram():\n",
        "\n",
        "ggplot(data = iris, mapping = aes(x = petallength)) + \n",
        "  geom_histogram(bins = 10, aes(y = ..density.. ), fill = 'lightpink') + # bin = size\n",
        "  xlab('Petal Length') + # name of x-axis\n",
        "  ggtitle('Distribution of Petal Lengths') + # name of table\n",
        "  theme_light()"
      ],
      "metadata": {
        "colab": {
          "base_uri": "https://localhost:8080/",
          "height": 437
        },
        "id": "aoEPwnfIQeL7",
        "outputId": "b4af795d-3327-48bc-b79b-8645c9e900ae"
      },
      "execution_count": 218,
      "outputs": [
        {
          "output_type": "display_data",
          "data": {
            "text/plain": [
              "plot without title"
            ],
            "image/png": "[encoded data removed]"
          },
          "metadata": {
            "image/png": {
              "width": 420,
              "height": 420
            }
          }
        }
      ]
    },
    {
      "cell_type": "markdown",
      "source": [
        "# 3.2.2 Scatterplots\n",
        "Scatterplots require two variables–one for  ***x*** and one for  ***y***. To make a scatterplot you must specify + `geom_point()` after the main function call."
      ],
      "metadata": {
        "id": "Y43zfKAgRz7o"
      }
    },
    {
      "cell_type": "code",
      "source": [
        "# scatterplot of petal sizes\n",
        "# use color = class to distinguish by flower type\n",
        "\n",
        "ggplot(data = iris, mapping = aes(x = petallength, y = petalwidth, color = class)) + \n",
        "  geom_point() +\n",
        "  theme_light()"
      ],
      "metadata": {
        "colab": {
          "base_uri": "https://localhost:8080/",
          "height": 437
        },
        "id": "0e4KlE9SRzVO",
        "outputId": "0635f703-ccf6-419e-c33e-39f6dfd6a97d"
      },
      "execution_count": 221,
      "outputs": [
        {
          "output_type": "display_data",
          "data": {
            "text/plain": [
              "plot without title"
            ],
            "image/png": "[encoded data removed]"
          },
          "metadata": {
            "image/png": {
              "width": 420,
              "height": 420
            }
          }
        }
      ]
    },
    {
      "cell_type": "markdown",
      "source": [
        "# 3.2.3 Box & Whisker Plots\n",
        "\n",
        "Box and whisker plots require two variables; one should be categorical and the other should be numeric. To make a box and whisker plot you must specify + geom_boxplot() after the main function c"
      ],
      "metadata": {
        "id": "bjjT4PvgSkmn"
      }
    },
    {
      "cell_type": "code",
      "source": [
        "ggplot(data = iris, mapping = aes(x = class, y = sepalwidth)) +\n",
        "  geom_boxplot() +\n",
        "  xlab('Flower Class') +   ## name of x-axis\n",
        "  ylab('Sepal Width') +    ## name of y-axis  \n",
        "  theme_dark()\n",
        "\n",
        "\n",
        "  # You can see R marks outliers (values substantially outside the interquartile range) as separate points."
      ],
      "metadata": {
        "colab": {
          "base_uri": "https://localhost:8080/",
          "height": 437
        },
        "id": "g_6EHt0mSnR8",
        "outputId": "59837abe-e668-4223-cd63-772a0c93edf7"
      },
      "execution_count": 223,
      "outputs": [
        {
          "output_type": "display_data",
          "data": {
            "text/plain": [
              "plot without title"
            ],
            "image/png": "[encoded data removed]"
          },
          "metadata": {
            "image/png": {
              "width": 420,
              "height": 420
            }
          }
        }
      ]
    }
  ]
}